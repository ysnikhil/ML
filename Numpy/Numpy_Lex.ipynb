{
 "cells": [
  {
   "cell_type": "markdown",
   "id": "c04d47db",
   "metadata": {},
   "source": [
    "## Additional Operation Quiz 2"
   ]
  },
  {
   "cell_type": "code",
   "execution_count": 8,
   "id": "10181581",
   "metadata": {},
   "outputs": [],
   "source": [
    "import numpy as np"
   ]
  },
  {
   "cell_type": "code",
   "execution_count": 9,
   "id": "15916c91",
   "metadata": {},
   "outputs": [
    {
     "ename": "SyntaxError",
     "evalue": "invalid token (3854868759.py, line 4)",
     "output_type": "error",
     "traceback": [
      "\u001b[1;36m  File \u001b[1;32m\"C:\\Users\\nikhi\\AppData\\Local\\Temp\\ipykernel_9532\\3854868759.py\"\u001b[1;36m, line \u001b[1;32m4\u001b[0m\n\u001b[1;33m    print(mat1.sum(axis = 01).shape)\u001b[0m\n\u001b[1;37m                           ^\u001b[0m\n\u001b[1;31mSyntaxError\u001b[0m\u001b[1;31m:\u001b[0m invalid token\n"
     ]
    }
   ],
   "source": [
    "mat1 = np.matrix([[111, 1322],\n",
    "                  [785, 554]])\n",
    "\n",
    "print(mat1.sum(axis = 01).shape)\n",
    "print(mat1.sum(axis = 1).shape)"
   ]
  },
  {
   "cell_type": "markdown",
   "id": "41ccd438",
   "metadata": {},
   "source": [
    "#### Reason - Because there is no axis called 01 in numpy. We have either 0 or 1"
   ]
  },
  {
   "cell_type": "code",
   "execution_count": 10,
   "id": "0b8937f9",
   "metadata": {},
   "outputs": [
    {
     "name": "stdout",
     "output_type": "stream",
     "text": [
      "[16 12]\n"
     ]
    }
   ],
   "source": [
    "# Find the output of the following code:\n",
    "\n",
    "arr = np.array([10,5,6,7]).reshape(2,-1)\n",
    "print(arr.sum(axis = 0))"
   ]
  },
  {
   "cell_type": "markdown",
   "id": "c4bc055c",
   "metadata": {},
   "source": [
    "#### Reason - The -1 in the numpy shape indicates an unknown dimension(rows, columns). This gives numpy the flexibility to  come up with the best value for that dimension, provided the other dimension is given and its not negative. For eg. in this case, the array was [10,5,6,7].  So, if we give reshape(2,-1), then the row dimension has fixed value as 2, which means the array should have 2 rows but column value is specified as -1 which means numpy can decide the best value for the columns, which is compatible with the total number of elements and the number of rows already provided. In this case it will pick 2.\n",
    "\n",
    "#### It will never have (-1,-1) because this means both the dimensions are unknown. Which is an error. We can specify only 1 unknown dimension. Below link has the best details.\n",
    "\n",
    "https://stackoverflow.com/questions/18691084/what-does-1-mean-in-numpy-reshape\n"
   ]
  },
  {
   "cell_type": "code",
   "execution_count": 11,
   "id": "cd72b26c",
   "metadata": {},
   "outputs": [
    {
     "ename": "ValueError",
     "evalue": "can only specify one unknown dimension",
     "output_type": "error",
     "traceback": [
      "\u001b[1;31m---------------------------------------------------------------------------\u001b[0m",
      "\u001b[1;31mValueError\u001b[0m                                Traceback (most recent call last)",
      "\u001b[1;32m~\\AppData\\Local\\Temp\\ipykernel_9532\\2886891376.py\u001b[0m in \u001b[0;36m<module>\u001b[1;34m\u001b[0m\n\u001b[1;32m----> 1\u001b[1;33m \u001b[0marr\u001b[0m \u001b[1;33m=\u001b[0m \u001b[0mnp\u001b[0m\u001b[1;33m.\u001b[0m\u001b[0marray\u001b[0m\u001b[1;33m(\u001b[0m\u001b[1;33m[\u001b[0m\u001b[1;36m10\u001b[0m\u001b[1;33m,\u001b[0m\u001b[1;36m5\u001b[0m\u001b[1;33m,\u001b[0m\u001b[1;36m6\u001b[0m\u001b[1;33m,\u001b[0m\u001b[1;36m7\u001b[0m\u001b[1;33m]\u001b[0m\u001b[1;33m)\u001b[0m\u001b[1;33m.\u001b[0m\u001b[0mreshape\u001b[0m\u001b[1;33m(\u001b[0m\u001b[1;33m-\u001b[0m\u001b[1;36m1\u001b[0m\u001b[1;33m,\u001b[0m\u001b[1;33m-\u001b[0m\u001b[1;36m1\u001b[0m\u001b[1;33m)\u001b[0m\u001b[1;33m\u001b[0m\u001b[1;33m\u001b[0m\u001b[0m\n\u001b[0m",
      "\u001b[1;31mValueError\u001b[0m: can only specify one unknown dimension"
     ]
    }
   ],
   "source": [
    "arr = np.array([10,5,6,7]).reshape(-1,-1)"
   ]
  }
 ],
 "metadata": {
  "kernelspec": {
   "display_name": "Python 3 (ipykernel)",
   "language": "python",
   "name": "python3"
  },
  "language_info": {
   "codemirror_mode": {
    "name": "ipython",
    "version": 3
   },
   "file_extension": ".py",
   "mimetype": "text/x-python",
   "name": "python",
   "nbconvert_exporter": "python",
   "pygments_lexer": "ipython3",
   "version": "3.7.13"
  }
 },
 "nbformat": 4,
 "nbformat_minor": 5
}
