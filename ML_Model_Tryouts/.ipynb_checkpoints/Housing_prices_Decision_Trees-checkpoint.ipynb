{
 "cells": [
  {
   "cell_type": "code",
   "execution_count": 1,
   "metadata": {},
   "outputs": [],
   "source": [
    "import pandas as pd\n",
    "import numpy as np\n",
    "from sklearn.model_selection import train_test_split, cross_val_score\n",
    "from sklearn.tree import DecisionTreeRegressor\n",
    "from sklearn.metrics import mean_absolute_error, mean_squared_error\n",
    "import matplotlib.pyplot as plt\n",
    "from sklearn import tree\n",
    "import matplotlib.pyplot as plt"
   ]
  },
  {
   "cell_type": "code",
   "execution_count": 2,
   "metadata": {},
   "outputs": [],
   "source": [
    "df_housing_prices=pd.read_csv(r\"D:\\study\\ML\\hands_on\\housing_prices\\housing_price_data_after_cleanup.csv\")"
   ]
  },
  {
   "cell_type": "code",
   "execution_count": 3,
   "metadata": {},
   "outputs": [
    {
     "data": {
      "text/html": [
       "<div>\n",
       "<style scoped>\n",
       "    .dataframe tbody tr th:only-of-type {\n",
       "        vertical-align: middle;\n",
       "    }\n",
       "\n",
       "    .dataframe tbody tr th {\n",
       "        vertical-align: top;\n",
       "    }\n",
       "\n",
       "    .dataframe thead th {\n",
       "        text-align: right;\n",
       "    }\n",
       "</style>\n",
       "<table border=\"1\" class=\"dataframe\">\n",
       "  <thead>\n",
       "    <tr style=\"text-align: right;\">\n",
       "      <th></th>\n",
       "      <th>Id</th>\n",
       "      <th>MSSubClass</th>\n",
       "      <th>MSZoning</th>\n",
       "      <th>LotArea</th>\n",
       "      <th>Street</th>\n",
       "      <th>LotShape</th>\n",
       "      <th>LandContour</th>\n",
       "      <th>Utilities</th>\n",
       "      <th>LotConfig</th>\n",
       "      <th>LandSlope</th>\n",
       "      <th>...</th>\n",
       "      <th>EnclosedPorch</th>\n",
       "      <th>3SsnPorch</th>\n",
       "      <th>ScreenPorch</th>\n",
       "      <th>PoolArea</th>\n",
       "      <th>MiscVal</th>\n",
       "      <th>MoSold</th>\n",
       "      <th>YrSold</th>\n",
       "      <th>SaleType</th>\n",
       "      <th>SaleCondition</th>\n",
       "      <th>SalePrice</th>\n",
       "    </tr>\n",
       "  </thead>\n",
       "  <tbody>\n",
       "    <tr>\n",
       "      <th>0</th>\n",
       "      <td>93</td>\n",
       "      <td>30</td>\n",
       "      <td>3.0</td>\n",
       "      <td>13360</td>\n",
       "      <td>1.0</td>\n",
       "      <td>0.0</td>\n",
       "      <td>1.0</td>\n",
       "      <td>0.0</td>\n",
       "      <td>4.0</td>\n",
       "      <td>0.0</td>\n",
       "      <td>...</td>\n",
       "      <td>44</td>\n",
       "      <td>0</td>\n",
       "      <td>0</td>\n",
       "      <td>0</td>\n",
       "      <td>0</td>\n",
       "      <td>8</td>\n",
       "      <td>2009</td>\n",
       "      <td>8.0</td>\n",
       "      <td>4.0</td>\n",
       "      <td>12.004568</td>\n",
       "    </tr>\n",
       "    <tr>\n",
       "      <th>1</th>\n",
       "      <td>839</td>\n",
       "      <td>20</td>\n",
       "      <td>3.0</td>\n",
       "      <td>9525</td>\n",
       "      <td>1.0</td>\n",
       "      <td>3.0</td>\n",
       "      <td>3.0</td>\n",
       "      <td>0.0</td>\n",
       "      <td>4.0</td>\n",
       "      <td>0.0</td>\n",
       "      <td>...</td>\n",
       "      <td>0</td>\n",
       "      <td>0</td>\n",
       "      <td>0</td>\n",
       "      <td>0</td>\n",
       "      <td>0</td>\n",
       "      <td>6</td>\n",
       "      <td>2008</td>\n",
       "      <td>8.0</td>\n",
       "      <td>4.0</td>\n",
       "      <td>11.877569</td>\n",
       "    </tr>\n",
       "    <tr>\n",
       "      <th>2</th>\n",
       "      <td>361</td>\n",
       "      <td>85</td>\n",
       "      <td>3.0</td>\n",
       "      <td>7540</td>\n",
       "      <td>1.0</td>\n",
       "      <td>0.0</td>\n",
       "      <td>3.0</td>\n",
       "      <td>0.0</td>\n",
       "      <td>1.0</td>\n",
       "      <td>0.0</td>\n",
       "      <td>...</td>\n",
       "      <td>0</td>\n",
       "      <td>0</td>\n",
       "      <td>192</td>\n",
       "      <td>0</td>\n",
       "      <td>0</td>\n",
       "      <td>6</td>\n",
       "      <td>2007</td>\n",
       "      <td>8.0</td>\n",
       "      <td>4.0</td>\n",
       "      <td>11.957611</td>\n",
       "    </tr>\n",
       "    <tr>\n",
       "      <th>3</th>\n",
       "      <td>666</td>\n",
       "      <td>60</td>\n",
       "      <td>3.0</td>\n",
       "      <td>11194</td>\n",
       "      <td>1.0</td>\n",
       "      <td>0.0</td>\n",
       "      <td>3.0</td>\n",
       "      <td>0.0</td>\n",
       "      <td>0.0</td>\n",
       "      <td>0.0</td>\n",
       "      <td>...</td>\n",
       "      <td>0</td>\n",
       "      <td>0</td>\n",
       "      <td>0</td>\n",
       "      <td>0</td>\n",
       "      <td>0</td>\n",
       "      <td>11</td>\n",
       "      <td>2006</td>\n",
       "      <td>8.0</td>\n",
       "      <td>4.0</td>\n",
       "      <td>12.348006</td>\n",
       "    </tr>\n",
       "    <tr>\n",
       "      <th>4</th>\n",
       "      <td>41</td>\n",
       "      <td>20</td>\n",
       "      <td>3.0</td>\n",
       "      <td>8658</td>\n",
       "      <td>1.0</td>\n",
       "      <td>3.0</td>\n",
       "      <td>3.0</td>\n",
       "      <td>0.0</td>\n",
       "      <td>4.0</td>\n",
       "      <td>0.0</td>\n",
       "      <td>...</td>\n",
       "      <td>0</td>\n",
       "      <td>0</td>\n",
       "      <td>0</td>\n",
       "      <td>0</td>\n",
       "      <td>0</td>\n",
       "      <td>12</td>\n",
       "      <td>2006</td>\n",
       "      <td>8.0</td>\n",
       "      <td>0.0</td>\n",
       "      <td>11.982929</td>\n",
       "    </tr>\n",
       "    <tr>\n",
       "      <th>...</th>\n",
       "      <td>...</td>\n",
       "      <td>...</td>\n",
       "      <td>...</td>\n",
       "      <td>...</td>\n",
       "      <td>...</td>\n",
       "      <td>...</td>\n",
       "      <td>...</td>\n",
       "      <td>...</td>\n",
       "      <td>...</td>\n",
       "      <td>...</td>\n",
       "      <td>...</td>\n",
       "      <td>...</td>\n",
       "      <td>...</td>\n",
       "      <td>...</td>\n",
       "      <td>...</td>\n",
       "      <td>...</td>\n",
       "      <td>...</td>\n",
       "      <td>...</td>\n",
       "      <td>...</td>\n",
       "      <td>...</td>\n",
       "      <td>...</td>\n",
       "    </tr>\n",
       "    <tr>\n",
       "      <th>1454</th>\n",
       "      <td>847</td>\n",
       "      <td>60</td>\n",
       "      <td>3.0</td>\n",
       "      <td>9317</td>\n",
       "      <td>1.0</td>\n",
       "      <td>3.0</td>\n",
       "      <td>3.0</td>\n",
       "      <td>0.0</td>\n",
       "      <td>4.0</td>\n",
       "      <td>0.0</td>\n",
       "      <td>...</td>\n",
       "      <td>192</td>\n",
       "      <td>0</td>\n",
       "      <td>0</td>\n",
       "      <td>0</td>\n",
       "      <td>0</td>\n",
       "      <td>7</td>\n",
       "      <td>2009</td>\n",
       "      <td>8.0</td>\n",
       "      <td>4.0</td>\n",
       "      <td>12.269047</td>\n",
       "    </tr>\n",
       "    <tr>\n",
       "      <th>1455</th>\n",
       "      <td>1075</td>\n",
       "      <td>20</td>\n",
       "      <td>3.0</td>\n",
       "      <td>8556</td>\n",
       "      <td>1.0</td>\n",
       "      <td>3.0</td>\n",
       "      <td>3.0</td>\n",
       "      <td>0.0</td>\n",
       "      <td>4.0</td>\n",
       "      <td>0.0</td>\n",
       "      <td>...</td>\n",
       "      <td>0</td>\n",
       "      <td>0</td>\n",
       "      <td>0</td>\n",
       "      <td>0</td>\n",
       "      <td>0</td>\n",
       "      <td>5</td>\n",
       "      <td>2007</td>\n",
       "      <td>8.0</td>\n",
       "      <td>4.0</td>\n",
       "      <td>12.175613</td>\n",
       "    </tr>\n",
       "    <tr>\n",
       "      <th>1456</th>\n",
       "      <td>62</td>\n",
       "      <td>75</td>\n",
       "      <td>4.0</td>\n",
       "      <td>7200</td>\n",
       "      <td>1.0</td>\n",
       "      <td>3.0</td>\n",
       "      <td>3.0</td>\n",
       "      <td>0.0</td>\n",
       "      <td>4.0</td>\n",
       "      <td>0.0</td>\n",
       "      <td>...</td>\n",
       "      <td>144</td>\n",
       "      <td>0</td>\n",
       "      <td>0</td>\n",
       "      <td>0</td>\n",
       "      <td>0</td>\n",
       "      <td>3</td>\n",
       "      <td>2007</td>\n",
       "      <td>8.0</td>\n",
       "      <td>4.0</td>\n",
       "      <td>11.522876</td>\n",
       "    </tr>\n",
       "    <tr>\n",
       "      <th>1457</th>\n",
       "      <td>501</td>\n",
       "      <td>160</td>\n",
       "      <td>4.0</td>\n",
       "      <td>1890</td>\n",
       "      <td>1.0</td>\n",
       "      <td>3.0</td>\n",
       "      <td>3.0</td>\n",
       "      <td>0.0</td>\n",
       "      <td>4.0</td>\n",
       "      <td>0.0</td>\n",
       "      <td>...</td>\n",
       "      <td>0</td>\n",
       "      <td>0</td>\n",
       "      <td>0</td>\n",
       "      <td>0</td>\n",
       "      <td>0</td>\n",
       "      <td>5</td>\n",
       "      <td>2007</td>\n",
       "      <td>8.0</td>\n",
       "      <td>4.0</td>\n",
       "      <td>11.635143</td>\n",
       "    </tr>\n",
       "    <tr>\n",
       "      <th>1458</th>\n",
       "      <td>989</td>\n",
       "      <td>60</td>\n",
       "      <td>3.0</td>\n",
       "      <td>12046</td>\n",
       "      <td>1.0</td>\n",
       "      <td>0.0</td>\n",
       "      <td>3.0</td>\n",
       "      <td>0.0</td>\n",
       "      <td>4.0</td>\n",
       "      <td>0.0</td>\n",
       "      <td>...</td>\n",
       "      <td>0</td>\n",
       "      <td>0</td>\n",
       "      <td>0</td>\n",
       "      <td>0</td>\n",
       "      <td>0</td>\n",
       "      <td>6</td>\n",
       "      <td>2007</td>\n",
       "      <td>8.0</td>\n",
       "      <td>4.0</td>\n",
       "      <td>12.180755</td>\n",
       "    </tr>\n",
       "  </tbody>\n",
       "</table>\n",
       "<p>1459 rows × 63 columns</p>\n",
       "</div>"
      ],
      "text/plain": [
       "        Id  MSSubClass  MSZoning  LotArea  Street  LotShape  LandContour  \\\n",
       "0       93          30       3.0    13360     1.0       0.0          1.0   \n",
       "1      839          20       3.0     9525     1.0       3.0          3.0   \n",
       "2      361          85       3.0     7540     1.0       0.0          3.0   \n",
       "3      666          60       3.0    11194     1.0       0.0          3.0   \n",
       "4       41          20       3.0     8658     1.0       3.0          3.0   \n",
       "...    ...         ...       ...      ...     ...       ...          ...   \n",
       "1454   847          60       3.0     9317     1.0       3.0          3.0   \n",
       "1455  1075          20       3.0     8556     1.0       3.0          3.0   \n",
       "1456    62          75       4.0     7200     1.0       3.0          3.0   \n",
       "1457   501         160       4.0     1890     1.0       3.0          3.0   \n",
       "1458   989          60       3.0    12046     1.0       0.0          3.0   \n",
       "\n",
       "      Utilities  LotConfig  LandSlope  ...  EnclosedPorch  3SsnPorch  \\\n",
       "0           0.0        4.0        0.0  ...             44          0   \n",
       "1           0.0        4.0        0.0  ...              0          0   \n",
       "2           0.0        1.0        0.0  ...              0          0   \n",
       "3           0.0        0.0        0.0  ...              0          0   \n",
       "4           0.0        4.0        0.0  ...              0          0   \n",
       "...         ...        ...        ...  ...            ...        ...   \n",
       "1454        0.0        4.0        0.0  ...            192          0   \n",
       "1455        0.0        4.0        0.0  ...              0          0   \n",
       "1456        0.0        4.0        0.0  ...            144          0   \n",
       "1457        0.0        4.0        0.0  ...              0          0   \n",
       "1458        0.0        4.0        0.0  ...              0          0   \n",
       "\n",
       "      ScreenPorch  PoolArea  MiscVal  MoSold  YrSold  SaleType  SaleCondition  \\\n",
       "0               0         0        0       8    2009       8.0            4.0   \n",
       "1               0         0        0       6    2008       8.0            4.0   \n",
       "2             192         0        0       6    2007       8.0            4.0   \n",
       "3               0         0        0      11    2006       8.0            4.0   \n",
       "4               0         0        0      12    2006       8.0            0.0   \n",
       "...           ...       ...      ...     ...     ...       ...            ...   \n",
       "1454            0         0        0       7    2009       8.0            4.0   \n",
       "1455            0         0        0       5    2007       8.0            4.0   \n",
       "1456            0         0        0       3    2007       8.0            4.0   \n",
       "1457            0         0        0       5    2007       8.0            4.0   \n",
       "1458            0         0        0       6    2007       8.0            4.0   \n",
       "\n",
       "      SalePrice  \n",
       "0     12.004568  \n",
       "1     11.877569  \n",
       "2     11.957611  \n",
       "3     12.348006  \n",
       "4     11.982929  \n",
       "...         ...  \n",
       "1454  12.269047  \n",
       "1455  12.175613  \n",
       "1456  11.522876  \n",
       "1457  11.635143  \n",
       "1458  12.180755  \n",
       "\n",
       "[1459 rows x 63 columns]"
      ]
     },
     "execution_count": 3,
     "metadata": {},
     "output_type": "execute_result"
    }
   ],
   "source": [
    "df_housing_prices"
   ]
  },
  {
   "cell_type": "markdown",
   "metadata": {},
   "source": [
    "# Making the final dataframes for the machine learning process"
   ]
  },
  {
   "cell_type": "code",
   "execution_count": 4,
   "metadata": {},
   "outputs": [],
   "source": [
    "X=df_housing_prices.drop(labels=['SalePrice'],axis=1)\n",
    "y=df_housing_prices['SalePrice']"
   ]
  },
  {
   "cell_type": "code",
   "execution_count": 5,
   "metadata": {},
   "outputs": [
    {
     "data": {
      "text/plain": [
       "(1459, 63)"
      ]
     },
     "execution_count": 5,
     "metadata": {},
     "output_type": "execute_result"
    }
   ],
   "source": [
    "df_housing_prices.shape"
   ]
  },
  {
   "cell_type": "code",
   "execution_count": 6,
   "metadata": {},
   "outputs": [
    {
     "name": "stdout",
     "output_type": "stream",
     "text": [
      "(1459, 62)\n",
      "(1459,)\n"
     ]
    }
   ],
   "source": [
    "print(X.shape)\n",
    "print(y.shape)"
   ]
  },
  {
   "cell_type": "markdown",
   "metadata": {},
   "source": [
    "## Splitting the Data"
   ]
  },
  {
   "cell_type": "code",
   "execution_count": 30,
   "metadata": {},
   "outputs": [],
   "source": [
    "X_train,X_test,y_train,y_test=train_test_split(X,y,test_size=.2,random_state=1)"
   ]
  },
  {
   "cell_type": "code",
   "execution_count": 31,
   "metadata": {},
   "outputs": [
    {
     "name": "stdout",
     "output_type": "stream",
     "text": [
      "(1167, 62)\n",
      "(292, 62)\n"
     ]
    }
   ],
   "source": [
    "print(X_train.shape)\n",
    "print(X_test.shape)"
   ]
  },
  {
   "cell_type": "markdown",
   "metadata": {},
   "source": [
    "## Building Helper Function to calculate the Mean Absolute Error"
   ]
  },
  {
   "cell_type": "code",
   "execution_count": 32,
   "metadata": {},
   "outputs": [],
   "source": [
    "def mae(y_predict,y_test):\n",
    "    return mean_absolute_error(y_predict,y_test)\n",
    "    "
   ]
  },
  {
   "cell_type": "markdown",
   "metadata": {},
   "source": [
    "## Decision Trees"
   ]
  },
  {
   "cell_type": "markdown",
   "metadata": {},
   "source": [
    "#### Calling the decision trees without any hyperparameter tuning"
   ]
  },
  {
   "cell_type": "code",
   "execution_count": 10,
   "metadata": {},
   "outputs": [],
   "source": [
    "DTR=DecisionTreeRegressor()"
   ]
  },
  {
   "cell_type": "code",
   "execution_count": 11,
   "metadata": {},
   "outputs": [
    {
     "data": {
      "text/plain": [
       "DecisionTreeRegressor()"
      ]
     },
     "execution_count": 11,
     "metadata": {},
     "output_type": "execute_result"
    }
   ],
   "source": [
    "DTR.fit(X_train,y_train)"
   ]
  },
  {
   "cell_type": "code",
   "execution_count": 12,
   "metadata": {},
   "outputs": [],
   "source": [
    "y_predict_train=DTR.predict(X_train)"
   ]
  },
  {
   "cell_type": "code",
   "execution_count": 13,
   "metadata": {},
   "outputs": [],
   "source": [
    "y_predict=DTR.predict(X_test)"
   ]
  },
  {
   "cell_type": "code",
   "execution_count": 14,
   "metadata": {},
   "outputs": [
    {
     "data": {
      "text/plain": [
       "0.0"
      ]
     },
     "execution_count": 14,
     "metadata": {},
     "output_type": "execute_result"
    }
   ],
   "source": [
    "# Calling the helper function and calculating the mean absolute error for train and test predictions to capture how good\n",
    "# are we doing to predict the data.\n",
    "mae(y_predict_train,y_train)"
   ]
  },
  {
   "cell_type": "code",
   "execution_count": 15,
   "metadata": {},
   "outputs": [
    {
     "data": {
      "text/plain": [
       "0.1400917046949666"
      ]
     },
     "execution_count": 15,
     "metadata": {},
     "output_type": "execute_result"
    }
   ],
   "source": [
    "# Calculate mae for test predictions\n",
    "mae(y_predict,y_test)"
   ]
  },
  {
   "cell_type": "code",
   "execution_count": 25,
   "metadata": {
    "collapsed": true
   },
   "outputs": [
    {
     "data": {
      "text/plain": [
       "[Text(0.5317796851416545, 0.9782608695652174, 'X[15] <= 6.5\\nsquared_error = 0.16\\nsamples = 1167\\nvalue = 12.018'),\n",
       " Text(0.21837139952517295, 0.9347826086956522, 'X[15] <= 4.5\\nsquared_error = 0.085\\nsamples = 725\\nvalue = 11.806'),\n",
       " Text(0.037511660145622266, 0.8913043478260869, 'X[34] <= 732.5\\nsquared_error = 0.102\\nsamples = 117\\nvalue = 11.478'),\n",
       " Text(0.009341072215168554, 0.8478260869565217, 'X[2] <= 1.5\\nsquared_error = 0.131\\nsamples = 27\\nvalue = 11.159'),\n",
       " Text(0.0016583318218329748, 0.8043478260869565, 'X[14] <= 1.0\\nsquared_error = 0.076\\nsamples = 4\\nvalue = 10.665'),\n",
       " Text(0.0008291659109164874, 0.7608695652173914, 'squared_error = 0.0\\nsamples = 1\\nvalue = 11.133'),\n",
       " Text(0.002487497732749462, 0.7608695652173914, 'X[0] <= 263.5\\nsquared_error = 0.004\\nsamples = 3\\nvalue = 10.51'),\n",
       " Text(0.0016583318218329748, 0.717391304347826, 'squared_error = 0.0\\nsamples = 1\\nvalue = 10.597'),\n",
       " Text(0.0033166636436659496, 0.717391304347826, 'X[26] <= 272.5\\nsquared_error = 0.0\\nsamples = 2\\nvalue = 10.466'),\n",
       " Text(0.002487497732749462, 0.6739130434782609, 'squared_error = 0.0\\nsamples = 1\\nvalue = 10.472'),\n",
       " Text(0.0041458295545824374, 0.6739130434782609, 'squared_error = 0.0\\nsamples = 1\\nvalue = 10.46'),\n",
       " Text(0.017023812608504132, 0.8043478260869565, 'X[37] <= 7.036\\nsquared_error = 0.091\\nsamples = 23\\nvalue = 11.245'),\n",
       " Text(0.011452854144533982, 0.7608695652173914, 'X[15] <= 3.5\\nsquared_error = 0.064\\nsamples = 19\\nvalue = 11.158'),\n",
       " Text(0.007462493198248387, 0.717391304347826, 'X[31] <= 1.5\\nsquared_error = 0.061\\nsamples = 5\\nvalue = 10.835'),\n",
       " Text(0.005804161376415412, 0.6739130434782609, 'X[34] <= 467.0\\nsquared_error = 0.0\\nsamples = 2\\nvalue = 10.561'),\n",
       " Text(0.004974995465498924, 0.6304347826086957, 'squared_error = 0.0\\nsamples = 1\\nvalue = 10.579'),\n",
       " Text(0.006633327287331899, 0.6304347826086957, 'squared_error = 0.0\\nsamples = 1\\nvalue = 10.543'),\n",
       " Text(0.009120825020081363, 0.6739130434782609, 'X[19] <= 2.0\\nsquared_error = 0.019\\nsamples = 3\\nvalue = 11.017'),\n",
       " Text(0.008291659109164875, 0.6304347826086957, 'X[10] <= 10.5\\nsquared_error = 0.005\\nsamples = 2\\nvalue = 10.931'),\n",
       " Text(0.007462493198248387, 0.5869565217391305, 'squared_error = 0.0\\nsamples = 1\\nvalue = 10.859'),\n",
       " Text(0.009120825020081363, 0.5869565217391305, 'squared_error = 0.0\\nsamples = 1\\nvalue = 11.002'),\n",
       " Text(0.009949990930997849, 0.6304347826086957, 'squared_error = -0.0\\nsamples = 1\\nvalue = 11.191'),\n",
       " Text(0.015443215090819579, 0.717391304347826, 'X[34] <= 523.0\\nsquared_error = 0.014\\nsamples = 14\\nvalue = 11.273'),\n",
       " Text(0.012437488663747312, 0.6739130434782609, 'X[28] <= 260.0\\nsquared_error = 0.012\\nsamples = 2\\nvalue = 11.025'),\n",
       " Text(0.011608322752830825, 0.6304347826086957, 'squared_error = 0.0\\nsamples = 1\\nvalue = 10.915'),\n",
       " Text(0.013266654574663798, 0.6304347826086957, 'squared_error = 0.0\\nsamples = 1\\nvalue = 11.135'),\n",
       " Text(0.018448941517891844, 0.6739130434782609, 'X[18] <= 1972.5\\nsquared_error = 0.003\\nsamples = 12\\nvalue = 11.315'),\n",
       " Text(0.014924986396496774, 0.6304347826086957, 'X[58] <= 5.5\\nsquared_error = 0.001\\nsamples = 8\\nvalue = 11.287'),\n",
       " Text(0.012852071619205556, 0.5869565217391305, 'X[0] <= 978.0\\nsquared_error = 0.001\\nsamples = 3\\nvalue = 11.249'),\n",
       " Text(0.012022905708289068, 0.5434782608695652, 'X[14] <= 5.5\\nsquared_error = 0.0\\nsamples = 2\\nvalue = 11.229'),\n",
       " Text(0.01119373979737258, 0.5, 'squared_error = 0.0\\nsamples = 1\\nvalue = 11.225'),\n",
       " Text(0.012852071619205556, 0.5, 'squared_error = -0.0\\nsamples = 1\\nvalue = 11.232'),\n",
       " Text(0.013681237530122042, 0.5434782608695652, 'squared_error = 0.0\\nsamples = 1\\nvalue = 11.29'),\n",
       " Text(0.016997901173787994, 0.5869565217391305, 'X[58] <= 9.5\\nsquared_error = 0.0\\nsamples = 5\\nvalue = 11.311'),\n",
       " Text(0.015339569351955018, 0.5434782608695652, 'X[33] <= 2.0\\nsquared_error = 0.0\\nsamples = 3\\nvalue = 11.296'),\n",
       " Text(0.01451040344103853, 0.5, 'squared_error = 0.0\\nsamples = 1\\nvalue = 11.29'),\n",
       " Text(0.016168735262871506, 0.5, 'X[16] <= 6.0\\nsquared_error = 0.0\\nsamples = 2\\nvalue = 11.299'),\n",
       " Text(0.015339569351955018, 0.45652173913043476, 'squared_error = 0.0\\nsamples = 1\\nvalue = 11.296'),\n",
       " Text(0.016997901173787994, 0.45652173913043476, 'squared_error = -0.0\\nsamples = 1\\nvalue = 11.302'),\n",
       " Text(0.018656232995620966, 0.5434782608695652, 'X[1] <= 105.0\\nsquared_error = 0.0\\nsamples = 2\\nvalue = 11.333'),\n",
       " Text(0.01782706708470448, 0.5, 'squared_error = 0.0\\nsamples = 1\\nvalue = 11.321'),\n",
       " Text(0.019485398906537454, 0.5, 'squared_error = 0.0\\nsamples = 1\\nvalue = 11.345'),\n",
       " Text(0.021972896639286917, 0.6304347826086957, 'X[58] <= 9.0\\nsquared_error = 0.001\\nsamples = 4\\nvalue = 11.369'),\n",
       " Text(0.02114373072837043, 0.5869565217391305, 'X[17] <= 1971.5\\nsquared_error = 0.0\\nsamples = 3\\nvalue = 11.352'),\n",
       " Text(0.02031456481745394, 0.5434782608695652, 'squared_error = -0.0\\nsamples = 2\\nvalue = 11.362'),\n",
       " Text(0.021972896639286917, 0.5434782608695652, 'squared_error = 0.0\\nsamples = 1\\nvalue = 11.333'),\n",
       " Text(0.022802062550203405, 0.5869565217391305, 'squared_error = 0.0\\nsamples = 1\\nvalue = 11.419'),\n",
       " Text(0.022594771072474283, 0.7608695652173914, 'X[51] <= 108.0\\nsquared_error = 0.01\\nsamples = 4\\nvalue = 11.661'),\n",
       " Text(0.020936439250641307, 0.717391304347826, 'X[58] <= 9.0\\nsquared_error = 0.003\\nsamples = 2\\nvalue = 11.754'),\n",
       " Text(0.02010727333972482, 0.6739130434782609, 'squared_error = 0.0\\nsamples = 1\\nvalue = 11.695'),\n",
       " Text(0.021765605161557795, 0.6739130434782609, 'squared_error = 0.0\\nsamples = 1\\nvalue = 11.813'),\n",
       " Text(0.02425310289430726, 0.717391304347826, 'X[11] <= 1.0\\nsquared_error = 0.0\\nsamples = 2\\nvalue = 11.568'),\n",
       " Text(0.02342393698339077, 0.6739130434782609, 'squared_error = 0.0\\nsamples = 1\\nvalue = 11.562'),\n",
       " Text(0.025082268805223747, 0.6739130434782609, 'squared_error = 0.0\\nsamples = 1\\nvalue = 11.574'),\n",
       " Text(0.06568224807607598, 0.8478260869565217, 'X[17] <= 1953.0\\nsquared_error = 0.054\\nsamples = 90\\nvalue = 11.573'),\n",
       " Text(0.04073277537377244, 0.8043478260869565, 'X[37] <= 6.911\\nsquared_error = 0.053\\nsamples = 47\\nvalue = 11.459'),\n",
       " Text(0.03233747052574301, 0.7608695652173914, 'X[25] <= 0.5\\nsquared_error = 0.055\\nsamples = 16\\nvalue = 11.259'),\n",
       " Text(0.027569766537973207, 0.717391304347826, 'X[37] <= 6.666\\nsquared_error = 0.012\\nsamples = 7\\nvalue = 11.054'),\n",
       " Text(0.02674060062705672, 0.6739130434782609, 'squared_error = 0.0\\nsamples = 1\\nvalue = 11.277'),\n",
       " Text(0.028398932448889695, 0.6739130434782609, 'X[58] <= 7.0\\nsquared_error = 0.004\\nsamples = 6\\nvalue = 11.017'),\n",
       " Text(0.02674060062705672, 0.6304347826086957, 'X[37] <= 6.682\\nsquared_error = 0.002\\nsamples = 4\\nvalue = 10.978'),\n",
       " Text(0.02591143471614023, 0.5869565217391305, 'squared_error = 0.0\\nsamples = 1\\nvalue = 10.915'),\n",
       " Text(0.027569766537973207, 0.5869565217391305, 'X[48] <= 0.5\\nsquared_error = 0.0\\nsamples = 3\\nvalue = 10.999'),\n",
       " Text(0.02674060062705672, 0.5434782608695652, 'X[30] <= 2.0\\nsquared_error = 0.0\\nsamples = 2\\nvalue = 11.01'),\n",
       " Text(0.02591143471614023, 0.5, 'squared_error = 0.0\\nsamples = 1\\nvalue = 11.019'),\n",
       " Text(0.027569766537973207, 0.5, 'squared_error = 0.0\\nsamples = 1\\nvalue = 11.002'),\n",
       " Text(0.028398932448889695, 0.5434782608695652, 'squared_error = 0.0\\nsamples = 1\\nvalue = 10.977'),\n",
       " Text(0.03005726427072267, 0.6304347826086957, 'X[42] <= 3.0\\nsquared_error = 0.0\\nsamples = 2\\nvalue = 11.093'),\n",
       " Text(0.029228098359806182, 0.5869565217391305, 'squared_error = 0.0\\nsamples = 1\\nvalue = 11.112'),\n",
       " Text(0.030886430181639158, 0.5869565217391305, 'squared_error = 0.0\\nsamples = 1\\nvalue = 11.074'),\n",
       " Text(0.03710517451351281, 0.717391304347826, 'X[29] <= 6.76\\nsquared_error = 0.031\\nsamples = 9\\nvalue = 11.418'),\n",
       " Text(0.036276008602596325, 0.6739130434782609, 'X[26] <= 264.0\\nsquared_error = 0.008\\nsamples = 8\\nvalue = 11.363'),\n",
       " Text(0.034203093825305106, 0.6304347826086957, 'X[34] <= 794.0\\nsquared_error = 0.0\\nsamples = 6\\nvalue = 11.313'),\n",
       " Text(0.03254476200347213, 0.5869565217391305, 'X[5] <= 1.5\\nsquared_error = 0.0\\nsamples = 2\\nvalue = 11.289'),\n",
       " Text(0.03171559609255564, 0.5434782608695652, 'squared_error = 0.0\\nsamples = 1\\nvalue = 11.289'),\n",
       " Text(0.03337392791438862, 0.5434782608695652, 'squared_error = 0.0\\nsamples = 1\\nvalue = 11.29'),\n",
       " Text(0.03586142564713808, 0.5869565217391305, 'X[0] <= 1025.5\\nsquared_error = 0.0\\nsamples = 4\\nvalue = 11.325'),\n",
       " Text(0.035032259736221594, 0.5434782608695652, 'X[42] <= 1.5\\nsquared_error = 0.0\\nsamples = 3\\nvalue = 11.317'),\n",
       " Text(0.034203093825305106, 0.5, 'squared_error = 0.0\\nsamples = 1\\nvalue = 11.321'),\n",
       " Text(0.03586142564713808, 0.5, 'squared_error = 0.0\\nsamples = 2\\nvalue = 11.314'),\n",
       " Text(0.03669059155805457, 0.5434782608695652, 'squared_error = -0.0\\nsamples = 1\\nvalue = 11.349'),\n",
       " Text(0.038348923379887545, 0.6304347826086957, 'X[47] <= 1.5\\nsquared_error = 0.0\\nsamples = 2\\nvalue = 11.513'),\n",
       " Text(0.03751975746897106, 0.5869565217391305, 'squared_error = 0.0\\nsamples = 1\\nvalue = 11.513'),\n",
       " Text(0.03917808929080403, 0.5869565217391305, 'squared_error = 0.0\\nsamples = 1\\nvalue = 11.513'),\n",
       " Text(0.0379343404244293, 0.6739130434782609, 'squared_error = -0.0\\nsamples = 1\\nvalue = 11.857'),\n",
       " Text(0.04912808022180188, 0.7608695652173914, 'X[16] <= 4.5\\nsquared_error = 0.02\\nsamples = 31\\nvalue = 11.562'),\n",
       " Text(0.04332391884538647, 0.717391304347826, 'X[3] <= 9846.0\\nsquared_error = 0.01\\nsamples = 9\\nvalue = 11.427'),\n",
       " Text(0.041665587023553496, 0.6739130434782609, 'X[3] <= 6877.5\\nsquared_error = 0.005\\nsamples = 7\\nvalue = 11.387'),\n",
       " Text(0.04083642111263701, 0.6304347826086957, 'squared_error = 0.0\\nsamples = 1\\nvalue = 11.245'),\n",
       " Text(0.042494752934469984, 0.6304347826086957, 'X[0] <= 707.0\\nsquared_error = 0.002\\nsamples = 6\\nvalue = 11.41'),\n",
       " Text(0.04083642111263701, 0.5869565217391305, 'X[61] <= 2.0\\nsquared_error = 0.0\\nsamples = 3\\nvalue = 11.368'),\n",
       " Text(0.04000725520172052, 0.5434782608695652, 'squared_error = 0.0\\nsamples = 1\\nvalue = 11.35'),\n",
       " Text(0.041665587023553496, 0.5434782608695652, 'X[38] <= 0.5\\nsquared_error = 0.0\\nsamples = 2\\nvalue = 11.377'),\n",
       " Text(0.04083642111263701, 0.5, 'squared_error = 0.0\\nsamples = 1\\nvalue = 11.379'),\n",
       " Text(0.042494752934469984, 0.5, 'squared_error = 0.0\\nsamples = 1\\nvalue = 11.374'),\n",
       " Text(0.04415308475630296, 0.5869565217391305, 'X[14] <= 1.0\\nsquared_error = 0.001\\nsamples = 3\\nvalue = 11.452'),\n",
       " Text(0.04332391884538647, 0.5434782608695652, 'squared_error = 0.0\\nsamples = 1\\nvalue = 11.493'),\n",
       " Text(0.04498225066721944, 0.5434782608695652, 'X[42] <= 2.5\\nsquared_error = 0.0\\nsamples = 2\\nvalue = 11.432'),\n",
       " Text(0.04415308475630296, 0.5, 'squared_error = 0.0\\nsamples = 1\\nvalue = 11.446'),\n",
       " Text(0.04581141657813593, 0.5, 'squared_error = -0.0\\nsamples = 1\\nvalue = 11.419'),\n",
       " Text(0.04498225066721944, 0.6739130434782609, 'X[22] <= 10.5\\nsquared_error = 0.0\\nsamples = 2\\nvalue = 11.571'),\n",
       " Text(0.04415308475630296, 0.6304347826086957, 'squared_error = 0.0\\nsamples = 1\\nvalue = 11.581'),\n",
       " Text(0.04581141657813593, 0.6304347826086957, 'squared_error = 0.0\\nsamples = 1\\nvalue = 11.561'),\n",
       " Text(0.054932241598217295, 0.717391304347826, 'X[10] <= 6.5\\nsquared_error = 0.014\\nsamples = 22\\nvalue = 11.618'),\n",
       " Text(0.04912808022180188, 0.6739130434782609, 'X[53] <= 27.0\\nsquared_error = 0.002\\nsamples = 4\\nvalue = 11.774'),\n",
       " Text(0.047469748399968904, 0.6304347826086957, 'X[59] <= 2007.5\\nsquared_error = 0.001\\nsamples = 2\\nvalue = 11.734'),\n",
       " Text(0.046640582489052416, 0.5869565217391305, 'squared_error = 0.0\\nsamples = 1\\nvalue = 11.708'),\n",
       " Text(0.04829891431088539, 0.5869565217391305, 'squared_error = 0.0\\nsamples = 1\\nvalue = 11.76'),\n",
       " Text(0.050786412043634856, 0.6304347826086957, 'X[34] <= 1084.5\\nsquared_error = 0.0\\nsamples = 2\\nvalue = 11.815'),\n",
       " Text(0.04995724613271837, 0.5869565217391305, 'squared_error = 0.0\\nsamples = 1\\nvalue = 11.798'),\n",
       " Text(0.051615577954551344, 0.5869565217391305, 'squared_error = 0.0\\nsamples = 1\\nvalue = 11.831'),\n",
       " Text(0.0607364029746327, 0.6739130434782609, 'X[35] <= 354.5\\nsquared_error = 0.01\\nsamples = 18\\nvalue = 11.583'),\n",
       " Text(0.05617599046459203, 0.6304347826086957, 'X[45] <= 5.5\\nsquared_error = 0.005\\nsamples = 9\\nvalue = 11.524'),\n",
       " Text(0.05327390977638432, 0.5869565217391305, 'X[22] <= 4.0\\nsquared_error = 0.002\\nsamples = 4\\nvalue = 11.579'),\n",
       " Text(0.05244474386546783, 0.5434782608695652, 'squared_error = 0.0\\nsamples = 1\\nvalue = 11.513'),\n",
       " Text(0.05410307568730081, 0.5434782608695652, 'X[52] <= 62.5\\nsquared_error = 0.0\\nsamples = 3\\nvalue = 11.602'),\n",
       " Text(0.05327390977638432, 0.5, 'squared_error = 0.0\\nsamples = 2\\nvalue = 11.607'),\n",
       " Text(0.054932241598217295, 0.5, 'squared_error = -0.0\\nsamples = 1\\nvalue = 11.59'),\n",
       " Text(0.05907807115279973, 0.5869565217391305, 'X[3] <= 7956.0\\nsquared_error = 0.004\\nsamples = 5\\nvalue = 11.479'),\n",
       " Text(0.05741973933096676, 0.5434782608695652, 'X[29] <= 3.405\\nsquared_error = 0.0\\nsamples = 2\\nvalue = 11.405'),\n",
       " Text(0.05659057342005027, 0.5, 'squared_error = 0.0\\nsamples = 1\\nvalue = 11.408'),\n",
       " Text(0.058248905241883246, 0.5, 'squared_error = 0.0\\nsamples = 1\\nvalue = 11.402'),\n",
       " Text(0.0607364029746327, 0.5434782608695652, 'X[57] <= 225.0\\nsquared_error = 0.0\\nsamples = 3\\nvalue = 11.529'),\n",
       " Text(0.059907237063716215, 0.5, 'X[53] <= 49.0\\nsquared_error = 0.0\\nsamples = 2\\nvalue = 11.537'),\n",
       " Text(0.05907807115279973, 0.45652173913043476, 'squared_error = 0.0\\nsamples = 1\\nvalue = 11.533'),\n",
       " Text(0.0607364029746327, 0.45652173913043476, 'squared_error = 0.0\\nsamples = 1\\nvalue = 11.54'),\n",
       " Text(0.06156556888554919, 0.5, 'squared_error = -0.0\\nsamples = 1\\nvalue = 11.513'),\n",
       " Text(0.06529681548467339, 0.6304347826086957, 'X[5] <= 1.5\\nsquared_error = 0.007\\nsamples = 9\\nvalue = 11.642'),\n",
       " Text(0.0644676495737569, 0.5869565217391305, 'squared_error = 0.0\\nsamples = 1\\nvalue = 11.462'),\n",
       " Text(0.06612598139558988, 0.5869565217391305, 'X[0] <= 721.0\\nsquared_error = 0.004\\nsamples = 8\\nvalue = 11.664'),\n",
       " Text(0.06405306661829865, 0.5434782608695652, 'X[1] <= 120.0\\nsquared_error = 0.001\\nsamples = 3\\nvalue = 11.603'),\n",
       " Text(0.06322390070738217, 0.5, 'X[22] <= 10.5\\nsquared_error = 0.0\\nsamples = 2\\nvalue = 11.587'),\n",
       " Text(0.06239473479646568, 0.45652173913043476, 'squared_error = 0.0\\nsamples = 1\\nvalue = 11.59'),\n",
       " Text(0.06405306661829865, 0.45652173913043476, 'squared_error = 0.0\\nsamples = 1\\nvalue = 11.584'),\n",
       " Text(0.06488223252921514, 0.5, 'squared_error = 0.0\\nsamples = 1\\nvalue = 11.635'),\n",
       " Text(0.0681988961728811, 0.5434782608695652, 'X[59] <= 2008.5\\nsquared_error = 0.002\\nsamples = 5\\nvalue = 11.701'),\n",
       " Text(0.06654056435104812, 0.5, 'X[41] <= 0.5\\nsquared_error = 0.001\\nsamples = 2\\nvalue = 11.654'),\n",
       " Text(0.06571139844013163, 0.45652173913043476, 'squared_error = 0.0\\nsamples = 1\\nvalue = 11.683'),\n",
       " Text(0.0673697302619646, 0.45652173913043476, 'squared_error = 0.0\\nsamples = 1\\nvalue = 11.626'),\n",
       " Text(0.06985722799471407, 0.5, 'X[22] <= 6.5\\nsquared_error = 0.0\\nsamples = 3\\nvalue = 11.732'),\n",
       " Text(0.06902806208379758, 0.45652173913043476, 'squared_error = 0.0\\nsamples = 1\\nvalue = 11.716'),\n",
       " Text(0.07068639390563056, 0.45652173913043476, 'squared_error = -0.0\\nsamples = 2\\nvalue = 11.74'),\n",
       " Text(0.0906317207783795, 0.8043478260869565, 'X[29] <= 6.942\\nsquared_error = 0.026\\nsamples = 43\\nvalue = 11.698'),\n",
       " Text(0.07761770269219807, 0.7608695652173914, 'X[32] <= 0.5\\nsquared_error = 0.019\\nsamples = 30\\nvalue = 11.638'),\n",
       " Text(0.07317389163838002, 0.717391304347826, 'X[17] <= 1956.0\\nsquared_error = 0.0\\nsamples = 2\\nvalue = 11.327'),\n",
       " Text(0.07234472572746353, 0.6739130434782609, 'squared_error = 0.0\\nsamples = 1\\nvalue = 11.314'),\n",
       " Text(0.07400305754929651, 0.6739130434782609, 'squared_error = -0.0\\nsamples = 1\\nvalue = 11.339'),\n",
       " Text(0.08206151374601611, 0.717391304347826, 'X[22] <= 7.0\\nsquared_error = 0.013\\nsamples = 28\\nvalue = 11.66'),\n",
       " Text(0.07566138937112948, 0.6739130434782609, 'X[59] <= 2006.5\\nsquared_error = 0.01\\nsamples = 8\\nvalue = 11.555'),\n",
       " Text(0.074832223460213, 0.6304347826086957, 'squared_error = 0.0\\nsamples = 1\\nvalue = 11.385'),\n",
       " Text(0.07649055528204597, 0.6304347826086957, 'X[45] <= 5.5\\nsquared_error = 0.007\\nsamples = 7\\nvalue = 11.58'),\n",
       " Text(0.074832223460213, 0.5869565217391305, 'X[48] <= 1.5\\nsquared_error = 0.001\\nsamples = 4\\nvalue = 11.647'),\n",
       " Text(0.07400305754929651, 0.5434782608695652, 'X[26] <= 377.0\\nsquared_error = 0.0\\nsamples = 3\\nvalue = 11.629'),\n",
       " Text(0.07317389163838002, 0.5, 'X[16] <= 4.5\\nsquared_error = 0.0\\nsamples = 2\\nvalue = 11.617'),\n",
       " Text(0.07234472572746353, 0.45652173913043476, 'squared_error = 0.0\\nsamples = 1\\nvalue = 11.626'),\n",
       " Text(0.07400305754929651, 0.45652173913043476, 'squared_error = -0.0\\nsamples = 1\\nvalue = 11.608'),\n",
       " Text(0.074832223460213, 0.5, 'squared_error = -0.0\\nsamples = 1\\nvalue = 11.653'),\n",
       " Text(0.07566138937112948, 0.5434782608695652, 'squared_error = 0.0\\nsamples = 1\\nvalue = 11.699'),\n",
       " Text(0.07814888710387895, 0.5869565217391305, 'X[18] <= 1963.5\\nsquared_error = 0.001\\nsamples = 3\\nvalue = 11.491'),\n",
       " Text(0.07731972119296246, 0.5434782608695652, 'squared_error = 0.0\\nsamples = 1\\nvalue = 11.531'),\n",
       " Text(0.07897805301479544, 0.5434782608695652, 'X[2] <= 3.5\\nsquared_error = 0.0\\nsamples = 2\\nvalue = 11.471'),\n",
       " Text(0.07814888710387895, 0.5, 'squared_error = 0.0\\nsamples = 1\\nvalue = 11.459'),\n",
       " Text(0.07980721892571192, 0.5, 'squared_error = -0.0\\nsamples = 1\\nvalue = 11.482'),\n",
       " Text(0.08846163812090276, 0.6739130434782609, 'X[29] <= 6.747\\nsquared_error = 0.008\\nsamples = 20\\nvalue = 11.701'),\n",
       " Text(0.08312388256937786, 0.6304347826086957, 'X[0] <= 709.0\\nsquared_error = 0.002\\nsamples = 4\\nvalue = 11.828'),\n",
       " Text(0.08146555074754488, 0.5869565217391305, 'X[34] <= 982.5\\nsquared_error = 0.0\\nsamples = 2\\nvalue = 11.79'),\n",
       " Text(0.08063638483662841, 0.5434782608695652, 'squared_error = 0.0\\nsamples = 1\\nvalue = 11.771'),\n",
       " Text(0.08229471665846137, 0.5434782608695652, 'squared_error = 0.0\\nsamples = 1\\nvalue = 11.809'),\n",
       " Text(0.08478221439121084, 0.5869565217391305, 'X[48] <= 1.5\\nsquared_error = 0.0\\nsamples = 2\\nvalue = 11.866'),\n",
       " Text(0.08395304848029435, 0.5434782608695652, 'squared_error = 0.0\\nsamples = 1\\nvalue = 11.884'),\n",
       " Text(0.08561138030212732, 0.5434782608695652, 'squared_error = 0.0\\nsamples = 1\\nvalue = 11.847'),\n",
       " Text(0.09379939367242764, 0.6304347826086957, 'X[37] <= 7.024\\nsquared_error = 0.005\\nsamples = 16\\nvalue = 11.67'),\n",
       " Text(0.09079366724535537, 0.5869565217391305, 'X[17] <= 1959.0\\nsquared_error = 0.003\\nsamples = 14\\nvalue = 11.653'),\n",
       " Text(0.0872697121239603, 0.5434782608695652, 'X[47] <= 0.5\\nsquared_error = 0.002\\nsamples = 7\\nvalue = 11.614'),\n",
       " Text(0.08561138030212732, 0.5, 'X[1] <= 32.5\\nsquared_error = 0.001\\nsamples = 5\\nvalue = 11.592'),\n",
       " Text(0.08478221439121084, 0.45652173913043476, 'X[28] <= 495.5\\nsquared_error = 0.0\\nsamples = 4\\nvalue = 11.603'),\n",
       " Text(0.08312388256937786, 0.41304347826086957, 'X[28] <= 357.0\\nsquared_error = 0.0\\nsamples = 2\\nvalue = 11.613'),\n",
       " Text(0.08229471665846137, 0.3695652173913043, 'squared_error = 0.0\\nsamples = 1\\nvalue = 11.608'),\n",
       " Text(0.08395304848029435, 0.3695652173913043, 'squared_error = 0.0\\nsamples = 1\\nvalue = 11.617'),\n",
       " Text(0.08644054621304381, 0.41304347826086957, 'X[3] <= 7296.5\\nsquared_error = 0.0\\nsamples = 2\\nvalue = 11.594'),\n",
       " Text(0.08561138030212732, 0.3695652173913043, 'squared_error = 0.0\\nsamples = 1\\nvalue = 11.589'),\n",
       " Text(0.0872697121239603, 0.3695652173913043, 'squared_error = 0.0\\nsamples = 1\\nvalue = 11.599'),\n",
       " Text(0.08644054621304381, 0.45652173913043476, 'squared_error = -0.0\\nsamples = 1\\nvalue = 11.544'),\n",
       " Text(0.08892804394579328, 0.5, 'X[59] <= 2008.0\\nsquared_error = 0.0\\nsamples = 2\\nvalue = 11.67'),\n",
       " Text(0.08809887803487679, 0.45652173913043476, 'squared_error = 0.0\\nsamples = 1\\nvalue = 11.687'),\n",
       " Text(0.08975720985670976, 0.45652173913043476, 'squared_error = 0.0\\nsamples = 1\\nvalue = 11.653'),\n",
       " Text(0.09431762236675045, 0.5434782608695652, 'X[60] <= 7.5\\nsquared_error = 0.001\\nsamples = 7\\nvalue = 11.691'),\n",
       " Text(0.09224470758945923, 0.5, 'X[59] <= 2007.0\\nsquared_error = 0.0\\nsamples = 2\\nvalue = 11.641'),\n",
       " Text(0.09141554167854274, 0.45652173913043476, 'squared_error = 0.0\\nsamples = 1\\nvalue = 11.662'),\n",
       " Text(0.09307387350037571, 0.45652173913043476, 'squared_error = -0.0\\nsamples = 1\\nvalue = 11.62'),\n",
       " Text(0.09639053714404167, 0.5, 'X[51] <= 32.0\\nsquared_error = 0.0\\nsamples = 5\\nvalue = 11.712'),\n",
       " Text(0.09473220532220869, 0.45652173913043476, 'X[17] <= 1970.5\\nsquared_error = 0.0\\nsamples = 3\\nvalue = 11.726'),\n",
       " Text(0.0939030394112922, 0.41304347826086957, 'squared_error = 0.0\\nsamples = 1\\nvalue = 11.732'),\n",
       " Text(0.09556137123312518, 0.41304347826086957, 'X[48] <= 2.0\\nsquared_error = 0.0\\nsamples = 2\\nvalue = 11.722'),\n",
       " Text(0.09473220532220869, 0.3695652173913043, 'squared_error = 0.0\\nsamples = 1\\nvalue = 11.725'),\n",
       " Text(0.09639053714404167, 0.3695652173913043, 'squared_error = 0.0\\nsamples = 1\\nvalue = 11.72'),\n",
       " Text(0.09804886896587464, 0.45652173913043476, 'X[28] <= 188.0\\nsquared_error = 0.0\\nsamples = 2\\nvalue = 11.691'),\n",
       " Text(0.09721970305495815, 0.41304347826086957, 'squared_error = 0.0\\nsamples = 1\\nvalue = 11.683'),\n",
       " Text(0.09887803487679113, 0.41304347826086957, 'squared_error = 0.0\\nsamples = 1\\nvalue = 11.699'),\n",
       " Text(0.0968051200994999, 0.5869565217391305, 'X[58] <= 3.0\\nsquared_error = 0.001\\nsamples = 2\\nvalue = 11.79'),\n",
       " Text(0.09597595418858341, 0.5434782608695652, 'squared_error = 0.0\\nsamples = 1\\nvalue = 11.767'),\n",
       " Text(0.09763428601041639, 0.5434782608695652, 'squared_error = 0.0\\nsamples = 1\\nvalue = 11.813'),\n",
       " Text(0.10364573886456092, 0.7608695652173914, 'X[18] <= 1973.5\\nsquared_error = 0.013\\nsamples = 13\\nvalue = 11.836'),\n",
       " Text(0.09887803487679113, 0.717391304347826, 'X[16] <= 4.5\\nsquared_error = 0.007\\nsamples = 8\\nvalue = 11.77'),\n",
       " Text(0.0968051200994999, 0.6739130434782609, 'X[22] <= 11.5\\nsquared_error = 0.002\\nsamples = 2\\nvalue = 11.639'),\n",
       " Text(0.09597595418858341, 0.6304347826086957, 'squared_error = 0.0\\nsamples = 1\\nvalue = 11.599'),\n",
       " Text(0.09763428601041639, 0.6304347826086957, 'squared_error = -0.0\\nsamples = 1\\nvalue = 11.678'),\n",
       " Text(0.10095094965408234, 0.6739130434782609, 'X[59] <= 2007.5\\nsquared_error = 0.001\\nsamples = 6\\nvalue = 11.814'),\n",
       " Text(0.09929261783224937, 0.6304347826086957, 'X[25] <= 1.5\\nsquared_error = 0.0\\nsamples = 2\\nvalue = 11.78'),\n",
       " Text(0.09846345192133288, 0.5869565217391305, 'squared_error = 0.0\\nsamples = 1\\nvalue = 11.768'),\n",
       " Text(0.10012178374316585, 0.5869565217391305, 'squared_error = -0.0\\nsamples = 1\\nvalue = 11.792'),\n",
       " Text(0.10260928147591532, 0.6304347826086957, 'X[25] <= 1.5\\nsquared_error = 0.0\\nsamples = 4\\nvalue = 11.831'),\n",
       " Text(0.10178011556499883, 0.5869565217391305, 'X[0] <= 791.0\\nsquared_error = 0.0\\nsamples = 3\\nvalue = 11.823'),\n",
       " Text(0.10095094965408234, 0.5434782608695652, 'X[38] <= 0.5\\nsquared_error = 0.0\\nsamples = 2\\nvalue = 11.828'),\n",
       " Text(0.10012178374316585, 0.5, 'squared_error = 0.0\\nsamples = 1\\nvalue = 11.824'),\n",
       " Text(0.10178011556499883, 0.5, 'squared_error = -0.0\\nsamples = 1\\nvalue = 11.831'),\n",
       " Text(0.10260928147591532, 0.5434782608695652, 'squared_error = 0.0\\nsamples = 1\\nvalue = 11.813'),\n",
       " Text(0.1034384473868318, 0.5869565217391305, 'squared_error = -0.0\\nsamples = 1\\nvalue = 11.857'),\n",
       " Text(0.10841344285233073, 0.717391304347826, 'X[3] <= 10620.5\\nsquared_error = 0.004\\nsamples = 5\\nvalue = 11.942'),\n",
       " Text(0.10675511103049776, 0.6739130434782609, 'X[22] <= 11.5\\nsquared_error = 0.001\\nsamples = 3\\nvalue = 11.895'),\n",
       " Text(0.10592594511958127, 0.6304347826086957, 'X[60] <= 7.5\\nsquared_error = 0.0\\nsamples = 2\\nvalue = 11.918'),\n",
       " Text(0.10509677920866478, 0.5869565217391305, 'squared_error = 0.0\\nsamples = 1\\nvalue = 11.918'),\n",
       " Text(0.10675511103049776, 0.5869565217391305, 'squared_error = 0.0\\nsamples = 1\\nvalue = 11.918'),\n",
       " Text(0.10758427694141424, 0.6304347826086957, 'squared_error = -0.0\\nsamples = 1\\nvalue = 11.849'),\n",
       " Text(0.11007177467416371, 0.6739130434782609, 'X[14] <= 1.0\\nsquared_error = 0.0\\nsamples = 2\\nvalue = 12.012'),\n",
       " Text(0.10924260876324722, 0.6304347826086957, 'squared_error = 0.0\\nsamples = 1\\nvalue = 11.992'),\n",
       " Text(0.1109009405850802, 0.6304347826086957, 'squared_error = -0.0\\nsamples = 1\\nvalue = 12.032'),\n",
       " Text(0.39923113890472367, 0.8913043478260869, 'X[37] <= 7.229\\nsquared_error = 0.057\\nsamples = 608\\nvalue = 11.869'),\n",
       " Text(0.252392455399943, 0.8478260869565217, 'X[34] <= 1049.0\\nsquared_error = 0.042\\nsamples = 358\\nvalue = 11.769'),\n",
       " Text(0.18772409342367788, 0.8043478260869565, 'X[26] <= 491.0\\nsquared_error = 0.032\\nsamples = 212\\nvalue = 11.686'),\n",
       " Text(0.13280703430673957, 0.7608695652173914, 'X[32] <= 0.5\\nsquared_error = 0.029\\nsamples = 131\\nvalue = 11.62'),\n",
       " Text(0.11872619386935454, 0.717391304347826, 'X[34] <= 1033.0\\nsquared_error = 0.032\\nsamples = 21\\nvalue = 11.441'),\n",
       " Text(0.11789702795843805, 0.6739130434782609, 'X[33] <= 1.5\\nsquared_error = 0.02\\nsamples = 20\\nvalue = 11.466'),\n",
       " Text(0.11255927240691317, 0.6304347826086957, 'X[49] <= 300.0\\nsquared_error = 0.021\\nsamples = 4\\nvalue = 11.617'),\n",
       " Text(0.11173010649599668, 0.5869565217391305, 'X[37] <= 7.127\\nsquared_error = 0.002\\nsamples = 3\\nvalue = 11.699'),\n",
       " Text(0.1109009405850802, 0.5434782608695652, 'X[34] <= 854.0\\nsquared_error = 0.0\\nsamples = 2\\nvalue = 11.724'),\n",
       " Text(0.11007177467416371, 0.5, 'squared_error = 0.0\\nsamples = 1\\nvalue = 11.744'),\n",
       " Text(0.11173010649599668, 0.5, 'squared_error = -0.0\\nsamples = 1\\nvalue = 11.704'),\n",
       " Text(0.11255927240691317, 0.5434782608695652, 'squared_error = -0.0\\nsamples = 1\\nvalue = 11.648'),\n",
       " Text(0.11338843831782966, 0.5869565217391305, 'squared_error = 0.0\\nsamples = 1\\nvalue = 11.374'),\n",
       " Text(0.12323478350996295, 0.6304347826086957, 'X[11] <= 3.0\\nsquared_error = 0.012\\nsamples = 16\\nvalue = 11.428'),\n",
       " Text(0.11981447412743243, 0.5869565217391305, 'X[58] <= 5.5\\nsquared_error = 0.009\\nsamples = 14\\nvalue = 11.403'),\n",
       " Text(0.11546135309512087, 0.5434782608695652, 'X[37] <= 6.811\\nsquared_error = 0.004\\nsamples = 8\\nvalue = 11.452'),\n",
       " Text(0.11338843831782966, 0.5, 'X[45] <= 4.5\\nsquared_error = 0.002\\nsamples = 3\\nvalue = 11.386'),\n",
       " Text(0.11255927240691317, 0.45652173913043476, 'X[22] <= 13.0\\nsquared_error = 0.0\\nsamples = 2\\nvalue = 11.415'),\n",
       " Text(0.11173010649599668, 0.41304347826086957, 'squared_error = 0.0\\nsamples = 1\\nvalue = 11.411'),\n",
       " Text(0.11338843831782966, 0.41304347826086957, 'squared_error = 0.0\\nsamples = 1\\nvalue = 11.419'),\n",
       " Text(0.11421760422874615, 0.45652173913043476, 'squared_error = 0.0\\nsamples = 1\\nvalue = 11.327'),\n",
       " Text(0.1175342678724121, 0.5, 'X[11] <= 1.5\\nsquared_error = 0.001\\nsamples = 5\\nvalue = 11.492'),\n",
       " Text(0.11587593605057912, 0.45652173913043476, 'X[60] <= 6.5\\nsquared_error = 0.0\\nsamples = 2\\nvalue = 11.456'),\n",
       " Text(0.11504677013966264, 0.41304347826086957, 'squared_error = 0.0\\nsamples = 1\\nvalue = 11.462'),\n",
       " Text(0.11670510196149561, 0.41304347826086957, 'squared_error = -0.0\\nsamples = 1\\nvalue = 11.451'),\n",
       " Text(0.11919259969424507, 0.45652173913043476, 'X[21] <= 4.0\\nsquared_error = 0.0\\nsamples = 3\\nvalue = 11.516'),\n",
       " Text(0.11836343378332859, 0.41304347826086957, 'squared_error = 0.0\\nsamples = 1\\nvalue = 11.493'),\n",
       " Text(0.12002176560516156, 0.41304347826086957, 'X[58] <= 4.0\\nsquared_error = 0.0\\nsamples = 2\\nvalue = 11.528'),\n",
       " Text(0.11919259969424507, 0.3695652173913043, 'squared_error = 0.0\\nsamples = 1\\nvalue = 11.523'),\n",
       " Text(0.12085093151607805, 0.3695652173913043, 'squared_error = -0.0\\nsamples = 1\\nvalue = 11.533'),\n",
       " Text(0.124167595159744, 0.5434782608695652, 'X[29] <= 6.583\\nsquared_error = 0.008\\nsamples = 6\\nvalue = 11.337'),\n",
       " Text(0.12168009742699454, 0.5, 'X[29] <= 6.322\\nsquared_error = 0.004\\nsamples = 3\\nvalue = 11.269'),\n",
       " Text(0.12085093151607805, 0.45652173913043476, 'squared_error = 0.0\\nsamples = 1\\nvalue = 11.345'),\n",
       " Text(0.12250926333791103, 0.45652173913043476, 'X[1] <= 50.0\\nsquared_error = 0.001\\nsamples = 2\\nvalue = 11.231'),\n",
       " Text(0.12168009742699454, 0.41304347826086957, 'squared_error = 0.0\\nsamples = 1\\nvalue = 11.198'),\n",
       " Text(0.12333842924882751, 0.41304347826086957, 'squared_error = -0.0\\nsamples = 1\\nvalue = 11.264'),\n",
       " Text(0.12665509289249346, 0.5, 'X[21] <= 10.5\\nsquared_error = 0.003\\nsamples = 3\\nvalue = 11.404'),\n",
       " Text(0.12582592698157696, 0.45652173913043476, 'X[18] <= 1978.0\\nsquared_error = 0.0\\nsamples = 2\\nvalue = 11.368'),\n",
       " Text(0.12499676107066049, 0.41304347826086957, 'squared_error = 0.0\\nsamples = 1\\nvalue = 11.385'),\n",
       " Text(0.12665509289249346, 0.41304347826086957, 'squared_error = 0.0\\nsamples = 1\\nvalue = 11.35'),\n",
       " Text(0.12748425880340994, 0.45652173913043476, 'squared_error = 0.0\\nsamples = 1\\nvalue = 11.477'),\n",
       " Text(0.12665509289249346, 0.5869565217391305, 'X[3] <= 7536.0\\nsquared_error = 0.0\\nsamples = 2\\nvalue = 11.606'),\n",
       " Text(0.12582592698157696, 0.5434782608695652, 'squared_error = 0.0\\nsamples = 1\\nvalue = 11.604'),\n",
       " Text(0.12748425880340994, 0.5434782608695652, 'squared_error = 0.0\\nsamples = 1\\nvalue = 11.608'),\n",
       " Text(0.11955535978027103, 0.6739130434782609, 'squared_error = -0.0\\nsamples = 1\\nvalue = 10.933'),\n",
       " Text(0.14688787474412457, 0.717391304347826, 'X[34] <= 556.0\\nsquared_error = 0.021\\nsamples = 110\\nvalue = 11.655'),\n",
       " Text(0.1337030031352836, 0.6739130434782609, 'X[16] <= 5.5\\nsquared_error = 0.014\\nsamples = 7\\nvalue = 11.453'),\n",
       " Text(0.1316300883579924, 0.6304347826086957, 'X[51] <= 36.0\\nsquared_error = 0.002\\nsamples = 5\\nvalue = 11.384'),\n",
       " Text(0.12997175653615942, 0.5869565217391305, 'X[49] <= 276.0\\nsquared_error = 0.001\\nsamples = 3\\nvalue = 11.414'),\n",
       " Text(0.12914259062524291, 0.5434782608695652, 'X[28] <= 325.0\\nsquared_error = 0.0\\nsamples = 2\\nvalue = 11.394'),\n",
       " Text(0.12831342471432644, 0.5, 'squared_error = 0.0\\nsamples = 1\\nvalue = 11.402'),\n",
       " Text(0.12997175653615942, 0.5, 'squared_error = 0.0\\nsamples = 1\\nvalue = 11.385'),\n",
       " Text(0.1308009224470759, 0.5434782608695652, 'squared_error = 0.0\\nsamples = 1\\nvalue = 11.456'),\n",
       " Text(0.13328842017982537, 0.5869565217391305, 'X[37] <= 6.954\\nsquared_error = 0.0\\nsamples = 2\\nvalue = 11.339'),\n",
       " Text(0.13245925426890887, 0.5434782608695652, 'squared_error = 0.0\\nsamples = 1\\nvalue = 11.327'),\n",
       " Text(0.13411758609074184, 0.5434782608695652, 'squared_error = 0.0\\nsamples = 1\\nvalue = 11.35'),\n",
       " Text(0.13577591791257482, 0.6304347826086957, 'X[18] <= 1988.5\\nsquared_error = 0.003\\nsamples = 2\\nvalue = 11.625'),\n",
       " Text(0.13494675200165834, 0.5869565217391305, 'squared_error = 0.0\\nsamples = 1\\nvalue = 11.571'),\n",
       " Text(0.13660508382349132, 0.5869565217391305, 'squared_error = -0.0\\nsamples = 1\\nvalue = 11.678'),\n",
       " Text(0.16007274635296556, 0.6739130434782609, 'X[49] <= 228.0\\nsquared_error = 0.018\\nsamples = 103\\nvalue = 11.668'),\n",
       " Text(0.14292747389422952, 0.6304347826086957, 'X[18] <= 1996.0\\nsquared_error = 0.023\\nsamples = 16\\nvalue = 11.551'),\n",
       " Text(0.13888529007851164, 0.5869565217391305, 'X[47] <= 0.5\\nsquared_error = 0.018\\nsamples = 11\\nvalue = 11.481'),\n",
       " Text(0.13577591791257482, 0.5434782608695652, 'X[59] <= 2008.5\\nsquared_error = 0.007\\nsamples = 8\\nvalue = 11.415'),\n",
       " Text(0.1337030031352836, 0.5, 'X[22] <= 8.0\\nsquared_error = 0.003\\nsamples = 6\\nvalue = 11.374'),\n",
       " Text(0.13204467131345063, 0.45652173913043476, 'X[37] <= 6.993\\nsquared_error = 0.0\\nsamples = 2\\nvalue = 11.435'),\n",
       " Text(0.13121550540253413, 0.41304347826086957, 'squared_error = 0.0\\nsamples = 1\\nvalue = 11.446'),\n",
       " Text(0.1328738372243671, 0.41304347826086957, 'squared_error = -0.0\\nsamples = 1\\nvalue = 11.424'),\n",
       " Text(0.13536133495711658, 0.45652173913043476, 'X[52] <= 22.0\\nsquared_error = 0.001\\nsamples = 4\\nvalue = 11.344'),\n",
       " Text(0.13453216904620008, 0.41304347826086957, 'X[49] <= 80.0\\nsquared_error = 0.0\\nsamples = 3\\nvalue = 11.362'),\n",
       " Text(0.1337030031352836, 0.3695652173913043, 'squared_error = 0.0\\nsamples = 1\\nvalue = 11.35'),\n",
       " Text(0.13536133495711658, 0.3695652173913043, 'X[49] <= 188.0\\nsquared_error = 0.0\\nsamples = 2\\nvalue = 11.368'),\n",
       " Text(0.13453216904620008, 0.32608695652173914, 'squared_error = 0.0\\nsamples = 1\\nvalue = 11.374'),\n",
       " Text(0.13619050086803305, 0.32608695652173914, 'squared_error = 0.0\\nsamples = 1\\nvalue = 11.362'),\n",
       " Text(0.13619050086803305, 0.41304347826086957, 'squared_error = -0.0\\nsamples = 1\\nvalue = 11.29'),\n",
       " Text(0.13784883268986603, 0.5, 'X[48] <= 0.5\\nsquared_error = 0.001\\nsamples = 2\\nvalue = 11.537'),\n",
       " Text(0.13701966677894956, 0.45652173913043476, 'squared_error = 0.0\\nsamples = 1\\nvalue = 11.512'),\n",
       " Text(0.13867799860078253, 0.45652173913043476, 'squared_error = 0.0\\nsamples = 1\\nvalue = 11.562'),\n",
       " Text(0.14199466224444848, 0.5434782608695652, 'X[3] <= 11253.5\\nsquared_error = 0.002\\nsamples = 3\\nvalue = 11.659'),\n",
       " Text(0.14116549633353198, 0.5, 'X[28] <= 821.0\\nsquared_error = 0.0\\nsamples = 2\\nvalue = 11.693'),\n",
       " Text(0.1403363304226155, 0.45652173913043476, 'squared_error = 0.0\\nsamples = 1\\nvalue = 11.691'),\n",
       " Text(0.14199466224444848, 0.45652173913043476, 'squared_error = -0.0\\nsamples = 1\\nvalue = 11.695'),\n",
       " Text(0.14282382815536496, 0.5, 'squared_error = 0.0\\nsamples = 1\\nvalue = 11.59'),\n",
       " Text(0.1469696577099474, 0.5869565217391305, 'X[59] <= 2008.5\\nsquared_error = 0.002\\nsamples = 5\\nvalue = 11.705'),\n",
       " Text(0.14531132588811443, 0.5434782608695652, 'X[40] <= 1.5\\nsquared_error = 0.0\\nsamples = 2\\nvalue = 11.754'),\n",
       " Text(0.14448215997719793, 0.5, 'squared_error = 0.0\\nsamples = 1\\nvalue = 11.752'),\n",
       " Text(0.1461404917990309, 0.5, 'squared_error = -0.0\\nsamples = 1\\nvalue = 11.756'),\n",
       " Text(0.14862798953178039, 0.5434782608695652, 'X[26] <= 234.0\\nsquared_error = 0.0\\nsamples = 3\\nvalue = 11.673'),\n",
       " Text(0.14779882362086388, 0.5, 'X[29] <= 6.666\\nsquared_error = 0.0\\nsamples = 2\\nvalue = 11.683'),\n",
       " Text(0.1469696577099474, 0.45652173913043476, 'squared_error = 0.0\\nsamples = 1\\nvalue = 11.678'),\n",
       " Text(0.14862798953178039, 0.45652173913043476, 'squared_error = -0.0\\nsamples = 1\\nvalue = 11.687'),\n",
       " Text(0.14945715544269686, 0.5, 'squared_error = -0.0\\nsamples = 1\\nvalue = 11.653'),\n",
       " Text(0.1772180188117016, 0.6304347826086957, 'X[26] <= 173.5\\nsquared_error = 0.014\\nsamples = 87\\nvalue = 11.69'),\n",
       " Text(0.16601456222631047, 0.5869565217391305, 'X[35] <= 307.5\\nsquared_error = 0.015\\nsamples = 42\\nvalue = 11.644'),\n",
       " Text(0.15728240872697122, 0.5434782608695652, 'X[11] <= 4.0\\nsquared_error = 0.009\\nsamples = 25\\nvalue = 11.588'),\n",
       " Text(0.15645324281605472, 0.5, 'X[52] <= 159.0\\nsquared_error = 0.006\\nsamples = 24\\nvalue = 11.601'),\n",
       " Text(0.15184100743658177, 0.45652173913043476, 'X[52] <= 10.0\\nsquared_error = 0.004\\nsamples = 22\\nvalue = 11.59'),\n",
       " Text(0.1451040344103853, 0.41304347826086957, 'X[10] <= 11.5\\nsquared_error = 0.002\\nsamples = 17\\nvalue = 11.61'),\n",
       " Text(0.13867799860078253, 0.3695652173913043, 'X[6] <= 0.5\\nsquared_error = 0.0\\nsamples = 6\\nvalue = 11.649'),\n",
       " Text(0.13784883268986603, 0.32608695652173914, 'squared_error = 0.0\\nsamples = 1\\nvalue = 11.693'),\n",
       " Text(0.139507164511699, 0.32608695652173914, 'X[21] <= 12.5\\nsquared_error = 0.0\\nsamples = 5\\nvalue = 11.64'),\n",
       " Text(0.13784883268986603, 0.2826086956521739, 'X[37] <= 6.839\\nsquared_error = 0.0\\nsamples = 3\\nvalue = 11.634'),\n",
       " Text(0.13701966677894956, 0.2391304347826087, 'squared_error = 0.0\\nsamples = 1\\nvalue = 11.631'),\n",
       " Text(0.13867799860078253, 0.2391304347826087, 'squared_error = -0.0\\nsamples = 2\\nvalue = 11.635'),\n",
       " Text(0.14116549633353198, 0.2826086956521739, 'X[25] <= 1.5\\nsquared_error = 0.0\\nsamples = 2\\nvalue = 11.651'),\n",
       " Text(0.1403363304226155, 0.2391304347826087, 'squared_error = 0.0\\nsamples = 1\\nvalue = 11.653'),\n",
       " Text(0.14199466224444848, 0.2391304347826087, 'squared_error = 0.0\\nsamples = 1\\nvalue = 11.648'),\n",
       " Text(0.15153007021998807, 0.3695652173913043, 'X[22] <= 14.5\\nsquared_error = 0.002\\nsamples = 11\\nvalue = 11.588'),\n",
       " Text(0.14862798953178039, 0.32608695652173914, 'X[16] <= 6.5\\nsquared_error = 0.001\\nsamples = 9\\nvalue = 11.573'),\n",
       " Text(0.14531132588811443, 0.2826086956521739, 'X[18] <= 1973.5\\nsquared_error = 0.001\\nsamples = 4\\nvalue = 11.544'),\n",
       " Text(0.14365299406628146, 0.2391304347826087, 'X[18] <= 1961.0\\nsquared_error = 0.0\\nsamples = 2\\nvalue = 11.578'),\n",
       " Text(0.14282382815536496, 0.1956521739130435, 'squared_error = 0.0\\nsamples = 1\\nvalue = 11.566'),\n",
       " Text(0.14448215997719793, 0.1956521739130435, 'squared_error = 0.0\\nsamples = 1\\nvalue = 11.59'),\n",
       " Text(0.1469696577099474, 0.2391304347826087, 'X[15] <= 5.5\\nsquared_error = 0.0\\nsamples = 2\\nvalue = 11.51'),\n",
       " Text(0.1461404917990309, 0.1956521739130435, 'squared_error = 0.0\\nsamples = 1\\nvalue = 11.513'),\n",
       " Text(0.14779882362086388, 0.1956521739130435, 'squared_error = -0.0\\nsamples = 1\\nvalue = 11.508'),\n",
       " Text(0.15194465317544634, 0.2826086956521739, 'X[25] <= 2.5\\nsquared_error = 0.0\\nsamples = 5\\nvalue = 11.595'),\n",
       " Text(0.15028632135361336, 0.2391304347826087, 'X[45] <= 5.5\\nsquared_error = 0.0\\nsamples = 3\\nvalue = 11.605'),\n",
       " Text(0.14945715544269686, 0.1956521739130435, 'X[18] <= 1978.0\\nsquared_error = 0.0\\nsamples = 2\\nvalue = 11.604'),\n",
       " Text(0.14862798953178039, 0.15217391304347827, 'squared_error = 0.0\\nsamples = 1\\nvalue = 11.604'),\n",
       " Text(0.15028632135361336, 0.15217391304347827, 'squared_error = 0.0\\nsamples = 1\\nvalue = 11.604'),\n",
       " Text(0.15111548726452984, 0.1956521739130435, 'squared_error = 0.0\\nsamples = 1\\nvalue = 11.607'),\n",
       " Text(0.1536029849972793, 0.2391304347826087, 'X[37] <= 6.75\\nsquared_error = 0.0\\nsamples = 2\\nvalue = 11.581'),\n",
       " Text(0.1527738190863628, 0.1956521739130435, 'squared_error = 0.0\\nsamples = 1\\nvalue = 11.585'),\n",
       " Text(0.1544321509081958, 0.1956521739130435, 'squared_error = -0.0\\nsamples = 1\\nvalue = 11.576'),\n",
       " Text(0.1544321509081958, 0.32608695652173914, 'X[18] <= 1973.0\\nsquared_error = 0.0\\nsamples = 2\\nvalue = 11.657'),\n",
       " Text(0.1536029849972793, 0.2826086956521739, 'squared_error = 0.0\\nsamples = 1\\nvalue = 11.653'),\n",
       " Text(0.15526131681911226, 0.2826086956521739, 'squared_error = 0.0\\nsamples = 1\\nvalue = 11.661'),\n",
       " Text(0.1585779804627782, 0.41304347826086957, 'X[59] <= 2007.5\\nsquared_error = 0.005\\nsamples = 5\\nvalue = 11.521'),\n",
       " Text(0.15691964864094524, 0.3695652173913043, 'X[35] <= 149.5\\nsquared_error = 0.0\\nsamples = 2\\nvalue = 11.604'),\n",
       " Text(0.15609048273002876, 0.32608695652173914, 'squared_error = 0.0\\nsamples = 1\\nvalue = 11.608'),\n",
       " Text(0.15774881455186174, 0.32608695652173914, 'squared_error = -0.0\\nsamples = 1\\nvalue = 11.599'),\n",
       " Text(0.1602363122846112, 0.3695652173913043, 'X[53] <= 40.0\\nsquared_error = 0.001\\nsamples = 3\\nvalue = 11.467'),\n",
       " Text(0.1594071463736947, 0.32608695652173914, 'X[42] <= 2.5\\nsquared_error = 0.0\\nsamples = 2\\nvalue = 11.489'),\n",
       " Text(0.1585779804627782, 0.2826086956521739, 'squared_error = 0.0\\nsamples = 1\\nvalue = 11.482'),\n",
       " Text(0.1602363122846112, 0.2826086956521739, 'squared_error = -0.0\\nsamples = 1\\nvalue = 11.496'),\n",
       " Text(0.1610654781955277, 0.32608695652173914, 'squared_error = 0.0\\nsamples = 1\\nvalue = 11.422'),\n",
       " Text(0.1610654781955277, 0.45652173913043476, 'X[51] <= 6.0\\nsquared_error = 0.001\\nsamples = 2\\nvalue = 11.728'),\n",
       " Text(0.1602363122846112, 0.41304347826086957, 'squared_error = 0.0\\nsamples = 1\\nvalue = 11.76'),\n",
       " Text(0.16189464410644416, 0.41304347826086957, 'squared_error = -0.0\\nsamples = 1\\nvalue = 11.695'),\n",
       " Text(0.1581115746378877, 0.5, 'squared_error = -0.0\\nsamples = 1\\nvalue = 11.284'),\n",
       " Text(0.17474671572564973, 0.5434782608695652, 'X[52] <= 138.0\\nsquared_error = 0.012\\nsamples = 17\\nvalue = 11.725'),\n",
       " Text(0.17184463503744202, 0.5, 'X[49] <= 540.0\\nsquared_error = 0.007\\nsamples = 15\\nvalue = 11.697'),\n",
       " Text(0.16852797139377607, 0.45652173913043476, 'X[34] <= 703.0\\nsquared_error = 0.005\\nsamples = 12\\nvalue = 11.671'),\n",
       " Text(0.16521130775011011, 0.41304347826086957, 'X[48] <= 1.5\\nsquared_error = 0.001\\nsamples = 7\\nvalue = 11.632'),\n",
       " Text(0.16355297592827714, 0.3695652173913043, 'X[8] <= 2.0\\nsquared_error = 0.001\\nsamples = 4\\nvalue = 11.659'),\n",
       " Text(0.16272381001736066, 0.32608695652173914, 'squared_error = 0.0\\nsamples = 1\\nvalue = 11.695'),\n",
       " Text(0.16438214183919364, 0.32608695652173914, 'X[59] <= 2008.5\\nsquared_error = 0.0\\nsamples = 3\\nvalue = 11.647'),\n",
       " Text(0.16355297592827714, 0.2826086956521739, 'X[25] <= 1.0\\nsquared_error = 0.0\\nsamples = 2\\nvalue = 11.657'),\n",
       " Text(0.16272381001736066, 0.2391304347826087, 'squared_error = 0.0\\nsamples = 1\\nvalue = 11.661'),\n",
       " Text(0.16438214183919364, 0.2391304347826087, 'squared_error = 0.0\\nsamples = 1\\nvalue = 11.653'),\n",
       " Text(0.16521130775011011, 0.2826086956521739, 'squared_error = -0.0\\nsamples = 1\\nvalue = 11.626'),\n",
       " Text(0.1668696395719431, 0.3695652173913043, 'X[58] <= 4.5\\nsquared_error = 0.0\\nsamples = 3\\nvalue = 11.596'),\n",
       " Text(0.16604047366102662, 0.32608695652173914, 'squared_error = 0.0\\nsamples = 1\\nvalue = 11.571'),\n",
       " Text(0.1676988054828596, 0.32608695652173914, 'X[17] <= 1915.0\\nsquared_error = 0.0\\nsamples = 2\\nvalue = 11.608'),\n",
       " Text(0.1668696395719431, 0.2826086956521739, 'squared_error = 0.0\\nsamples = 1\\nvalue = 11.608'),\n",
       " Text(0.16852797139377607, 0.2826086956521739, 'squared_error = 0.0\\nsamples = 1\\nvalue = 11.608'),\n",
       " Text(0.17184463503744202, 0.41304347826086957, 'X[53] <= 42.0\\nsquared_error = 0.004\\nsamples = 5\\nvalue = 11.725'),\n",
       " Text(0.17018630321560904, 0.3695652173913043, 'X[58] <= 7.0\\nsquared_error = 0.0\\nsamples = 2\\nvalue = 11.657'),\n",
       " Text(0.16935713730469257, 0.32608695652173914, 'squared_error = 0.0\\nsamples = 1\\nvalue = 11.653'),\n",
       " Text(0.17101546912652554, 0.32608695652173914, 'squared_error = 0.0\\nsamples = 1\\nvalue = 11.661'),\n",
       " Text(0.173502966859275, 0.3695652173913043, 'X[8] <= 3.5\\nsquared_error = 0.001\\nsamples = 3\\nvalue = 11.771'),\n",
       " Text(0.17267380094835852, 0.32608695652173914, 'X[18] <= 1997.0\\nsquared_error = 0.0\\nsamples = 2\\nvalue = 11.75'),\n",
       " Text(0.17184463503744202, 0.2826086956521739, 'squared_error = 0.0\\nsamples = 1\\nvalue = 11.74'),\n",
       " Text(0.173502966859275, 0.2826086956521739, 'squared_error = 0.0\\nsamples = 1\\nvalue = 11.76'),\n",
       " Text(0.1743321327701915, 0.32608695652173914, 'squared_error = 0.0\\nsamples = 1\\nvalue = 11.813'),\n",
       " Text(0.17516129868110797, 0.45652173913043476, 'X[28] <= 582.5\\nsquared_error = 0.001\\nsamples = 3\\nvalue = 11.802'),\n",
       " Text(0.1743321327701915, 0.41304347826086957, 'squared_error = 0.0\\nsamples = 1\\nvalue = 11.752'),\n",
       " Text(0.17599046459202447, 0.41304347826086957, 'X[22] <= 11.5\\nsquared_error = 0.0\\nsamples = 2\\nvalue = 11.827'),\n",
       " Text(0.17516129868110797, 0.3695652173913043, 'squared_error = 0.0\\nsamples = 1\\nvalue = 11.812'),\n",
       " Text(0.17681963050294094, 0.3695652173913043, 'squared_error = 0.0\\nsamples = 1\\nvalue = 11.842'),\n",
       " Text(0.17764879641385745, 0.5, 'X[52] <= 198.0\\nsquared_error = 0.006\\nsamples = 2\\nvalue = 11.934'),\n",
       " Text(0.17681963050294094, 0.45652173913043476, 'squared_error = 0.0\\nsamples = 1\\nvalue = 11.857'),\n",
       " Text(0.17847796232477392, 0.45652173913043476, 'squared_error = 0.0\\nsamples = 1\\nvalue = 12.011'),\n",
       " Text(0.18842147539709272, 0.5869565217391305, 'X[23] <= 2.5\\nsquared_error = 0.009\\nsamples = 45\\nvalue = 11.733'),\n",
       " Text(0.18179462596843987, 0.5434782608695652, 'X[5] <= 1.5\\nsquared_error = 0.006\\nsamples = 3\\nvalue = 11.895'),\n",
       " Text(0.1809654600575234, 0.5, 'X[14] <= 3.0\\nsquared_error = 0.002\\nsamples = 2\\nvalue = 11.944'),\n",
       " Text(0.1801362941466069, 0.45652173913043476, 'squared_error = 0.0\\nsamples = 1\\nvalue = 11.983'),\n",
       " Text(0.18179462596843987, 0.45652173913043476, 'squared_error = 0.0\\nsamples = 1\\nvalue = 11.905'),\n",
       " Text(0.18262379187935637, 0.5, 'squared_error = 0.0\\nsamples = 1\\nvalue = 11.798'),\n",
       " Text(0.1950483248257456, 0.5434782608695652, 'X[18] <= 1969.0\\nsquared_error = 0.008\\nsamples = 42\\nvalue = 11.722'),\n",
       " Text(0.18733967299769388, 0.5, 'X[29] <= 6.683\\nsquared_error = 0.007\\nsamples = 20\\nvalue = 11.67'),\n",
       " Text(0.18345295779027285, 0.45652173913043476, 'X[26] <= 397.5\\nsquared_error = 0.002\\nsamples = 6\\nvalue = 11.6'),\n",
       " Text(0.18262379187935637, 0.41304347826086957, 'X[17] <= 1944.0\\nsquared_error = 0.001\\nsamples = 5\\nvalue = 11.58'),\n",
       " Text(0.18179462596843987, 0.3695652173913043, 'X[26] <= 380.0\\nsquared_error = 0.0\\nsamples = 3\\nvalue = 11.561'),\n",
       " Text(0.1809654600575234, 0.32608695652173914, 'squared_error = -0.0\\nsamples = 2\\nvalue = 11.562'),\n",
       " Text(0.18262379187935637, 0.32608695652173914, 'squared_error = 0.0\\nsamples = 1\\nvalue = 11.561'),\n",
       " Text(0.18345295779027285, 0.3695652173913043, 'squared_error = 0.0\\nsamples = 2\\nvalue = 11.608'),\n",
       " Text(0.18428212370118935, 0.41304347826086957, 'squared_error = 0.0\\nsamples = 1\\nvalue = 11.699'),\n",
       " Text(0.19122638820511492, 0.45652173913043476, 'X[53] <= 116.0\\nsquared_error = 0.006\\nsamples = 14\\nvalue = 11.7'),\n",
       " Text(0.18739149586712617, 0.41304347826086957, 'X[21] <= 7.0\\nsquared_error = 0.004\\nsamples = 11\\nvalue = 11.673'),\n",
       " Text(0.18511128961210582, 0.3695652173913043, 'X[26] <= 386.0\\nsquared_error = 0.002\\nsamples = 2\\nvalue = 11.561'),\n",
       " Text(0.18428212370118935, 0.32608695652173914, 'squared_error = 0.0\\nsamples = 1\\nvalue = 11.608'),\n",
       " Text(0.1859404555230223, 0.32608695652173914, 'squared_error = -0.0\\nsamples = 1\\nvalue = 11.513'),\n",
       " Text(0.1896717021221465, 0.3695652173913043, 'X[3] <= 7213.0\\nsquared_error = 0.001\\nsamples = 9\\nvalue = 11.698'),\n",
       " Text(0.18759878734485527, 0.32608695652173914, 'X[34] <= 926.5\\nsquared_error = 0.0\\nsamples = 2\\nvalue = 11.746'),\n",
       " Text(0.1867696214339388, 0.2826086956521739, 'squared_error = 0.0\\nsamples = 1\\nvalue = 11.736'),\n",
       " Text(0.18842795325577177, 0.2826086956521739, 'squared_error = 0.0\\nsamples = 1\\nvalue = 11.756'),\n",
       " Text(0.19174461689943773, 0.32608695652173914, 'X[27] <= 428.5\\nsquared_error = 0.0\\nsamples = 7\\nvalue = 11.684'),\n",
       " Text(0.19008628507760475, 0.2826086956521739, 'X[49] <= 284.0\\nsquared_error = 0.0\\nsamples = 5\\nvalue = 11.693'),\n",
       " Text(0.18925711916668825, 0.2391304347826087, 'squared_error = 0.0\\nsamples = 1\\nvalue = 11.712'),\n",
       " Text(0.19091545098852122, 0.2391304347826087, 'X[17] <= 1954.5\\nsquared_error = 0.0\\nsamples = 4\\nvalue = 11.688'),\n",
       " Text(0.19008628507760475, 0.1956521739130435, 'X[29] <= 6.741\\nsquared_error = 0.0\\nsamples = 3\\nvalue = 11.685'),\n",
       " Text(0.18925711916668825, 0.15217391304347827, 'squared_error = 0.0\\nsamples = 1\\nvalue = 11.683'),\n",
       " Text(0.19091545098852122, 0.15217391304347827, 'squared_error = -0.0\\nsamples = 2\\nvalue = 11.687'),\n",
       " Text(0.19174461689943773, 0.1956521739130435, 'squared_error = 0.0\\nsamples = 1\\nvalue = 11.695'),\n",
       " Text(0.1934029487212707, 0.2826086956521739, 'X[5] <= 1.5\\nsquared_error = 0.0\\nsamples = 2\\nvalue = 11.663'),\n",
       " Text(0.1925737828103542, 0.2391304347826087, 'squared_error = 0.0\\nsamples = 1\\nvalue = 11.653'),\n",
       " Text(0.19423211463218717, 0.2391304347826087, 'squared_error = -0.0\\nsamples = 1\\nvalue = 11.674'),\n",
       " Text(0.19506128054310368, 0.41304347826086957, 'X[17] <= 1962.5\\nsquared_error = 0.001\\nsamples = 3\\nvalue = 11.8'),\n",
       " Text(0.19423211463218717, 0.3695652173913043, 'X[26] <= 427.5\\nsquared_error = 0.0\\nsamples = 2\\nvalue = 11.816'),\n",
       " Text(0.1934029487212707, 0.32608695652173914, 'squared_error = 0.0\\nsamples = 1\\nvalue = 11.803'),\n",
       " Text(0.19506128054310368, 0.32608695652173914, 'squared_error = 0.0\\nsamples = 1\\nvalue = 11.828'),\n",
       " Text(0.19589044645402015, 0.3695652173913043, 'squared_error = 0.0\\nsamples = 1\\nvalue = 11.768'),\n",
       " Text(0.20275697665379733, 0.5, 'X[3] <= 2114.0\\nsquared_error = 0.004\\nsamples = 22\\nvalue = 11.769'),\n",
       " Text(0.1992071100976861, 0.45652173913043476, 'X[17] <= 1972.5\\nsquared_error = 0.001\\nsamples = 3\\nvalue = 11.681'),\n",
       " Text(0.19837794418676963, 0.41304347826086957, 'X[13] <= 3.5\\nsquared_error = 0.0\\nsamples = 2\\nvalue = 11.703'),\n",
       " Text(0.19754877827585313, 0.3695652173913043, 'squared_error = 0.0\\nsamples = 1\\nvalue = 11.691'),\n",
       " Text(0.1992071100976861, 0.3695652173913043, 'squared_error = 0.0\\nsamples = 1\\nvalue = 11.716'),\n",
       " Text(0.2000362760086026, 0.41304347826086957, 'squared_error = 0.0\\nsamples = 1\\nvalue = 11.635'),\n",
       " Text(0.20630684320990852, 0.45652173913043476, 'X[41] <= 0.5\\nsquared_error = 0.003\\nsamples = 19\\nvalue = 11.782'),\n",
       " Text(0.20366387686886223, 0.41304347826086957, 'X[0] <= 1098.5\\nsquared_error = 0.002\\nsamples = 17\\nvalue = 11.77'),\n",
       " Text(0.20086544191951908, 0.3695652173913043, 'X[39] <= 0.5\\nsquared_error = 0.001\\nsamples = 15\\nvalue = 11.782'),\n",
       " Text(0.19775606975358226, 0.32608695652173914, 'X[26] <= 181.0\\nsquared_error = 0.0\\nsamples = 12\\nvalue = 11.772'),\n",
       " Text(0.19692690384266576, 0.2826086956521739, 'squared_error = 0.0\\nsamples = 1\\nvalue = 11.736'),\n",
       " Text(0.19858523566449873, 0.2826086956521739, 'X[3] <= 12533.5\\nsquared_error = 0.0\\nsamples = 11\\nvalue = 11.776'),\n",
       " Text(0.19651232088720752, 0.2391304347826087, 'X[18] <= 1978.0\\nsquared_error = 0.0\\nsamples = 9\\nvalue = 11.771'),\n",
       " Text(0.19485398906537454, 0.1956521739130435, 'X[0] <= 214.5\\nsquared_error = 0.0\\nsamples = 2\\nvalue = 11.757'),\n",
       " Text(0.19402482315445807, 0.15217391304347827, 'squared_error = 0.0\\nsamples = 1\\nvalue = 11.752'),\n",
       " Text(0.19568315497629105, 0.15217391304347827, 'squared_error = 0.0\\nsamples = 1\\nvalue = 11.761'),\n",
       " Text(0.1981706527090405, 0.1956521739130435, 'X[0] <= 930.0\\nsquared_error = 0.0\\nsamples = 7\\nvalue = 11.775'),\n",
       " Text(0.19734148679812402, 0.15217391304347827, 'X[21] <= 9.5\\nsquared_error = 0.0\\nsamples = 5\\nvalue = 11.778'),\n",
       " Text(0.19568315497629105, 0.10869565217391304, 'X[22] <= 7.0\\nsquared_error = 0.0\\nsamples = 2\\nvalue = 11.781'),\n",
       " Text(0.19485398906537454, 0.06521739130434782, 'squared_error = 0.0\\nsamples = 1\\nvalue = 11.783'),\n",
       " Text(0.19651232088720752, 0.06521739130434782, 'squared_error = 0.0\\nsamples = 1\\nvalue = 11.779'),\n",
       " Text(0.198999818619957, 0.10869565217391304, 'X[58] <= 6.0\\nsquared_error = 0.0\\nsamples = 3\\nvalue = 11.776'),\n",
       " Text(0.1981706527090405, 0.06521739130434782, 'X[49] <= 379.5\\nsquared_error = 0.0\\nsamples = 2\\nvalue = 11.775'),\n",
       " Text(0.19734148679812402, 0.021739130434782608, 'squared_error = 0.0\\nsamples = 1\\nvalue = 11.775'),\n",
       " Text(0.198999818619957, 0.021739130434782608, 'squared_error = 0.0\\nsamples = 1\\nvalue = 11.775'),\n",
       " Text(0.19982898453087347, 0.06521739130434782, 'squared_error = -0.0\\nsamples = 1\\nvalue = 11.777'),\n",
       " Text(0.198999818619957, 0.15217391304347827, 'squared_error = -0.0\\nsamples = 2\\nvalue = 11.768'),\n",
       " Text(0.20065815044178997, 0.2391304347826087, 'X[19] <= 2.0\\nsquared_error = 0.0\\nsamples = 2\\nvalue = 11.796'),\n",
       " Text(0.19982898453087347, 0.1956521739130435, 'squared_error = 0.0\\nsamples = 1\\nvalue = 11.802'),\n",
       " Text(0.20148731635270645, 0.1956521739130435, 'squared_error = -0.0\\nsamples = 1\\nvalue = 11.791'),\n",
       " Text(0.20397481408545592, 0.32608695652173914, 'X[18] <= 2004.0\\nsquared_error = 0.0\\nsamples = 3\\nvalue = 11.822'),\n",
       " Text(0.20314564817453942, 0.2826086956521739, 'X[52] <= 16.0\\nsquared_error = 0.0\\nsamples = 2\\nvalue = 11.812'),\n",
       " Text(0.20231648226362295, 0.2391304347826087, 'squared_error = 0.0\\nsamples = 1\\nvalue = 11.813'),\n",
       " Text(0.20397481408545592, 0.2391304347826087, 'squared_error = -0.0\\nsamples = 1\\nvalue = 11.812'),\n",
       " Text(0.2048039799963724, 0.2826086956521739, 'squared_error = 0.0\\nsamples = 1\\nvalue = 11.842'),\n",
       " Text(0.20646231181820537, 0.3695652173913043, 'X[5] <= 1.5\\nsquared_error = 0.0\\nsamples = 2\\nvalue = 11.681'),\n",
       " Text(0.2056331459072889, 0.32608695652173914, 'squared_error = 0.0\\nsamples = 1\\nvalue = 11.691'),\n",
       " Text(0.20729147772912185, 0.32608695652173914, 'squared_error = 0.0\\nsamples = 1\\nvalue = 11.67'),\n",
       " Text(0.20894980955095482, 0.41304347826086957, 'X[26] <= 269.5\\nsquared_error = 0.0\\nsamples = 2\\nvalue = 11.885'),\n",
       " Text(0.20812064364003835, 0.3695652173913043, 'squared_error = 0.0\\nsamples = 1\\nvalue = 11.898'),\n",
       " Text(0.20977897546187133, 0.3695652173913043, 'squared_error = 0.0\\nsamples = 1\\nvalue = 11.872'),\n",
       " Text(0.24264115254061616, 0.7608695652173914, 'X[53] <= 228.0\\nsquared_error = 0.02\\nsamples = 81\\nvalue = 11.793'),\n",
       " Text(0.2418119866296997, 0.717391304347826, 'X[49] <= 281.0\\nsquared_error = 0.013\\nsamples = 80\\nvalue = 11.802'),\n",
       " Text(0.2162050112714741, 0.6739130434782609, 'X[34] <= 691.0\\nsquared_error = 0.013\\nsamples = 19\\nvalue = 11.677'),\n",
       " Text(0.21268105615007904, 0.6304347826086957, 'X[13] <= 1.5\\nsquared_error = 0.0\\nsamples = 2\\nvalue = 11.413'),\n",
       " Text(0.21185189023916254, 0.5869565217391305, 'squared_error = 0.0\\nsamples = 1\\nvalue = 11.396'),\n",
       " Text(0.2135102220609955, 0.5869565217391305, 'squared_error = 0.0\\nsamples = 1\\nvalue = 11.43'),\n",
       " Text(0.21972896639286918, 0.6304347826086957, 'X[34] <= 947.5\\nsquared_error = 0.005\\nsamples = 17\\nvalue = 11.708'),\n",
       " Text(0.2151685538828285, 0.5869565217391305, 'X[49] <= 252.0\\nsquared_error = 0.004\\nsamples = 10\\nvalue = 11.671'),\n",
       " Text(0.21226647319462078, 0.5434782608695652, 'X[24] <= 3.0\\nsquared_error = 0.001\\nsamples = 6\\nvalue = 11.629'),\n",
       " Text(0.2106081413727878, 0.5, 'X[0] <= 772.0\\nsquared_error = 0.0\\nsamples = 2\\nvalue = 11.674'),\n",
       " Text(0.20977897546187133, 0.45652173913043476, 'squared_error = 0.0\\nsamples = 1\\nvalue = 11.683'),\n",
       " Text(0.2114373072837043, 0.45652173913043476, 'squared_error = 0.0\\nsamples = 1\\nvalue = 11.666'),\n",
       " Text(0.21392480501645375, 0.5, 'X[26] <= 876.5\\nsquared_error = 0.0\\nsamples = 4\\nvalue = 11.606'),\n",
       " Text(0.21309563910553728, 0.45652173913043476, 'X[3] <= 8228.5\\nsquared_error = 0.0\\nsamples = 3\\nvalue = 11.613'),\n",
       " Text(0.21226647319462078, 0.41304347826086957, 'X[44] <= 2.5\\nsquared_error = 0.0\\nsamples = 2\\nvalue = 11.606'),\n",
       " Text(0.2114373072837043, 0.3695652173913043, 'squared_error = 0.0\\nsamples = 1\\nvalue = 11.604'),\n",
       " Text(0.21309563910553728, 0.3695652173913043, 'squared_error = 0.0\\nsamples = 1\\nvalue = 11.608'),\n",
       " Text(0.21392480501645375, 0.41304347826086957, 'squared_error = -0.0\\nsamples = 1\\nvalue = 11.626'),\n",
       " Text(0.21475397092737025, 0.45652173913043476, 'squared_error = 0.0\\nsamples = 1\\nvalue = 11.585'),\n",
       " Text(0.2180706345710362, 0.5434782608695652, 'X[21] <= 10.5\\nsquared_error = 0.001\\nsamples = 4\\nvalue = 11.735'),\n",
       " Text(0.2172414686601197, 0.5, 'X[58] <= 8.0\\nsquared_error = 0.0\\nsamples = 3\\nvalue = 11.72'),\n",
       " Text(0.21641230274920323, 0.45652173913043476, 'X[28] <= 135.0\\nsquared_error = 0.0\\nsamples = 2\\nvalue = 11.734'),\n",
       " Text(0.21558313683828673, 0.41304347826086957, 'squared_error = 0.0\\nsamples = 1\\nvalue = 11.736'),\n",
       " Text(0.2172414686601197, 0.41304347826086957, 'squared_error = 0.0\\nsamples = 1\\nvalue = 11.732'),\n",
       " Text(0.2180706345710362, 0.45652173913043476, 'squared_error = 0.0\\nsamples = 1\\nvalue = 11.691'),\n",
       " Text(0.21889980048195268, 0.5, 'squared_error = 0.0\\nsamples = 1\\nvalue = 11.779'),\n",
       " Text(0.22428937890290984, 0.5869565217391305, 'X[49] <= 267.0\\nsquared_error = 0.002\\nsamples = 7\\nvalue = 11.76'),\n",
       " Text(0.22221646412561863, 0.5434782608695652, 'X[44] <= 2.5\\nsquared_error = 0.001\\nsamples = 5\\nvalue = 11.78'),\n",
       " Text(0.22055813230378565, 0.5, 'X[28] <= 388.0\\nsquared_error = 0.0\\nsamples = 2\\nvalue = 11.802'),\n",
       " Text(0.21972896639286918, 0.45652173913043476, 'squared_error = 0.0\\nsamples = 1\\nvalue = 11.809'),\n",
       " Text(0.22138729821470216, 0.45652173913043476, 'squared_error = 0.0\\nsamples = 1\\nvalue = 11.794'),\n",
       " Text(0.2238747959474516, 0.5, 'X[0] <= 584.0\\nsquared_error = 0.0\\nsamples = 3\\nvalue = 11.766'),\n",
       " Text(0.22304563003653513, 0.45652173913043476, 'squared_error = -0.0\\nsamples = 1\\nvalue = 11.791'),\n",
       " Text(0.2247039618583681, 0.45652173913043476, 'X[41] <= 0.5\\nsquared_error = 0.0\\nsamples = 2\\nvalue = 11.754'),\n",
       " Text(0.2238747959474516, 0.41304347826086957, 'squared_error = 0.0\\nsamples = 1\\nvalue = 11.756'),\n",
       " Text(0.22553312776928458, 0.41304347826086957, 'squared_error = -0.0\\nsamples = 1\\nvalue = 11.752'),\n",
       " Text(0.22636229368020108, 0.5434782608695652, 'X[58] <= 6.0\\nsquared_error = 0.001\\nsamples = 2\\nvalue = 11.709'),\n",
       " Text(0.22553312776928458, 0.5, 'squared_error = 0.0\\nsamples = 1\\nvalue = 11.687'),\n",
       " Text(0.22719145959111756, 0.5, 'squared_error = 0.0\\nsamples = 1\\nvalue = 11.732'),\n",
       " Text(0.26741896198792525, 0.6739130434782609, 'X[3] <= 11976.5\\nsquared_error = 0.007\\nsamples = 61\\nvalue = 11.841'),\n",
       " Text(0.2558235949524525, 0.6304347826086957, 'X[15] <= 5.5\\nsquared_error = 0.005\\nsamples = 52\\nvalue = 11.823'),\n",
       " Text(0.24672868136708728, 0.5869565217391305, 'X[18] <= 1976.0\\nsquared_error = 0.004\\nsamples = 34\\nvalue = 11.794'),\n",
       " Text(0.23973259399372943, 0.5434782608695652, 'X[26] <= 780.5\\nsquared_error = 0.003\\nsamples = 21\\nvalue = 11.771'),\n",
       " Text(0.2340320783561786, 0.5, 'X[28] <= 344.0\\nsquared_error = 0.001\\nsamples = 13\\nvalue = 11.746'),\n",
       " Text(0.23009354027932527, 0.45652173913043476, 'X[37] <= 6.779\\nsquared_error = 0.001\\nsamples = 10\\nvalue = 11.735'),\n",
       " Text(0.22719145959111756, 0.41304347826086957, 'X[58] <= 5.5\\nsquared_error = 0.0\\nsamples = 3\\nvalue = 11.773'),\n",
       " Text(0.22636229368020108, 0.3695652173913043, 'squared_error = 0.0\\nsamples = 1\\nvalue = 11.771'),\n",
       " Text(0.22802062550203406, 0.3695652173913043, 'X[49] <= 466.0\\nsquared_error = 0.0\\nsamples = 2\\nvalue = 11.775'),\n",
       " Text(0.22719145959111756, 0.32608695652173914, 'squared_error = 0.0\\nsamples = 1\\nvalue = 11.775'),\n",
       " Text(0.22884979141295053, 0.32608695652173914, 'squared_error = 0.0\\nsamples = 1\\nvalue = 11.775'),\n",
       " Text(0.23299562096753298, 0.41304347826086957, 'X[26] <= 739.5\\nsquared_error = 0.0\\nsamples = 7\\nvalue = 11.718'),\n",
       " Text(0.2313372891457, 0.3695652173913043, 'X[3] <= 9078.0\\nsquared_error = 0.0\\nsamples = 3\\nvalue = 11.7'),\n",
       " Text(0.2305081232347835, 0.32608695652173914, 'squared_error = 0.0\\nsamples = 2\\nvalue = 11.694'),\n",
       " Text(0.23216645505661648, 0.32608695652173914, 'squared_error = 0.0\\nsamples = 1\\nvalue = 11.712'),\n",
       " Text(0.23465395278936596, 0.3695652173913043, 'X[16] <= 5.5\\nsquared_error = 0.0\\nsamples = 4\\nvalue = 11.732'),\n",
       " Text(0.23382478687844946, 0.32608695652173914, 'squared_error = 0.0\\nsamples = 2\\nvalue = 11.72'),\n",
       " Text(0.23548311870028243, 0.32608695652173914, 'X[52] <= 18.0\\nsquared_error = 0.0\\nsamples = 2\\nvalue = 11.744'),\n",
       " Text(0.23465395278936596, 0.2826086956521739, 'squared_error = 0.0\\nsamples = 1\\nvalue = 11.752'),\n",
       " Text(0.2363122846111989, 0.2826086956521739, 'squared_error = -0.0\\nsamples = 1\\nvalue = 11.736'),\n",
       " Text(0.23797061643303188, 0.45652173913043476, 'X[28] <= 455.0\\nsquared_error = 0.001\\nsamples = 3\\nvalue = 11.781'),\n",
       " Text(0.2371414505221154, 0.41304347826086957, 'X[29] <= 6.837\\nsquared_error = 0.0\\nsamples = 2\\nvalue = 11.766'),\n",
       " Text(0.2363122846111989, 0.3695652173913043, 'squared_error = 0.0\\nsamples = 1\\nvalue = 11.768'),\n",
       " Text(0.23797061643303188, 0.3695652173913043, 'squared_error = 0.0\\nsamples = 1\\nvalue = 11.764'),\n",
       " Text(0.23879978234394839, 0.41304347826086957, 'squared_error = 0.0\\nsamples = 1\\nvalue = 11.813'),\n",
       " Text(0.2454331096312803, 0.5, 'X[17] <= 1968.5\\nsquared_error = 0.004\\nsamples = 8\\nvalue = 11.811'),\n",
       " Text(0.2429456118985308, 0.45652173913043476, 'X[0] <= 771.0\\nsquared_error = 0.001\\nsamples = 6\\nvalue = 11.778'),\n",
       " Text(0.24045811416578136, 0.41304347826086957, 'X[38] <= 0.5\\nsquared_error = 0.0\\nsamples = 3\\nvalue = 11.757'),\n",
       " Text(0.23962894825486486, 0.3695652173913043, 'squared_error = 0.0\\nsamples = 1\\nvalue = 11.736'),\n",
       " Text(0.24128728007669784, 0.3695652173913043, 'X[29] <= 6.921\\nsquared_error = 0.0\\nsamples = 2\\nvalue = 11.768'),\n",
       " Text(0.24045811416578136, 0.32608695652173914, 'squared_error = 0.0\\nsamples = 1\\nvalue = 11.764'),\n",
       " Text(0.24211644598761434, 0.32608695652173914, 'squared_error = 0.0\\nsamples = 1\\nvalue = 11.771'),\n",
       " Text(0.2454331096312803, 0.41304347826086957, 'X[17] <= 1964.0\\nsquared_error = 0.0\\nsamples = 3\\nvalue = 11.798'),\n",
       " Text(0.2446039437203638, 0.3695652173913043, 'X[26] <= 804.0\\nsquared_error = 0.0\\nsamples = 2\\nvalue = 11.804'),\n",
       " Text(0.2437747778094473, 0.32608695652173914, 'squared_error = 0.0\\nsamples = 1\\nvalue = 11.809'),\n",
       " Text(0.2454331096312803, 0.32608695652173914, 'squared_error = 0.0\\nsamples = 1\\nvalue = 11.798'),\n",
       " Text(0.24626227554219676, 0.3695652173913043, 'squared_error = -0.0\\nsamples = 1\\nvalue = 11.787'),\n",
       " Text(0.24792060736402974, 0.45652173913043476, 'X[26] <= 861.0\\nsquared_error = 0.0\\nsamples = 2\\nvalue = 11.913'),\n",
       " Text(0.24709144145311326, 0.41304347826086957, 'squared_error = 0.0\\nsamples = 1\\nvalue = 11.908'),\n",
       " Text(0.24874977327494624, 0.41304347826086957, 'squared_error = 0.0\\nsamples = 1\\nvalue = 11.918'),\n",
       " Text(0.25372476874044514, 0.5434782608695652, 'X[51] <= 201.0\\nsquared_error = 0.002\\nsamples = 13\\nvalue = 11.831'),\n",
       " Text(0.2520664369186122, 0.5, 'X[28] <= 457.5\\nsquared_error = 0.001\\nsamples = 10\\nvalue = 11.816'),\n",
       " Text(0.2512372710076957, 0.45652173913043476, 'X[49] <= 636.0\\nsquared_error = 0.001\\nsamples = 9\\nvalue = 11.824'),\n",
       " Text(0.2504081050967792, 0.41304347826086957, 'X[51] <= 50.0\\nsquared_error = 0.0\\nsamples = 8\\nvalue = 11.817'),\n",
       " Text(0.248335190319488, 0.3695652173913043, 'X[29] <= 6.873\\nsquared_error = 0.0\\nsamples = 4\\nvalue = 11.827'),\n",
       " Text(0.2475060244085715, 0.32608695652173914, 'X[28] <= 84.0\\nsquared_error = 0.0\\nsamples = 3\\nvalue = 11.824'),\n",
       " Text(0.24667685849765503, 0.2826086956521739, 'squared_error = 0.0\\nsamples = 1\\nvalue = 11.82'),\n",
       " Text(0.248335190319488, 0.2826086956521739, 'X[45] <= 5.0\\nsquared_error = 0.0\\nsamples = 2\\nvalue = 11.826'),\n",
       " Text(0.2475060244085715, 0.2391304347826087, 'squared_error = 0.0\\nsamples = 1\\nvalue = 11.828'),\n",
       " Text(0.24916435623040448, 0.2391304347826087, 'squared_error = 0.0\\nsamples = 1\\nvalue = 11.824'),\n",
       " Text(0.24916435623040448, 0.32608695652173914, 'squared_error = 0.0\\nsamples = 1\\nvalue = 11.835'),\n",
       " Text(0.2524810198740704, 0.3695652173913043, 'X[17] <= 1974.5\\nsquared_error = 0.0\\nsamples = 4\\nvalue = 11.807'),\n",
       " Text(0.25082268805223745, 0.32608695652173914, 'X[39] <= 0.5\\nsquared_error = 0.0\\nsamples = 2\\nvalue = 11.801'),\n",
       " Text(0.24999352214132098, 0.2826086956521739, 'squared_error = 0.0\\nsamples = 1\\nvalue = 11.798'),\n",
       " Text(0.2516518539631539, 0.2826086956521739, 'squared_error = -0.0\\nsamples = 1\\nvalue = 11.805'),\n",
       " Text(0.2541393516959034, 0.32608695652173914, 'X[38] <= 0.5\\nsquared_error = 0.0\\nsamples = 2\\nvalue = 11.813'),\n",
       " Text(0.25331018578498693, 0.2826086956521739, 'squared_error = 0.0\\nsamples = 1\\nvalue = 11.813'),\n",
       " Text(0.2549685176068199, 0.2826086956521739, 'squared_error = 0.0\\nsamples = 1\\nvalue = 11.812'),\n",
       " Text(0.2520664369186122, 0.41304347826086957, 'squared_error = 0.0\\nsamples = 1\\nvalue = 11.884'),\n",
       " Text(0.25289560282952867, 0.45652173913043476, 'squared_error = 0.0\\nsamples = 1\\nvalue = 11.744'),\n",
       " Text(0.25538310056227814, 0.5, 'X[29] <= 6.844\\nsquared_error = 0.001\\nsamples = 3\\nvalue = 11.878'),\n",
       " Text(0.25455393465136167, 0.45652173913043476, 'X[21] <= 7.0\\nsquared_error = 0.0\\nsamples = 2\\nvalue = 11.858'),\n",
       " Text(0.25372476874044514, 0.41304347826086957, 'squared_error = 0.0\\nsamples = 1\\nvalue = 11.878'),\n",
       " Text(0.25538310056227814, 0.41304347826086957, 'squared_error = 0.0\\nsamples = 1\\nvalue = 11.839'),\n",
       " Text(0.2562122664731946, 0.45652173913043476, 'squared_error = 0.0\\nsamples = 1\\nvalue = 11.918'),\n",
       " Text(0.26491850853781773, 0.5869565217391305, 'X[47] <= 0.5\\nsquared_error = 0.003\\nsamples = 18\\nvalue = 11.878'),\n",
       " Text(0.26118726193869357, 0.5434782608695652, 'X[28] <= 187.5\\nsquared_error = 0.002\\nsamples = 10\\nvalue = 11.843'),\n",
       " Text(0.25952893011686057, 0.5, 'X[26] <= 966.5\\nsquared_error = 0.001\\nsamples = 8\\nvalue = 11.861'),\n",
       " Text(0.2586997642059441, 0.45652173913043476, 'X[58] <= 4.0\\nsquared_error = 0.0\\nsamples = 7\\nvalue = 11.868'),\n",
       " Text(0.2570414323841111, 0.41304347826086957, 'X[2] <= 3.5\\nsquared_error = 0.0\\nsamples = 2\\nvalue = 11.846'),\n",
       " Text(0.2562122664731946, 0.3695652173913043, 'squared_error = 0.0\\nsamples = 1\\nvalue = 11.867'),\n",
       " Text(0.2578705982950276, 0.3695652173913043, 'squared_error = 0.0\\nsamples = 1\\nvalue = 11.824'),\n",
       " Text(0.26035809602777704, 0.41304347826086957, 'X[34] <= 992.0\\nsquared_error = 0.0\\nsamples = 5\\nvalue = 11.877'),\n",
       " Text(0.25952893011686057, 0.3695652173913043, 'X[58] <= 5.5\\nsquared_error = 0.0\\nsamples = 4\\nvalue = 11.872'),\n",
       " Text(0.2578705982950276, 0.32608695652173914, 'X[3] <= 5597.0\\nsquared_error = 0.0\\nsamples = 2\\nvalue = 11.867'),\n",
       " Text(0.2570414323841111, 0.2826086956521739, 'squared_error = 0.0\\nsamples = 1\\nvalue = 11.871'),\n",
       " Text(0.2586997642059441, 0.2826086956521739, 'squared_error = 0.0\\nsamples = 1\\nvalue = 11.864'),\n",
       " Text(0.26118726193869357, 0.32608695652173914, 'X[10] <= 9.0\\nsquared_error = 0.0\\nsamples = 2\\nvalue = 11.877'),\n",
       " Text(0.26035809602777704, 0.2826086956521739, 'squared_error = 0.0\\nsamples = 1\\nvalue = 11.878'),\n",
       " Text(0.26201642784961005, 0.2826086956521739, 'squared_error = 0.0\\nsamples = 1\\nvalue = 11.876'),\n",
       " Text(0.26118726193869357, 0.3695652173913043, 'squared_error = 0.0\\nsamples = 1\\nvalue = 11.898'),\n",
       " Text(0.26035809602777704, 0.45652173913043476, 'squared_error = 0.0\\nsamples = 1\\nvalue = 11.813'),\n",
       " Text(0.2628455937605265, 0.5, 'X[0] <= 806.0\\nsquared_error = 0.0\\nsamples = 2\\nvalue = 11.771'),\n",
       " Text(0.26201642784961005, 0.45652173913043476, 'squared_error = 0.0\\nsamples = 1\\nvalue = 11.756'),\n",
       " Text(0.263674759671443, 0.45652173913043476, 'squared_error = -0.0\\nsamples = 1\\nvalue = 11.787'),\n",
       " Text(0.26864975513694195, 0.5434782608695652, 'X[59] <= 2007.5\\nsquared_error = 0.001\\nsamples = 8\\nvalue = 11.921'),\n",
       " Text(0.26616225740419247, 0.5, 'X[21] <= 9.0\\nsquared_error = 0.0\\nsamples = 4\\nvalue = 11.943'),\n",
       " Text(0.265333091493276, 0.45652173913043476, 'squared_error = 0.0\\nsamples = 1\\nvalue = 11.905'),\n",
       " Text(0.26699142331510894, 0.45652173913043476, 'X[34] <= 754.0\\nsquared_error = 0.0\\nsamples = 3\\nvalue = 11.955'),\n",
       " Text(0.26616225740419247, 0.41304347826086957, 'squared_error = 0.0\\nsamples = 1\\nvalue = 11.951'),\n",
       " Text(0.2678205892260254, 0.41304347826086957, 'X[1] <= 102.5\\nsquared_error = 0.0\\nsamples = 2\\nvalue = 11.957'),\n",
       " Text(0.26699142331510894, 0.3695652173913043, 'squared_error = 0.0\\nsamples = 1\\nvalue = 11.958'),\n",
       " Text(0.26864975513694195, 0.3695652173913043, 'squared_error = -0.0\\nsamples = 1\\nvalue = 11.957'),\n",
       " Text(0.27113725286969137, 0.5, 'X[28] <= 168.5\\nsquared_error = 0.001\\nsamples = 4\\nvalue = 11.898'),\n",
       " Text(0.2703080869587749, 0.45652173913043476, 'X[0] <= 1066.5\\nsquared_error = 0.001\\nsamples = 2\\nvalue = 11.885'),\n",
       " Text(0.2694789210478584, 0.41304347826086957, 'squared_error = 0.0\\nsamples = 1\\nvalue = 11.857'),\n",
       " Text(0.27113725286969137, 0.41304347826086957, 'squared_error = 0.0\\nsamples = 1\\nvalue = 11.914'),\n",
       " Text(0.2719664187806079, 0.45652173913043476, 'squared_error = -0.0\\nsamples = 2\\nvalue = 11.912'),\n",
       " Text(0.279014329023398, 0.6304347826086957, 'X[1] <= 25.0\\nsquared_error = 0.007\\nsamples = 9\\nvalue = 11.949'),\n",
       " Text(0.2769414142461068, 0.5869565217391305, 'X[21] <= 7.0\\nsquared_error = 0.002\\nsamples = 6\\nvalue = 11.898'),\n",
       " Text(0.27528308242427385, 0.5434782608695652, 'X[37] <= 6.828\\nsquared_error = 0.0\\nsamples = 3\\nvalue = 11.857'),\n",
       " Text(0.2744539165133573, 0.5, 'X[16] <= 5.5\\nsquared_error = 0.0\\nsamples = 2\\nvalue = 11.872'),\n",
       " Text(0.27362475060244085, 0.45652173913043476, 'squared_error = 0.0\\nsamples = 1\\nvalue = 11.867'),\n",
       " Text(0.27528308242427385, 0.45652173913043476, 'squared_error = -0.0\\nsamples = 1\\nvalue = 11.878'),\n",
       " Text(0.2761122483351903, 0.5, 'squared_error = -0.0\\nsamples = 1\\nvalue = 11.828'),\n",
       " Text(0.2785997460679398, 0.5434782608695652, 'X[18] <= 1995.5\\nsquared_error = 0.0\\nsamples = 3\\nvalue = 11.939'),\n",
       " Text(0.2777705801570233, 0.5, 'squared_error = 0.0\\nsamples = 1\\nvalue = 11.958'),\n",
       " Text(0.2794289119788563, 0.5, 'X[15] <= 5.5\\nsquared_error = 0.0\\nsamples = 2\\nvalue = 11.93'),\n",
       " Text(0.2785997460679398, 0.45652173913043476, 'squared_error = 0.0\\nsamples = 1\\nvalue = 11.932'),\n",
       " Text(0.28025807788977275, 0.45652173913043476, 'squared_error = 0.0\\nsamples = 1\\nvalue = 11.928'),\n",
       " Text(0.2810872438006892, 0.5869565217391305, 'X[19] <= 0.5\\nsquared_error = 0.002\\nsamples = 3\\nvalue = 12.049'),\n",
       " Text(0.28025807788977275, 0.5434782608695652, 'squared_error = 0.0\\nsamples = 1\\nvalue = 12.101'),\n",
       " Text(0.28191640971160575, 0.5434782608695652, 'X[31] <= 2.0\\nsquared_error = 0.0\\nsamples = 2\\nvalue = 12.024'),\n",
       " Text(0.2810872438006892, 0.5, 'squared_error = 0.0\\nsamples = 1\\nvalue = 12.005'),\n",
       " Text(0.2827455756225222, 0.5, 'squared_error = 0.0\\nsamples = 1\\nvalue = 12.043'),\n",
       " Text(0.24347031845153266, 0.717391304347826, 'squared_error = -0.0\\nsamples = 1\\nvalue = 11.041'),\n",
       " Text(0.3170608173762081, 0.8043478260869565, 'X[16] <= 3.5\\nsquared_error = 0.031\\nsamples = 146\\nvalue = 11.888'),\n",
       " Text(0.29490289689840127, 0.7608695652173914, 'X[46] <= 2.5\\nsquared_error = 0.003\\nsamples = 2\\nvalue = 11.057'),\n",
       " Text(0.2940737309874848, 0.717391304347826, 'squared_error = 0.0\\nsamples = 1\\nvalue = 11.112'),\n",
       " Text(0.29573206280931774, 0.717391304347826, 'squared_error = 0.0\\nsamples = 1\\nvalue = 11.002'),\n",
       " Text(0.33921873785401496, 0.7608695652173914, 'X[29] <= 7.048\\nsquared_error = 0.022\\nsamples = 144\\nvalue = 11.9'),\n",
       " Text(0.29739039463115075, 0.717391304347826, 'X[49] <= 253.0\\nsquared_error = 0.017\\nsamples = 92\\nvalue = 11.845'),\n",
       " Text(0.2856476563107299, 0.6739130434782609, 'X[59] <= 2006.5\\nsquared_error = 0.029\\nsamples = 9\\nvalue = 11.662'),\n",
       " Text(0.2835747415334387, 0.6304347826086957, 'X[52] <= 46.0\\nsquared_error = 0.002\\nsamples = 2\\nvalue = 11.392'),\n",
       " Text(0.2827455756225222, 0.5869565217391305, 'squared_error = 0.0\\nsamples = 1\\nvalue = 11.44'),\n",
       " Text(0.2844039074443552, 0.5869565217391305, 'squared_error = 0.0\\nsamples = 1\\nvalue = 11.345'),\n",
       " Text(0.2877205710880211, 0.6304347826086957, 'X[26] <= 271.0\\nsquared_error = 0.01\\nsamples = 7\\nvalue = 11.739'),\n",
       " Text(0.2860622392661882, 0.5869565217391305, 'X[11] <= 0.5\\nsquared_error = 0.008\\nsamples = 3\\nvalue = 11.819'),\n",
       " Text(0.2852330733552717, 0.5434782608695652, 'squared_error = 0.0\\nsamples = 1\\nvalue = 11.695'),\n",
       " Text(0.28689140517710465, 0.5434782608695652, 'X[22] <= 10.5\\nsquared_error = 0.0\\nsamples = 2\\nvalue = 11.881'),\n",
       " Text(0.2860622392661882, 0.5, 'squared_error = 0.0\\nsamples = 1\\nvalue = 11.864'),\n",
       " Text(0.2877205710880211, 0.5, 'squared_error = 0.0\\nsamples = 1\\nvalue = 11.898'),\n",
       " Text(0.28937890290985413, 0.5869565217391305, 'X[37] <= 6.973\\nsquared_error = 0.003\\nsamples = 4\\nvalue = 11.68'),\n",
       " Text(0.28854973699893766, 0.5434782608695652, 'squared_error = 0.0\\nsamples = 1\\nvalue = 11.599'),\n",
       " Text(0.2902080688207706, 0.5434782608695652, 'X[21] <= 10.5\\nsquared_error = 0.001\\nsamples = 3\\nvalue = 11.706'),\n",
       " Text(0.28937890290985413, 0.5, 'X[15] <= 5.5\\nsquared_error = 0.0\\nsamples = 2\\nvalue = 11.683'),\n",
       " Text(0.28854973699893766, 0.45652173913043476, 'squared_error = 0.0\\nsamples = 1\\nvalue = 11.678'),\n",
       " Text(0.2902080688207706, 0.45652173913043476, 'squared_error = 0.0\\nsamples = 1\\nvalue = 11.689'),\n",
       " Text(0.2910372347316871, 0.5, 'squared_error = 0.0\\nsamples = 1\\nvalue = 11.752'),\n",
       " Text(0.3091331329515715, 0.6739130434782609, 'X[17] <= 1936.5\\nsquared_error = 0.012\\nsamples = 83\\nvalue = 11.865'),\n",
       " Text(0.2951830642862695, 0.6304347826086957, 'X[42] <= 2.5\\nsquared_error = 0.015\\nsamples = 5\\nvalue = 11.659'),\n",
       " Text(0.29435389837535303, 0.5869565217391305, 'X[38] <= 0.5\\nsquared_error = 0.004\\nsamples = 4\\nvalue = 11.604'),\n",
       " Text(0.29352473246443656, 0.5434782608695652, 'X[37] <= 7.088\\nsquared_error = 0.002\\nsamples = 3\\nvalue = 11.573'),\n",
       " Text(0.2926955665535201, 0.5, 'X[26] <= 198.5\\nsquared_error = 0.0\\nsamples = 2\\nvalue = 11.604'),\n",
       " Text(0.2918664006426036, 0.45652173913043476, 'squared_error = 0.0\\nsamples = 1\\nvalue = 11.594'),\n",
       " Text(0.29352473246443656, 0.45652173913043476, 'squared_error = -0.0\\nsamples = 1\\nvalue = 11.613'),\n",
       " Text(0.29435389837535303, 0.5, 'squared_error = -0.0\\nsamples = 1\\nvalue = 11.513'),\n",
       " Text(0.2951830642862695, 0.5434782608695652, 'squared_error = 0.0\\nsamples = 1\\nvalue = 11.695'),\n",
       " Text(0.29601223019718603, 0.5869565217391305, 'squared_error = 0.0\\nsamples = 1\\nvalue = 11.878'),\n",
       " Text(0.32308320161687354, 0.6304347826086957, 'X[18] <= 1963.5\\nsquared_error = 0.009\\nsamples = 78\\nvalue = 11.878'),\n",
       " Text(0.30648044982250666, 0.5869565217391305, 'X[15] <= 5.5\\nsquared_error = 0.005\\nsamples = 25\\nvalue = 11.814'),\n",
       " Text(0.30119451714041406, 0.5434782608695652, 'X[58] <= 5.5\\nsquared_error = 0.003\\nsamples = 18\\nvalue = 11.789'),\n",
       " Text(0.2968413961081025, 0.5, 'X[3] <= 7836.5\\nsquared_error = 0.001\\nsamples = 8\\nvalue = 11.832'),\n",
       " Text(0.2951830642862695, 0.45652173913043476, 'X[47] <= 0.5\\nsquared_error = 0.0\\nsamples = 3\\nvalue = 11.787'),\n",
       " Text(0.29435389837535303, 0.41304347826086957, 'X[49] <= 558.0\\nsquared_error = 0.0\\nsamples = 2\\nvalue = 11.792'),\n",
       " Text(0.29352473246443656, 0.3695652173913043, 'squared_error = 0.0\\nsamples = 1\\nvalue = 11.794'),\n",
       " Text(0.2951830642862695, 0.3695652173913043, 'squared_error = -0.0\\nsamples = 1\\nvalue = 11.791'),\n",
       " Text(0.29601223019718603, 0.41304347826086957, 'squared_error = -0.0\\nsamples = 1\\nvalue = 11.775'),\n",
       " Text(0.29849972792993545, 0.45652173913043476, 'X[29] <= 6.959\\nsquared_error = 0.0\\nsamples = 5\\nvalue = 11.858'),\n",
       " Text(0.297670562019019, 0.41304347826086957, 'squared_error = 0.0\\nsamples = 1\\nvalue = 11.824'),\n",
       " Text(0.299328893840852, 0.41304347826086957, 'X[1] <= 50.0\\nsquared_error = 0.0\\nsamples = 4\\nvalue = 11.867'),\n",
       " Text(0.29849972792993545, 0.3695652173913043, 'squared_error = 0.0\\nsamples = 2\\nvalue = 11.857'),\n",
       " Text(0.30015805975176846, 0.3695652173913043, 'X[13] <= 0.5\\nsquared_error = 0.0\\nsamples = 2\\nvalue = 11.878'),\n",
       " Text(0.299328893840852, 0.32608695652173914, 'squared_error = 0.0\\nsamples = 1\\nvalue = 11.871'),\n",
       " Text(0.30098722566268493, 0.32608695652173914, 'squared_error = 0.0\\nsamples = 1\\nvalue = 11.884'),\n",
       " Text(0.3055476381727256, 0.5, 'X[17] <= 1955.0\\nsquared_error = 0.002\\nsamples = 10\\nvalue = 11.755'),\n",
       " Text(0.3034747233954344, 0.45652173913043476, 'X[0] <= 751.5\\nsquared_error = 0.0\\nsamples = 3\\nvalue = 11.707'),\n",
       " Text(0.30264555748451794, 0.41304347826086957, 'X[29] <= 6.649\\nsquared_error = 0.0\\nsamples = 2\\nvalue = 11.722'),\n",
       " Text(0.3018163915736014, 0.3695652173913043, 'squared_error = 0.0\\nsamples = 1\\nvalue = 11.72'),\n",
       " Text(0.3034747233954344, 0.3695652173913043, 'squared_error = -0.0\\nsamples = 1\\nvalue = 11.724'),\n",
       " Text(0.3043038893063509, 0.41304347826086957, 'squared_error = 0.0\\nsamples = 1\\nvalue = 11.678'),\n",
       " Text(0.30762055295001683, 0.45652173913043476, 'X[58] <= 8.5\\nsquared_error = 0.001\\nsamples = 7\\nvalue = 11.776'),\n",
       " Text(0.30679138703910036, 0.41304347826086957, 'X[17] <= 1959.5\\nsquared_error = 0.0\\nsamples = 6\\nvalue = 11.763'),\n",
       " Text(0.30513305521726736, 0.3695652173913043, 'X[21] <= 5.5\\nsquared_error = 0.0\\nsamples = 4\\nvalue = 11.776'),\n",
       " Text(0.3043038893063509, 0.32608695652173914, 'squared_error = 0.0\\nsamples = 1\\nvalue = 11.794'),\n",
       " Text(0.3059622211281839, 0.32608695652173914, 'X[31] <= 1.0\\nsquared_error = 0.0\\nsamples = 3\\nvalue = 11.77'),\n",
       " Text(0.30513305521726736, 0.2826086956521739, 'squared_error = 0.0\\nsamples = 1\\nvalue = 11.775'),\n",
       " Text(0.30679138703910036, 0.2826086956521739, 'X[37] <= 6.999\\nsquared_error = 0.0\\nsamples = 2\\nvalue = 11.767'),\n",
       " Text(0.3059622211281839, 0.2391304347826087, 'squared_error = 0.0\\nsamples = 1\\nvalue = 11.767'),\n",
       " Text(0.30762055295001683, 0.2391304347826087, 'squared_error = -0.0\\nsamples = 1\\nvalue = 11.768'),\n",
       " Text(0.3084497188609333, 0.3695652173913043, 'X[48] <= 1.5\\nsquared_error = 0.0\\nsamples = 2\\nvalue = 11.738'),\n",
       " Text(0.30762055295001683, 0.32608695652173914, 'squared_error = 0.0\\nsamples = 1\\nvalue = 11.728'),\n",
       " Text(0.30927888477184984, 0.32608695652173914, 'squared_error = 0.0\\nsamples = 1\\nvalue = 11.748'),\n",
       " Text(0.3084497188609333, 0.41304347826086957, 'squared_error = 0.0\\nsamples = 1\\nvalue = 11.849'),\n",
       " Text(0.31176638250459926, 0.5434782608695652, 'X[22] <= 4.5\\nsquared_error = 0.003\\nsamples = 7\\nvalue = 11.878'),\n",
       " Text(0.3109372165936828, 0.5, 'squared_error = 0.0\\nsamples = 1\\nvalue = 11.98'),\n",
       " Text(0.3125955484155158, 0.5, 'X[10] <= 9.5\\nsquared_error = 0.002\\nsamples = 6\\nvalue = 11.861'),\n",
       " Text(0.31176638250459926, 0.45652173913043476, 'squared_error = 0.0\\nsamples = 1\\nvalue = 11.951'),\n",
       " Text(0.31342471432643226, 0.45652173913043476, 'X[51] <= 172.0\\nsquared_error = 0.001\\nsamples = 5\\nvalue = 11.843'),\n",
       " Text(0.3125955484155158, 0.41304347826086957, 'X[13] <= 0.5\\nsquared_error = 0.0\\nsamples = 4\\nvalue = 11.833'),\n",
       " Text(0.31176638250459926, 0.3695652173913043, 'X[58] <= 5.5\\nsquared_error = 0.0\\nsamples = 3\\nvalue = 11.828'),\n",
       " Text(0.3109372165936828, 0.32608695652173914, 'squared_error = 0.0\\nsamples = 2\\nvalue = 11.831'),\n",
       " Text(0.3125955484155158, 0.32608695652173914, 'squared_error = -0.0\\nsamples = 1\\nvalue = 11.82'),\n",
       " Text(0.31342471432643226, 0.3695652173913043, 'squared_error = -0.0\\nsamples = 1\\nvalue = 11.849'),\n",
       " Text(0.31425388023734874, 0.41304347826086957, 'squared_error = -0.0\\nsamples = 1\\nvalue = 11.884'),\n",
       " Text(0.33968595341124036, 0.5869565217391305, 'X[3] <= 8407.0\\nsquared_error = 0.008\\nsamples = 53\\nvalue = 11.908'),\n",
       " Text(0.32296012230197185, 0.5434782608695652, 'X[58] <= 3.5\\nsquared_error = 0.007\\nsamples = 18\\nvalue = 11.845'),\n",
       " Text(0.3221309563910554, 0.5, 'squared_error = 0.0\\nsamples = 1\\nvalue = 11.581'),\n",
       " Text(0.3237892882128883, 0.5, 'X[0] <= 301.0\\nsquared_error = 0.003\\nsamples = 17\\nvalue = 11.861'),\n",
       " Text(0.31798512683647295, 0.45652173913043476, 'X[18] <= 1970.5\\nsquared_error = 0.001\\nsamples = 6\\nvalue = 11.907'),\n",
       " Text(0.31591221205918174, 0.41304347826086957, 'X[49] <= 399.0\\nsquared_error = 0.0\\nsamples = 2\\nvalue = 11.863'),\n",
       " Text(0.3150830461482652, 0.3695652173913043, 'squared_error = 0.0\\nsamples = 1\\nvalue = 11.842'),\n",
       " Text(0.3167413779700982, 0.3695652173913043, 'squared_error = -0.0\\nsamples = 1\\nvalue = 11.884'),\n",
       " Text(0.32005804161376417, 0.41304347826086957, 'X[21] <= 8.5\\nsquared_error = 0.0\\nsamples = 4\\nvalue = 11.928'),\n",
       " Text(0.31839970979193116, 0.3695652173913043, 'X[48] <= 1.5\\nsquared_error = 0.0\\nsamples = 2\\nvalue = 11.914'),\n",
       " Text(0.3175705438810147, 0.32608695652173914, 'squared_error = 0.0\\nsamples = 1\\nvalue = 11.905'),\n",
       " Text(0.3192288757028477, 0.32608695652173914, 'squared_error = 0.0\\nsamples = 1\\nvalue = 11.923'),\n",
       " Text(0.3217163734355971, 0.3695652173913043, 'X[11] <= 1.5\\nsquared_error = 0.0\\nsamples = 2\\nvalue = 11.943'),\n",
       " Text(0.32088720752468064, 0.32608695652173914, 'squared_error = 0.0\\nsamples = 1\\nvalue = 11.94'),\n",
       " Text(0.32254553934651364, 0.32608695652173914, 'squared_error = 0.0\\nsamples = 1\\nvalue = 11.945'),\n",
       " Text(0.32959344958930376, 0.45652173913043476, 'X[47] <= 0.5\\nsquared_error = 0.003\\nsamples = 11\\nvalue = 11.836'),\n",
       " Text(0.32669136890109607, 0.41304347826086957, 'X[49] <= 515.5\\nsquared_error = 0.001\\nsamples = 8\\nvalue = 11.862'),\n",
       " Text(0.32503303707926307, 0.3695652173913043, 'X[28] <= 370.5\\nsquared_error = 0.0\\nsamples = 4\\nvalue = 11.836'),\n",
       " Text(0.3242038711683466, 0.32608695652173914, 'X[37] <= 7.06\\nsquared_error = 0.0\\nsamples = 3\\nvalue = 11.843'),\n",
       " Text(0.3233747052574301, 0.2826086956521739, 'X[58] <= 9.5\\nsquared_error = 0.0\\nsamples = 2\\nvalue = 11.84'),\n",
       " Text(0.32254553934651364, 0.2391304347826087, 'squared_error = 0.0\\nsamples = 1\\nvalue = 11.842'),\n",
       " Text(0.3242038711683466, 0.2391304347826087, 'squared_error = 0.0\\nsamples = 1\\nvalue = 11.839'),\n",
       " Text(0.32503303707926307, 0.2826086956521739, 'squared_error = -0.0\\nsamples = 1\\nvalue = 11.849'),\n",
       " Text(0.32586220299017954, 0.32608695652173914, 'squared_error = -0.0\\nsamples = 1\\nvalue = 11.813'),\n",
       " Text(0.328349700722929, 0.3695652173913043, 'X[18] <= 2005.5\\nsquared_error = 0.001\\nsamples = 4\\nvalue = 11.889'),\n",
       " Text(0.32752053481201254, 0.32608695652173914, 'X[0] <= 1446.0\\nsquared_error = 0.0\\nsamples = 3\\nvalue = 11.902'),\n",
       " Text(0.32669136890109607, 0.2826086956521739, 'X[45] <= 5.5\\nsquared_error = 0.0\\nsamples = 2\\nvalue = 11.911'),\n",
       " Text(0.32586220299017954, 0.2391304347826087, 'squared_error = 0.0\\nsamples = 1\\nvalue = 11.905'),\n",
       " Text(0.32752053481201254, 0.2391304347826087, 'squared_error = 0.0\\nsamples = 1\\nvalue = 11.916'),\n",
       " Text(0.328349700722929, 0.2826086956521739, 'squared_error = -0.0\\nsamples = 1\\nvalue = 11.884'),\n",
       " Text(0.3291788666338455, 0.32608695652173914, 'squared_error = -0.0\\nsamples = 1\\nvalue = 11.849'),\n",
       " Text(0.33249553027751144, 0.41304347826086957, 'X[52] <= 72.5\\nsquared_error = 0.001\\nsamples = 3\\nvalue = 11.766'),\n",
       " Text(0.33166636436659497, 0.3695652173913043, 'X[10] <= 10.0\\nsquared_error = 0.0\\nsamples = 2\\nvalue = 11.746'),\n",
       " Text(0.3308371984556785, 0.32608695652173914, 'squared_error = 0.0\\nsamples = 1\\nvalue = 11.736'),\n",
       " Text(0.33249553027751144, 0.32608695652173914, 'squared_error = 0.0\\nsamples = 1\\nvalue = 11.756'),\n",
       " Text(0.33332469618842797, 0.3695652173913043, 'squared_error = 0.0\\nsamples = 1\\nvalue = 11.806'),\n",
       " Text(0.3564117845205089, 0.5434782608695652, 'X[56] <= 288.0\\nsquared_error = 0.005\\nsamples = 35\\nvalue = 11.94'),\n",
       " Text(0.3533801466587205, 0.5, 'X[37] <= 7.206\\nsquared_error = 0.004\\nsamples = 33\\nvalue = 11.932'),\n",
       " Text(0.34980436866789316, 0.45652173913043476, 'X[26] <= 917.5\\nsquared_error = 0.003\\nsamples = 30\\nvalue = 11.921'),\n",
       " Text(0.3451403104189879, 0.41304347826086957, 'X[48] <= 1.5\\nsquared_error = 0.002\\nsamples = 28\\nvalue = 11.914'),\n",
       " Text(0.33829969165392687, 0.3695652173913043, 'X[16] <= 6.5\\nsquared_error = 0.002\\nsamples = 11\\nvalue = 11.888'),\n",
       " Text(0.33415386209934445, 0.32608695652173914, 'X[59] <= 2006.5\\nsquared_error = 0.001\\nsamples = 6\\nvalue = 11.853'),\n",
       " Text(0.33249553027751144, 0.2826086956521739, 'X[44] <= 2.5\\nsquared_error = 0.0\\nsamples = 2\\nvalue = 11.825'),\n",
       " Text(0.33166636436659497, 0.2391304347826087, 'squared_error = 0.0\\nsamples = 1\\nvalue = 11.809'),\n",
       " Text(0.33332469618842797, 0.2391304347826087, 'squared_error = 0.0\\nsamples = 1\\nvalue = 11.841'),\n",
       " Text(0.3358121939211774, 0.2826086956521739, 'X[26] <= 616.0\\nsquared_error = 0.0\\nsamples = 4\\nvalue = 11.867'),\n",
       " Text(0.3349830280102609, 0.2391304347826087, 'squared_error = 0.0\\nsamples = 2\\nvalue = 11.878'),\n",
       " Text(0.3366413598320939, 0.2391304347826087, 'X[22] <= 9.5\\nsquared_error = 0.0\\nsamples = 2\\nvalue = 11.856'),\n",
       " Text(0.3358121939211774, 0.1956521739130435, 'squared_error = 0.0\\nsamples = 1\\nvalue = 11.849'),\n",
       " Text(0.3374705257430104, 0.1956521739130435, 'squared_error = -0.0\\nsamples = 1\\nvalue = 11.864'),\n",
       " Text(0.3424455212085093, 0.32608695652173914, 'X[18] <= 2005.0\\nsquared_error = 0.001\\nsamples = 5\\nvalue = 11.929'),\n",
       " Text(0.34078718938667635, 0.2826086956521739, 'X[3] <= 11356.0\\nsquared_error = 0.0\\nsamples = 3\\nvalue = 11.953'),\n",
       " Text(0.3399580234757599, 0.2391304347826087, 'X[15] <= 5.5\\nsquared_error = 0.0\\nsamples = 2\\nvalue = 11.943'),\n",
       " Text(0.33912885756484334, 0.1956521739130435, 'squared_error = 0.0\\nsamples = 1\\nvalue = 11.938'),\n",
       " Text(0.34078718938667635, 0.1956521739130435, 'squared_error = 0.0\\nsamples = 1\\nvalue = 11.948'),\n",
       " Text(0.3416163552975928, 0.2391304347826087, 'squared_error = -0.0\\nsamples = 1\\nvalue = 11.974'),\n",
       " Text(0.3441038530303423, 0.2826086956521739, 'X[28] <= 376.5\\nsquared_error = 0.0\\nsamples = 2\\nvalue = 11.893'),\n",
       " Text(0.3432746871194258, 0.2391304347826087, 'squared_error = 0.0\\nsamples = 1\\nvalue = 11.888'),\n",
       " Text(0.3449330189412588, 0.2391304347826087, 'squared_error = 0.0\\nsamples = 1\\nvalue = 11.898'),\n",
       " Text(0.35198092918404894, 0.3695652173913043, 'X[18] <= 1967.5\\nsquared_error = 0.001\\nsamples = 17\\nvalue = 11.93'),\n",
       " Text(0.3465913507630918, 0.32608695652173914, 'X[28] <= 308.5\\nsquared_error = 0.0\\nsamples = 3\\nvalue = 11.974'),\n",
       " Text(0.34576218485217525, 0.2826086956521739, 'squared_error = 0.0\\nsamples = 1\\nvalue = 11.958'),\n",
       " Text(0.34742051667400825, 0.2826086956521739, 'X[40] <= 1.5\\nsquared_error = 0.0\\nsamples = 2\\nvalue = 11.983'),\n",
       " Text(0.3465913507630918, 0.2391304347826087, 'squared_error = 0.0\\nsamples = 1\\nvalue = 11.983'),\n",
       " Text(0.3482496825849247, 0.2391304347826087, 'squared_error = 0.0\\nsamples = 1\\nvalue = 11.983'),\n",
       " Text(0.3573705076050061, 0.32608695652173914, 'X[3] <= 13383.5\\nsquared_error = 0.001\\nsamples = 14\\nvalue = 11.921'),\n",
       " Text(0.35405384396134015, 0.2826086956521739, 'X[49] <= 482.0\\nsquared_error = 0.001\\nsamples = 12\\nvalue = 11.914'),\n",
       " Text(0.34990801440675773, 0.2391304347826087, 'X[10] <= 9.5\\nsquared_error = 0.0\\nsamples = 4\\nvalue = 11.94'),\n",
       " Text(0.3490788484958412, 0.1956521739130435, 'squared_error = 0.0\\nsamples = 2\\nvalue = 11.951'),\n",
       " Text(0.3507371803176742, 0.1956521739130435, 'X[26] <= 470.0\\nsquared_error = 0.0\\nsamples = 2\\nvalue = 11.928'),\n",
       " Text(0.34990801440675773, 0.15217391304347827, 'squared_error = 0.0\\nsamples = 1\\nvalue = 11.932'),\n",
       " Text(0.3515663462285907, 0.15217391304347827, 'squared_error = 0.0\\nsamples = 1\\nvalue = 11.925'),\n",
       " Text(0.3581996735159226, 0.2391304347826087, 'X[17] <= 1985.5\\nsquared_error = 0.0\\nsamples = 8\\nvalue = 11.901'),\n",
       " Text(0.3557121757831731, 0.1956521739130435, 'X[22] <= 9.0\\nsquared_error = 0.0\\nsamples = 6\\nvalue = 11.909'),\n",
       " Text(0.3532246780504237, 0.15217391304347827, 'X[3] <= 10506.0\\nsquared_error = 0.0\\nsamples = 3\\nvalue = 11.898'),\n",
       " Text(0.35239551213950715, 0.10869565217391304, 'squared_error = 0.0\\nsamples = 1\\nvalue = 11.891'),\n",
       " Text(0.35405384396134015, 0.10869565217391304, 'X[51] <= 96.0\\nsquared_error = 0.0\\nsamples = 2\\nvalue = 11.902'),\n",
       " Text(0.3532246780504237, 0.06521739130434782, 'squared_error = 0.0\\nsamples = 1\\nvalue = 11.898'),\n",
       " Text(0.3548830098722566, 0.06521739130434782, 'squared_error = 0.0\\nsamples = 1\\nvalue = 11.905'),\n",
       " Text(0.3581996735159226, 0.15217391304347827, 'X[34] <= 1145.0\\nsquared_error = 0.0\\nsamples = 3\\nvalue = 11.92'),\n",
       " Text(0.3573705076050061, 0.10869565217391304, 'X[34] <= 1065.5\\nsquared_error = 0.0\\nsamples = 2\\nvalue = 11.918'),\n",
       " Text(0.3565413416940896, 0.06521739130434782, 'squared_error = 0.0\\nsamples = 1\\nvalue = 11.918'),\n",
       " Text(0.3581996735159226, 0.06521739130434782, 'squared_error = 0.0\\nsamples = 1\\nvalue = 11.918'),\n",
       " Text(0.35902883942683905, 0.10869565217391304, 'squared_error = 0.0\\nsamples = 1\\nvalue = 11.925'),\n",
       " Text(0.36068717124867206, 0.1956521739130435, 'X[59] <= 2007.5\\nsquared_error = 0.0\\nsamples = 2\\nvalue = 11.876'),\n",
       " Text(0.3598580053377555, 0.15217391304347827, 'squared_error = 0.0\\nsamples = 1\\nvalue = 11.867'),\n",
       " Text(0.36151633715958853, 0.15217391304347827, 'squared_error = -0.0\\nsamples = 1\\nvalue = 11.884'),\n",
       " Text(0.36068717124867206, 0.2826086956521739, 'X[17] <= 2003.5\\nsquared_error = 0.0\\nsamples = 2\\nvalue = 11.964'),\n",
       " Text(0.3598580053377555, 0.2391304347826087, 'squared_error = 0.0\\nsamples = 1\\nvalue = 11.951'),\n",
       " Text(0.36151633715958853, 0.2391304347826087, 'squared_error = 0.0\\nsamples = 1\\nvalue = 11.977'),\n",
       " Text(0.35446842691679836, 0.41304347826086957, 'X[34] <= 1131.5\\nsquared_error = 0.002\\nsamples = 2\\nvalue = 12.031'),\n",
       " Text(0.3536392610058819, 0.3695652173913043, 'squared_error = 0.0\\nsamples = 1\\nvalue = 11.983'),\n",
       " Text(0.3552975928277149, 0.3695652173913043, 'squared_error = -0.0\\nsamples = 1\\nvalue = 12.078'),\n",
       " Text(0.35695592464954784, 0.45652173913043476, 'X[5] <= 1.5\\nsquared_error = 0.001\\nsamples = 3\\nvalue = 12.037'),\n",
       " Text(0.35612675873863137, 0.41304347826086957, 'squared_error = 0.0\\nsamples = 1\\nvalue = 12.084'),\n",
       " Text(0.3577850905604643, 0.41304347826086957, 'X[58] <= 7.0\\nsquared_error = 0.0\\nsamples = 2\\nvalue = 12.013'),\n",
       " Text(0.35695592464954784, 0.3695652173913043, 'squared_error = 0.0\\nsamples = 1\\nvalue = 12.013'),\n",
       " Text(0.35861425647138084, 0.3695652173913043, 'squared_error = 0.0\\nsamples = 1\\nvalue = 12.014'),\n",
       " Text(0.3594434223822973, 0.5, 'X[22] <= 8.0\\nsquared_error = 0.001\\nsamples = 2\\nvalue = 12.078'),\n",
       " Text(0.35861425647138084, 0.45652173913043476, 'squared_error = 0.0\\nsamples = 1\\nvalue = 12.106'),\n",
       " Text(0.3602725882932138, 0.45652173913043476, 'squared_error = 0.0\\nsamples = 1\\nvalue = 12.049'),\n",
       " Text(0.38104708107687923, 0.717391304347826, 'X[18] <= 1965.5\\nsquared_error = 0.015\\nsamples = 52\\nvalue = 11.997'),\n",
       " Text(0.36724276423185553, 0.6739130434782609, 'X[18] <= 1956.5\\nsquared_error = 0.009\\nsamples = 23\\nvalue = 11.917'),\n",
       " Text(0.3619309201150468, 0.6304347826086957, 'X[17] <= 1952.0\\nsquared_error = 0.002\\nsamples = 5\\nvalue = 11.791'),\n",
       " Text(0.36110175420413027, 0.5869565217391305, 'squared_error = 0.0\\nsamples = 2\\nvalue = 11.736'),\n",
       " Text(0.36276008602596327, 0.5869565217391305, 'X[16] <= 5.5\\nsquared_error = 0.001\\nsamples = 3\\nvalue = 11.827'),\n",
       " Text(0.3619309201150468, 0.5434782608695652, 'X[37] <= 7.156\\nsquared_error = 0.0\\nsamples = 2\\nvalue = 11.846'),\n",
       " Text(0.36110175420413027, 0.5, 'squared_error = 0.0\\nsamples = 1\\nvalue = 11.842'),\n",
       " Text(0.36276008602596327, 0.5, 'squared_error = 0.0\\nsamples = 1\\nvalue = 11.849'),\n",
       " Text(0.36358925193687974, 0.5434782608695652, 'squared_error = -0.0\\nsamples = 1\\nvalue = 11.791'),\n",
       " Text(0.3725546083486643, 0.6304347826086957, 'X[1] <= 50.0\\nsquared_error = 0.005\\nsamples = 18\\nvalue = 11.952'),\n",
       " Text(0.3692897675744306, 0.5869565217391305, 'X[47] <= 0.5\\nsquared_error = 0.004\\nsamples = 16\\nvalue = 11.937'),\n",
       " Text(0.36524758375871275, 0.5434782608695652, 'X[3] <= 19151.0\\nsquared_error = 0.001\\nsamples = 7\\nvalue = 11.891'),\n",
       " Text(0.3644184178477962, 0.5, 'X[31] <= 1.5\\nsquared_error = 0.0\\nsamples = 6\\nvalue = 11.878'),\n",
       " Text(0.3619309201150468, 0.45652173913043476, 'X[8] <= 2.0\\nsquared_error = 0.0\\nsamples = 3\\nvalue = 11.859'),\n",
       " Text(0.36110175420413027, 0.41304347826086957, 'squared_error = 0.0\\nsamples = 1\\nvalue = 11.849'),\n",
       " Text(0.36276008602596327, 0.41304347826086957, 'X[34] <= 1220.0\\nsquared_error = 0.0\\nsamples = 2\\nvalue = 11.864'),\n",
       " Text(0.3619309201150468, 0.3695652173913043, 'squared_error = 0.0\\nsamples = 1\\nvalue = 11.864'),\n",
       " Text(0.36358925193687974, 0.3695652173913043, 'squared_error = 0.0\\nsamples = 1\\nvalue = 11.864'),\n",
       " Text(0.3669059155805457, 0.45652173913043476, 'X[34] <= 1285.0\\nsquared_error = 0.0\\nsamples = 3\\nvalue = 11.897'),\n",
       " Text(0.3660767496696292, 0.41304347826086957, 'X[21] <= 7.0\\nsquared_error = 0.0\\nsamples = 2\\nvalue = 11.903'),\n",
       " Text(0.36524758375871275, 0.3695652173913043, 'squared_error = 0.0\\nsamples = 1\\nvalue = 11.902'),\n",
       " Text(0.3669059155805457, 0.3695652173913043, 'squared_error = 0.0\\nsamples = 1\\nvalue = 11.905'),\n",
       " Text(0.36773508149146217, 0.41304347826086957, 'squared_error = -0.0\\nsamples = 1\\nvalue = 11.884'),\n",
       " Text(0.3660767496696292, 0.5, 'squared_error = -0.0\\nsamples = 1\\nvalue = 11.97'),\n",
       " Text(0.37333195139014846, 0.5434782608695652, 'X[0] <= 1229.5\\nsquared_error = 0.003\\nsamples = 9\\nvalue = 11.974'),\n",
       " Text(0.372502785479232, 0.5, 'X[33] <= 2.0\\nsquared_error = 0.001\\nsamples = 8\\nvalue = 11.986'),\n",
       " Text(0.37022257922421165, 0.45652173913043476, 'X[26] <= 575.5\\nsquared_error = 0.0\\nsamples = 2\\nvalue = 11.935'),\n",
       " Text(0.36939341331329517, 0.41304347826086957, 'squared_error = 0.0\\nsamples = 1\\nvalue = 11.951'),\n",
       " Text(0.3710517451351281, 0.41304347826086957, 'squared_error = 0.0\\nsamples = 1\\nvalue = 11.918'),\n",
       " Text(0.37478299173425234, 0.45652173913043476, 'X[15] <= 5.5\\nsquared_error = 0.001\\nsamples = 6\\nvalue = 12.004'),\n",
       " Text(0.3727100769569611, 0.41304347826086957, 'X[26] <= 832.0\\nsquared_error = 0.0\\nsamples = 2\\nvalue = 12.036'),\n",
       " Text(0.3718809110460446, 0.3695652173913043, 'squared_error = 0.0\\nsamples = 1\\nvalue = 12.029'),\n",
       " Text(0.3735392428678776, 0.3695652173913043, 'squared_error = 0.0\\nsamples = 1\\nvalue = 12.044'),\n",
       " Text(0.37685590651154355, 0.41304347826086957, 'X[37] <= 7.136\\nsquared_error = 0.0\\nsamples = 4\\nvalue = 11.987'),\n",
       " Text(0.37519757468971054, 0.3695652173913043, 'X[47] <= 1.5\\nsquared_error = 0.0\\nsamples = 2\\nvalue = 11.973'),\n",
       " Text(0.37436840877879407, 0.32608695652173914, 'squared_error = 0.0\\nsamples = 1\\nvalue = 11.964'),\n",
       " Text(0.3760267406006271, 0.32608695652173914, 'squared_error = 0.0\\nsamples = 1\\nvalue = 11.983'),\n",
       " Text(0.3785142383333765, 0.3695652173913043, 'X[31] <= 2.0\\nsquared_error = 0.0\\nsamples = 2\\nvalue = 12.002'),\n",
       " Text(0.37768507242246, 0.32608695652173914, 'squared_error = 0.0\\nsamples = 1\\nvalue = 12.002'),\n",
       " Text(0.379343404244293, 0.32608695652173914, 'squared_error = 0.0\\nsamples = 1\\nvalue = 12.002'),\n",
       " Text(0.37416111730106494, 0.5, 'squared_error = 0.0\\nsamples = 1\\nvalue = 11.871'),\n",
       " Text(0.37581944912289794, 0.5869565217391305, 'X[20] <= 4.0\\nsquared_error = 0.001\\nsamples = 2\\nvalue = 12.069'),\n",
       " Text(0.37499028321198147, 0.5434782608695652, 'squared_error = 0.0\\nsamples = 1\\nvalue = 12.103'),\n",
       " Text(0.3766486150338144, 0.5434782608695652, 'squared_error = -0.0\\nsamples = 1\\nvalue = 12.035'),\n",
       " Text(0.39485139792190294, 0.6739130434782609, 'X[45] <= 4.5\\nsquared_error = 0.011\\nsamples = 29\\nvalue = 12.061'),\n",
       " Text(0.3913144870831498, 0.6304347826086957, 'X[51] <= 204.5\\nsquared_error = 0.004\\nsamples = 2\\nvalue = 12.307'),\n",
       " Text(0.3904853211722333, 0.5869565217391305, 'squared_error = 0.0\\nsamples = 1\\nvalue = 12.247'),\n",
       " Text(0.3921436529940663, 0.5869565217391305, 'squared_error = 0.0\\nsamples = 1\\nvalue = 12.367'),\n",
       " Text(0.39838830876065606, 0.6304347826086957, 'X[18] <= 2004.5\\nsquared_error = 0.007\\nsamples = 27\\nvalue = 12.043'),\n",
       " Text(0.39380198481589923, 0.5869565217391305, 'X[41] <= 0.5\\nsquared_error = 0.005\\nsamples = 21\\nvalue = 12.019'),\n",
       " Text(0.3900189153473428, 0.5434782608695652, 'X[49] <= 524.5\\nsquared_error = 0.004\\nsamples = 16\\nvalue = 12.04'),\n",
       " Text(0.38659860596481227, 0.5, 'X[19] <= 2.0\\nsquared_error = 0.002\\nsamples = 13\\nvalue = 12.061'),\n",
       " Text(0.38390381675433366, 0.45652173913043476, 'X[8] <= 1.5\\nsquared_error = 0.001\\nsamples = 10\\nvalue = 12.081'),\n",
       " Text(0.3830746508434172, 0.41304347826086957, 'squared_error = 0.0\\nsamples = 1\\nvalue = 11.998'),\n",
       " Text(0.3847329826652502, 0.41304347826086957, 'X[10] <= 10.0\\nsquared_error = 0.0\\nsamples = 9\\nvalue = 12.091'),\n",
       " Text(0.38183090197704245, 0.3695652173913043, 'X[3] <= 10024.0\\nsquared_error = 0.0\\nsamples = 4\\nvalue = 12.076'),\n",
       " Text(0.381001736066126, 0.32608695652173914, 'squared_error = 0.0\\nsamples = 2\\nvalue = 12.061'),\n",
       " Text(0.382660067887959, 0.32608695652173914, 'X[13] <= 1.0\\nsquared_error = 0.0\\nsamples = 2\\nvalue = 12.091'),\n",
       " Text(0.38183090197704245, 0.2826086956521739, 'squared_error = 0.0\\nsamples = 1\\nvalue = 12.087'),\n",
       " Text(0.38348923379887545, 0.2826086956521739, 'squared_error = -0.0\\nsamples = 1\\nvalue = 12.095'),\n",
       " Text(0.3876350633534579, 0.3695652173913043, 'X[31] <= 1.0\\nsquared_error = 0.0\\nsamples = 5\\nvalue = 12.102'),\n",
       " Text(0.38597673153162493, 0.32608695652173914, 'X[23] <= 2.5\\nsquared_error = 0.0\\nsamples = 2\\nvalue = 12.108'),\n",
       " Text(0.3851475656207084, 0.2826086956521739, 'squared_error = 0.0\\nsamples = 1\\nvalue = 12.106'),\n",
       " Text(0.3868058974425414, 0.2826086956521739, 'squared_error = 0.0\\nsamples = 1\\nvalue = 12.109'),\n",
       " Text(0.3892933951752909, 0.32608695652173914, 'X[17] <= 1988.0\\nsquared_error = 0.0\\nsamples = 3\\nvalue = 12.099'),\n",
       " Text(0.38846422926437435, 0.2826086956521739, 'X[29] <= 7.137\\nsquared_error = 0.0\\nsamples = 2\\nvalue = 12.1'),\n",
       " Text(0.3876350633534579, 0.2391304347826087, 'squared_error = 0.0\\nsamples = 1\\nvalue = 12.1'),\n",
       " Text(0.3892933951752909, 0.2391304347826087, 'squared_error = 0.0\\nsamples = 1\\nvalue = 12.101'),\n",
       " Text(0.39012256108620735, 0.2826086956521739, 'squared_error = -0.0\\nsamples = 1\\nvalue = 12.096'),\n",
       " Text(0.3892933951752909, 0.45652173913043476, 'X[22] <= 9.5\\nsquared_error = 0.0\\nsamples = 3\\nvalue = 11.993'),\n",
       " Text(0.38846422926437435, 0.41304347826086957, 'squared_error = 0.0\\nsamples = 1\\nvalue = 11.97'),\n",
       " Text(0.39012256108620735, 0.41304347826086957, 'X[52] <= 275.5\\nsquared_error = 0.0\\nsamples = 2\\nvalue = 12.005'),\n",
       " Text(0.3892933951752909, 0.3695652173913043, 'squared_error = 0.0\\nsamples = 1\\nvalue = 11.995'),\n",
       " Text(0.3909517269971238, 0.3695652173913043, 'squared_error = -0.0\\nsamples = 1\\nvalue = 12.014'),\n",
       " Text(0.3934392247298733, 0.5, 'X[14] <= 4.5\\nsquared_error = 0.003\\nsamples = 3\\nvalue = 11.946'),\n",
       " Text(0.39261005881895683, 0.45652173913043476, 'X[60] <= 4.0\\nsquared_error = 0.001\\nsamples = 2\\nvalue = 11.914'),\n",
       " Text(0.3917808929080403, 0.41304347826086957, 'squared_error = 0.0\\nsamples = 1\\nvalue = 11.884'),\n",
       " Text(0.3934392247298733, 0.41304347826086957, 'squared_error = 0.0\\nsamples = 1\\nvalue = 11.944'),\n",
       " Text(0.3942683906407898, 0.45652173913043476, 'squared_error = 0.0\\nsamples = 1\\nvalue = 12.011'),\n",
       " Text(0.39758505428445573, 0.5434782608695652, 'X[29] <= 7.136\\nsquared_error = 0.002\\nsamples = 5\\nvalue = 11.953'),\n",
       " Text(0.39675588837353926, 0.5, 'X[28] <= 329.0\\nsquared_error = 0.001\\nsamples = 4\\nvalue = 11.973'),\n",
       " Text(0.3959267224626228, 0.45652173913043476, 'X[3] <= 8750.0\\nsquared_error = 0.0\\nsamples = 3\\nvalue = 11.96'),\n",
       " Text(0.39509755655170625, 0.41304347826086957, 'squared_error = 0.0\\nsamples = 1\\nvalue = 11.945'),\n",
       " Text(0.39675588837353926, 0.41304347826086957, 'X[18] <= 2002.0\\nsquared_error = 0.0\\nsamples = 2\\nvalue = 11.967'),\n",
       " Text(0.3959267224626228, 0.3695652173913043, 'squared_error = 0.0\\nsamples = 1\\nvalue = 11.964'),\n",
       " Text(0.39758505428445573, 0.3695652173913043, 'squared_error = -0.0\\nsamples = 1\\nvalue = 11.97'),\n",
       " Text(0.39758505428445573, 0.45652173913043476, 'squared_error = -0.0\\nsamples = 1\\nvalue = 12.014'),\n",
       " Text(0.3984142201953722, 0.5, 'squared_error = 0.0\\nsamples = 1\\nvalue = 11.874'),\n",
       " Text(0.4029746327054129, 0.5869565217391305, 'X[49] <= 450.0\\nsquared_error = 0.003\\nsamples = 6\\nvalue = 12.125'),\n",
       " Text(0.4009017179281217, 0.5434782608695652, 'X[10] <= 6.5\\nsquared_error = 0.0\\nsamples = 2\\nvalue = 12.062'),\n",
       " Text(0.4000725520172052, 0.5, 'squared_error = 0.0\\nsamples = 1\\nvalue = 12.081'),\n",
       " Text(0.40173088383903816, 0.5, 'squared_error = -0.0\\nsamples = 1\\nvalue = 12.043'),\n",
       " Text(0.4050475474827041, 0.5434782608695652, 'X[17] <= 2005.5\\nsquared_error = 0.001\\nsamples = 4\\nvalue = 12.157'),\n",
       " Text(0.40338921566087116, 0.5, 'X[51] <= 181.0\\nsquared_error = 0.0\\nsamples = 2\\nvalue = 12.183'),\n",
       " Text(0.40256004974995463, 0.45652173913043476, 'squared_error = 0.0\\nsamples = 1\\nvalue = 12.186'),\n",
       " Text(0.40421838157178763, 0.45652173913043476, 'squared_error = 0.0\\nsamples = 1\\nvalue = 12.179'),\n",
       " Text(0.4067058793045371, 0.5, 'X[58] <= 4.0\\nsquared_error = 0.0\\nsamples = 2\\nvalue = 12.131'),\n",
       " Text(0.4058767133936206, 0.45652173913043476, 'squared_error = 0.0\\nsamples = 1\\nvalue = 12.134'),\n",
       " Text(0.4075350452154536, 0.45652173913043476, 'squared_error = 0.0\\nsamples = 1\\nvalue = 12.128'),\n",
       " Text(0.5460698224095043, 0.8478260869565217, 'X[2] <= 3.5\\nsquared_error = 0.045\\nsamples = 250\\nvalue = 12.012'),\n",
       " Text(0.49467378313424715, 0.8043478260869565, 'X[48] <= 1.5\\nsquared_error = 0.036\\nsamples = 218\\nvalue = 12.049'),\n",
       " Text(0.4388101469178348, 0.7608695652173914, 'X[37] <= 7.594\\nsquared_error = 0.04\\nsamples = 52\\nvalue = 11.909'),\n",
       " Text(0.4302852848962247, 0.717391304347826, 'X[26] <= 309.0\\nsquared_error = 0.028\\nsamples = 45\\nvalue = 11.866'),\n",
       " Text(0.42349648900059594, 0.6739130434782609, 'X[39] <= 0.5\\nsquared_error = 0.022\\nsamples = 25\\nvalue = 11.78'),\n",
       " Text(0.4199725338792009, 0.6304347826086957, 'X[59] <= 2009.5\\nsquared_error = 0.014\\nsamples = 22\\nvalue = 11.814'),\n",
       " Text(0.4170704531909932, 0.5869565217391305, 'X[36] <= 329.0\\nsquared_error = 0.009\\nsamples = 19\\nvalue = 11.842'),\n",
       " Text(0.4162412872800767, 0.5434782608695652, 'X[59] <= 2007.5\\nsquared_error = 0.004\\nsamples = 18\\nvalue = 11.86'),\n",
       " Text(0.4112662918145778, 0.5, 'X[16] <= 6.5\\nsquared_error = 0.004\\nsamples = 9\\nvalue = 11.898'),\n",
       " Text(0.40919337703728653, 0.45652173913043476, 'X[49] <= 313.5\\nsquared_error = 0.0\\nsamples = 6\\nvalue = 11.857'),\n",
       " Text(0.4075350452154536, 0.41304347826086957, 'X[14] <= 3.5\\nsquared_error = 0.0\\nsamples = 4\\nvalue = 11.849'),\n",
       " Text(0.4067058793045371, 0.3695652173913043, 'X[42] <= 4.5\\nsquared_error = 0.0\\nsamples = 3\\nvalue = 11.852'),\n",
       " Text(0.4058767133936206, 0.32608695652173914, 'X[59] <= 2006.5\\nsquared_error = 0.0\\nsamples = 2\\nvalue = 11.85'),\n",
       " Text(0.4050475474827041, 0.2826086956521739, 'squared_error = 0.0\\nsamples = 1\\nvalue = 11.851'),\n",
       " Text(0.4067058793045371, 0.2826086956521739, 'squared_error = -0.0\\nsamples = 1\\nvalue = 11.849'),\n",
       " Text(0.4075350452154536, 0.32608695652173914, 'squared_error = 0.0\\nsamples = 1\\nvalue = 11.857'),\n",
       " Text(0.40836421112637006, 0.3695652173913043, 'squared_error = 0.0\\nsamples = 1\\nvalue = 11.841'),\n",
       " Text(0.41085170885911954, 0.41304347826086957, 'X[58] <= 2.0\\nsquared_error = 0.0\\nsamples = 2\\nvalue = 11.874'),\n",
       " Text(0.41002254294820306, 0.3695652173913043, 'squared_error = 0.0\\nsamples = 1\\nvalue = 11.871'),\n",
       " Text(0.411680874770036, 0.3695652173913043, 'squared_error = 0.0\\nsamples = 1\\nvalue = 11.877'),\n",
       " Text(0.413339206591869, 0.45652173913043476, 'X[34] <= 799.0\\nsquared_error = 0.001\\nsamples = 3\\nvalue = 11.98'),\n",
       " Text(0.4125100406809525, 0.41304347826086957, 'squared_error = 0.0\\nsamples = 1\\nvalue = 11.942'),\n",
       " Text(0.4141683725027855, 0.41304347826086957, 'X[44] <= 2.5\\nsquared_error = 0.0\\nsamples = 2\\nvalue = 11.998'),\n",
       " Text(0.413339206591869, 0.3695652173913043, 'squared_error = 0.0\\nsamples = 1\\nvalue = 12.014'),\n",
       " Text(0.41499753841370196, 0.3695652173913043, 'squared_error = 0.0\\nsamples = 1\\nvalue = 11.983'),\n",
       " Text(0.4212162827455756, 0.5, 'X[15] <= 5.5\\nsquared_error = 0.001\\nsamples = 9\\nvalue = 11.821'),\n",
       " Text(0.4191433679682844, 0.45652173913043476, 'X[17] <= 1949.5\\nsquared_error = 0.0\\nsamples = 6\\nvalue = 11.807'),\n",
       " Text(0.41748503614645144, 0.41304347826086957, 'X[16] <= 6.5\\nsquared_error = 0.0\\nsamples = 3\\nvalue = 11.79'),\n",
       " Text(0.41665587023553496, 0.3695652173913043, 'X[50] <= 1.0\\nsquared_error = 0.0\\nsamples = 2\\nvalue = 11.779'),\n",
       " Text(0.41582670432461843, 0.32608695652173914, 'squared_error = 0.0\\nsamples = 1\\nvalue = 11.775'),\n",
       " Text(0.41748503614645144, 0.32608695652173914, 'squared_error = -0.0\\nsamples = 1\\nvalue = 11.783'),\n",
       " Text(0.4183142020573679, 0.3695652173913043, 'squared_error = -0.0\\nsamples = 1\\nvalue = 11.813'),\n",
       " Text(0.4208016997901174, 0.41304347826086957, 'X[34] <= 1016.0\\nsquared_error = 0.0\\nsamples = 3\\nvalue = 11.824'),\n",
       " Text(0.4199725338792009, 0.3695652173913043, 'X[35] <= 708.5\\nsquared_error = 0.0\\nsamples = 2\\nvalue = 11.819'),\n",
       " Text(0.4191433679682844, 0.32608695652173914, 'squared_error = 0.0\\nsamples = 1\\nvalue = 11.817'),\n",
       " Text(0.4208016997901174, 0.32608695652173914, 'squared_error = -0.0\\nsamples = 1\\nvalue = 11.82'),\n",
       " Text(0.42163086570103386, 0.3695652173913043, 'squared_error = -0.0\\nsamples = 1\\nvalue = 11.835'),\n",
       " Text(0.42328919752286687, 0.45652173913043476, 'X[49] <= 255.5\\nsquared_error = 0.0\\nsamples = 3\\nvalue = 11.848'),\n",
       " Text(0.42246003161195034, 0.41304347826086957, 'squared_error = 0.0\\nsamples = 1\\nvalue = 11.846'),\n",
       " Text(0.42411836343378334, 0.41304347826086957, 'squared_error = -0.0\\nsamples = 2\\nvalue = 11.849'),\n",
       " Text(0.41789961910190965, 0.5434782608695652, 'squared_error = 0.0\\nsamples = 1\\nvalue = 11.533'),\n",
       " Text(0.4228746145674086, 0.5869565217391305, 'X[44] <= 2.0\\nsquared_error = 0.01\\nsamples = 3\\nvalue = 11.636'),\n",
       " Text(0.42204544865649213, 0.5434782608695652, 'squared_error = 0.0\\nsamples = 1\\nvalue = 11.76'),\n",
       " Text(0.4237037804783251, 0.5434782608695652, 'X[3] <= 9283.0\\nsquared_error = 0.004\\nsamples = 2\\nvalue = 11.574'),\n",
       " Text(0.4228746145674086, 0.5, 'squared_error = 0.0\\nsamples = 1\\nvalue = 11.635'),\n",
       " Text(0.42453294638924155, 0.5, 'squared_error = 0.0\\nsamples = 1\\nvalue = 11.513'),\n",
       " Text(0.427020444121991, 0.6304347826086957, 'X[1] <= 70.0\\nsquared_error = 0.013\\nsamples = 3\\nvalue = 11.533'),\n",
       " Text(0.42619127821107455, 0.5869565217391305, 'X[49] <= 305.0\\nsquared_error = 0.001\\nsamples = 2\\nvalue = 11.456'),\n",
       " Text(0.4253621123001581, 0.5434782608695652, 'squared_error = 0.0\\nsamples = 1\\nvalue = 11.424'),\n",
       " Text(0.427020444121991, 0.5434782608695652, 'squared_error = -0.0\\nsamples = 1\\nvalue = 11.488'),\n",
       " Text(0.4278496100329075, 0.5869565217391305, 'squared_error = 0.0\\nsamples = 1\\nvalue = 11.687'),\n",
       " Text(0.43707408079185345, 0.6739130434782609, 'X[58] <= 10.5\\nsquared_error = 0.015\\nsamples = 20\\nvalue = 11.973'),\n",
       " Text(0.4334464799315938, 0.6304347826086957, 'X[35] <= 777.0\\nsquared_error = 0.009\\nsamples = 16\\nvalue = 11.935'),\n",
       " Text(0.43116627367657345, 0.5869565217391305, 'X[57] <= 225.0\\nsquared_error = 0.004\\nsamples = 13\\nvalue = 11.9'),\n",
       " Text(0.42909335889928224, 0.5434782608695652, 'X[52] <= 97.0\\nsquared_error = 0.003\\nsamples = 10\\nvalue = 11.875'),\n",
       " Text(0.42826419298836577, 0.5, 'X[58] <= 7.5\\nsquared_error = 0.001\\nsamples = 9\\nvalue = 11.86'),\n",
       " Text(0.4266058611665328, 0.45652173913043476, 'X[6] <= 1.0\\nsquared_error = 0.0\\nsamples = 7\\nvalue = 11.874'),\n",
       " Text(0.4257766952556163, 0.41304347826086957, 'squared_error = 0.0\\nsamples = 2\\nvalue = 11.849'),\n",
       " Text(0.4274350270774493, 0.41304347826086957, 'X[61] <= 4.5\\nsquared_error = 0.0\\nsamples = 5\\nvalue = 11.883'),\n",
       " Text(0.4266058611665328, 0.3695652173913043, 'X[14] <= 3.5\\nsquared_error = 0.0\\nsamples = 4\\nvalue = 11.887'),\n",
       " Text(0.4257766952556163, 0.32608695652173914, 'X[22] <= 7.0\\nsquared_error = 0.0\\nsamples = 3\\nvalue = 11.884'),\n",
       " Text(0.4249475293446998, 0.2826086956521739, 'squared_error = 0.0\\nsamples = 1\\nvalue = 11.881'),\n",
       " Text(0.4266058611665328, 0.2826086956521739, 'X[28] <= 651.0\\nsquared_error = 0.0\\nsamples = 2\\nvalue = 11.885'),\n",
       " Text(0.4257766952556163, 0.2391304347826087, 'squared_error = 0.0\\nsamples = 1\\nvalue = 11.884'),\n",
       " Text(0.4274350270774493, 0.2391304347826087, 'squared_error = 0.0\\nsamples = 1\\nvalue = 11.886'),\n",
       " Text(0.4274350270774493, 0.32608695652173914, 'squared_error = -0.0\\nsamples = 1\\nvalue = 11.895'),\n",
       " Text(0.42826419298836577, 0.3695652173913043, 'squared_error = -0.0\\nsamples = 1\\nvalue = 11.871'),\n",
       " Text(0.4299225248101987, 0.45652173913043476, 'X[10] <= 9.5\\nsquared_error = 0.0\\nsamples = 2\\nvalue = 11.813'),\n",
       " Text(0.42909335889928224, 0.41304347826086957, 'squared_error = 0.0\\nsamples = 1\\nvalue = 11.827'),\n",
       " Text(0.43075169072111524, 0.41304347826086957, 'squared_error = 0.0\\nsamples = 1\\nvalue = 11.798'),\n",
       " Text(0.4299225248101987, 0.5, 'squared_error = 0.0\\nsamples = 1\\nvalue = 12.014'),\n",
       " Text(0.43323918845386467, 0.5434782608695652, 'X[53] <= 215.5\\nsquared_error = 0.0\\nsamples = 3\\nvalue = 11.982'),\n",
       " Text(0.4324100225429482, 0.5, 'X[58] <= 5.0\\nsquared_error = 0.0\\nsamples = 2\\nvalue = 11.988'),\n",
       " Text(0.4315808566320317, 0.45652173913043476, 'squared_error = 0.0\\nsamples = 1\\nvalue = 11.994'),\n",
       " Text(0.43323918845386467, 0.45652173913043476, 'squared_error = -0.0\\nsamples = 1\\nvalue = 11.983'),\n",
       " Text(0.4340683543647812, 0.5, 'squared_error = -0.0\\nsamples = 1\\nvalue = 11.97'),\n",
       " Text(0.43572668618661414, 0.5869565217391305, 'X[29] <= 6.583\\nsquared_error = 0.002\\nsamples = 3\\nvalue = 12.087'),\n",
       " Text(0.43489752027569767, 0.5434782608695652, 'squared_error = 0.0\\nsamples = 1\\nvalue = 12.148'),\n",
       " Text(0.4365558520975306, 0.5434782608695652, 'X[11] <= 2.5\\nsquared_error = 0.0\\nsamples = 2\\nvalue = 12.057'),\n",
       " Text(0.43572668618661414, 0.5, 'squared_error = 0.0\\nsamples = 1\\nvalue = 12.073'),\n",
       " Text(0.43738501800844715, 0.5, 'squared_error = -0.0\\nsamples = 1\\nvalue = 12.041'),\n",
       " Text(0.4407016816521131, 0.6304347826086957, 'X[37] <= 7.343\\nsquared_error = 0.007\\nsamples = 4\\nvalue = 12.125'),\n",
       " Text(0.4390433498302801, 0.5869565217391305, 'X[35] <= 370.5\\nsquared_error = 0.001\\nsamples = 2\\nvalue = 12.05'),\n",
       " Text(0.4382141839193636, 0.5434782608695652, 'squared_error = 0.0\\nsamples = 1\\nvalue = 12.014'),\n",
       " Text(0.43987251574119657, 0.5434782608695652, 'squared_error = 0.0\\nsamples = 1\\nvalue = 12.087'),\n",
       " ...]"
      ]
     },
     "execution_count": 25,
     "metadata": {},
     "output_type": "execute_result"
    },
    {
     "data": {
      "image/png": "[encoded data removed]",
      "text/plain": [
       "<Figure size 432x288 with 1 Axes>"
      ]
     },
     "metadata": {
      "needs_background": "light"
     },
     "output_type": "display_data"
    }
   ],
   "source": [
    "# Print the tree\n",
    "tree.plot_tree(DTR,filled=True)"
   ]
  },
  {
   "cell_type": "code",
   "execution_count": 16,
   "metadata": {},
   "outputs": [
    {
     "data": {
      "text/plain": [
       "22"
      ]
     },
     "execution_count": 16,
     "metadata": {},
     "output_type": "execute_result"
    }
   ],
   "source": [
    "DTR.tree_.max_depth"
   ]
  },
  {
   "cell_type": "code",
   "execution_count": 17,
   "metadata": {},
   "outputs": [
    {
     "data": {
      "text/plain": [
       "2257"
      ]
     },
     "execution_count": 17,
     "metadata": {},
     "output_type": "execute_result"
    }
   ],
   "source": [
    "DTR.tree_.node_count"
   ]
  },
  {
   "cell_type": "code",
   "execution_count": 18,
   "metadata": {},
   "outputs": [
    {
     "data": {
      "text/plain": [
       "1129"
      ]
     },
     "execution_count": 18,
     "metadata": {},
     "output_type": "execute_result"
    }
   ],
   "source": [
    "DTR.tree_.n_leaves"
   ]
  },
  {
   "cell_type": "markdown",
   "metadata": {},
   "source": [
    "#### The MAE is coming as very low. Not sure if it is accurate or not. Better to check it visually. <br/>Comparing if the predicted value by the model on the test is really better or something went wrong"
   ]
  },
  {
   "cell_type": "code",
   "execution_count": 19,
   "metadata": {},
   "outputs": [
    {
     "data": {
      "image/png": "[encoded data removed]",
      "text/plain": [
       "<Figure size 1440x576 with 1 Axes>"
      ]
     },
     "metadata": {
      "needs_background": "light"
     },
     "output_type": "display_data"
    }
   ],
   "source": [
    "len(y_predict)\n",
    "plt.figure(figsize=(20,8))\n",
    "plt.plot(np.arange(292),y_predict,label='Predicted Value',linestyle='',marker='o')\n",
    "plt.plot(np.arange(292),y_test,label='Original Value',linestyle='',marker='o')\n",
    "\n",
    "plt.legend()\n",
    "plt.show()\n"
   ]
  },
  {
   "cell_type": "code",
   "execution_count": 20,
   "metadata": {
    "scrolled": false
   },
   "outputs": [
    {
     "data": {
      "image/png": "[encoded data removed]",
      "text/plain": [
       "<Figure size 1440x576 with 1 Axes>"
      ]
     },
     "metadata": {
      "needs_background": "light"
     },
     "output_type": "display_data"
    }
   ],
   "source": [
    "# Plot the difference between the predicted value and the test value\n",
    "plt.figure(figsize=(20,8))\n",
    "plt.plot(y_predict-y_test,marker='o',linestyle='')\n",
    "plt.show()"
   ]
  },
  {
   "cell_type": "markdown",
   "metadata": {},
   "source": [
    "#### The SalePrice was scaled on log scale. So that is the reason, the difference is also reduced alot and the mean absolute error is showing a fractional value. We should try to Mean Squared error as that will give higher weightage to the bigger errors. And try to reduce both the errors to closer to zero, so that we will get better results"
   ]
  },
  {
   "cell_type": "code",
   "execution_count": 21,
   "metadata": {},
   "outputs": [
    {
     "data": {
      "text/plain": [
       "0.04081506117000293"
      ]
     },
     "execution_count": 21,
     "metadata": {},
     "output_type": "execute_result"
    }
   ],
   "source": [
    "mean_squared_error(y_predict,y_test)"
   ]
  },
  {
   "cell_type": "markdown",
   "metadata": {},
   "source": [
    "## Cost Complexity Pruning to find the best values for alpha which is a hyperparameter in Decision Trees"
   ]
  },
  {
   "cell_type": "code",
   "execution_count": 20,
   "metadata": {},
   "outputs": [],
   "source": [
    "path=DTR.cost_complexity_pruning_path(X_train,y_train)"
   ]
  },
  {
   "cell_type": "code",
   "execution_count": 21,
   "metadata": {},
   "outputs": [
    {
     "data": {
      "text/plain": [
       "array([0.00000000e+00, 4.87090136e-17, 4.87090136e-17, ...,\n",
       "       1.14544931e-02, 1.28688176e-02, 7.41446762e-02])"
      ]
     },
     "execution_count": 21,
     "metadata": {},
     "output_type": "execute_result"
    }
   ],
   "source": [
    "ccp_alphas,impurities=path.ccp_alphas, path.impurities\n",
    "ccp_alphas"
   ]
  },
  {
   "cell_type": "code",
   "execution_count": 22,
   "metadata": {},
   "outputs": [
    {
     "data": {
      "text/plain": [
       "1107"
      ]
     },
     "execution_count": 22,
     "metadata": {},
     "output_type": "execute_result"
    }
   ],
   "source": [
    "# Find the number of alphas that the function has find out.\n",
    "len(ccp_alphas)"
   ]
  },
  {
   "cell_type": "code",
   "execution_count": 23,
   "metadata": {},
   "outputs": [],
   "source": [
    "# Run the model with each of the alpha values and calculate the MAE for training and test data.\n",
    "\n",
    "# List to hold all the decision trees created for different value of alphas\n",
    "DTRs=[]\n",
    "\n",
    "# List to hold the different values of MAE for the training and test predictions to find the best one.\n",
    "MAE_train=[]\n",
    "MAE_test=[]\n",
    "\n",
    "# Loop through the alphas\n",
    "for ccp in ccp_alphas:\n",
    "    DTR_for_diff_alpha=DecisionTreeRegressor(ccp_alpha=ccp,random_state=1)\n",
    "    DTRs.append(DTR_for_diff_alpha.fit(X_train,y_train))\n",
    "    \n",
    "#   Calculate in MAE for different values of alpha\n",
    "    y_predict_train=DTR_for_diff_alpha.predict(X_train)\n",
    "    y_predict_test=DTR_for_diff_alpha.predict(X_test)\n",
    "    \n",
    "    MAE_train.append(mae(y_predict_train,y_train))\n",
    "    MAE_test.append(mae(y_predict_test,y_test))\n",
    "    "
   ]
  },
  {
   "cell_type": "code",
   "execution_count": 24,
   "metadata": {},
   "outputs": [
    {
     "data": {
      "image/png": "[encoded data removed]",
      "text/plain": [
       "<Figure size 10800x576 with 1 Axes>"
      ]
     },
     "metadata": {
      "needs_background": "light"
     },
     "output_type": "display_data"
    }
   ],
   "source": [
    "plt.figure(figsize=(150,8))\n",
    "plt.plot(ccp_alphas,MAE_train,marker='o',label='Training',drawstyle='steps-post')\n",
    "plt.plot(ccp_alphas,MAE_test,marker='o',label='Test',drawstyle='steps-post')\n",
    "plt.legend()\n",
    "plt.show()"
   ]
  },
  {
   "cell_type": "code",
   "execution_count": 25,
   "metadata": {},
   "outputs": [],
   "source": [
    "np.set_printoptions(suppress=True)"
   ]
  },
  {
   "cell_type": "code",
   "execution_count": 26,
   "metadata": {},
   "outputs": [],
   "source": [
    "# Looking at the graph it is not easy to interpret the best value for alpha for which we are getting the lowest MAE on \n",
    "# the testing data. So we have to try to find it out from other means.\n",
    "\n",
    "MAE_test_array=np.array(MAE_test)"
   ]
  },
  {
   "cell_type": "code",
   "execution_count": 27,
   "metadata": {},
   "outputs": [
    {
     "data": {
      "text/plain": [
       "926"
      ]
     },
     "execution_count": 27,
     "metadata": {},
     "output_type": "execute_result"
    }
   ],
   "source": [
    "MAE_test_array.argmin()"
   ]
  },
  {
   "cell_type": "code",
   "execution_count": 28,
   "metadata": {},
   "outputs": [
    {
     "data": {
      "text/plain": [
       "numpy.ndarray"
      ]
     },
     "execution_count": 28,
     "metadata": {},
     "output_type": "execute_result"
    }
   ],
   "source": [
    "ccp_alphas_array=np.array(ccp_alphas)\n",
    "type(ccp_alphas_array)"
   ]
  },
  {
   "cell_type": "code",
   "execution_count": 29,
   "metadata": {},
   "outputs": [
    {
     "data": {
      "text/plain": [
       "3.0103894850228252e-05"
      ]
     },
     "execution_count": 29,
     "metadata": {},
     "output_type": "execute_result"
    }
   ],
   "source": [
    "ccp_alphas_array[MAE_test_array.argmin()]"
   ]
  },
  {
   "cell_type": "markdown",
   "metadata": {},
   "source": [
    "### Now use the best value for alpha to create the decision tree for both the training and test data set. The train accuracy will suffer due to this, but this should help to increase the test accuracy which will make our model more generic."
   ]
  },
  {
   "cell_type": "code",
   "execution_count": 30,
   "metadata": {},
   "outputs": [
    {
     "name": "stdout",
     "output_type": "stream",
     "text": [
      "0.04804695679715023\n",
      "0.13777020914300295\n"
     ]
    }
   ],
   "source": [
    "DTR_best_alpha=DecisionTreeRegressor(random_state=1, ccp_alpha=2.9910600990817947e-05)\n",
    "DTR_best_alpha.fit(X_train,y_train)\n",
    "\n",
    "y_predict_train_bestalpha=DTR_best_alpha.predict(X_train)\n",
    "y_predict_test_bestalpha=DTR_best_alpha.predict(X_test)\n",
    "\n",
    "print(mae(y_predict_train_bestalpha,y_train))\n",
    "print(mae(y_predict_test_bestalpha,y_test))"
   ]
  },
  {
   "cell_type": "markdown",
   "metadata": {},
   "source": [
    "### We can notice that the mae is dropped for the testing predictions which means the model is doing better on the new data and the training set predicitions mae is jumped up from 0 to 0.04 which means that now the model is not fitting the training data to closely so it is not doing the overfitting"
   ]
  },
  {
   "cell_type": "code",
   "execution_count": 43,
   "metadata": {},
   "outputs": [
    {
     "data": {
      "image/png": "[encoded data removed]",
      "text/plain": [
       "<Figure size 864x576 with 1 Axes>"
      ]
     },
     "metadata": {
      "needs_background": "light"
     },
     "output_type": "display_data"
    }
   ],
   "source": [
    "# Plot the tree\n",
    "plt.figure(figsize=(12,8))\n",
    "tree.plot_tree(DTR_best_alpha,filled=True)\n",
    "plt.savefig('high_res_dt.png',dpi=600)"
   ]
  },
  {
   "cell_type": "code",
   "execution_count": 44,
   "metadata": {},
   "outputs": [
    {
     "name": "stdout",
     "output_type": "stream",
     "text": [
      "13\n",
      "190\n"
     ]
    }
   ],
   "source": [
    "print(DTR_best_alpha.tree_.max_depth)\n",
    "print(DTR_best_alpha.tree_.n_leaves)"
   ]
  },
  {
   "cell_type": "markdown",
   "metadata": {},
   "source": [
    "### Trying the find the best value for alpha using the k fold cross validation technique and check if we are getting any better results."
   ]
  },
  {
   "cell_type": "code",
   "execution_count": 15,
   "metadata": {},
   "outputs": [
    {
     "data": {
      "text/plain": [
       "-0.14544334097988604"
      ]
     },
     "execution_count": 15,
     "metadata": {},
     "output_type": "execute_result"
    }
   ],
   "source": [
    "DTR_KfoldCV = DecisionTreeRegressor(random_state=1)\n",
    "\n",
    "# path=DTR_Kfold CV.cost_complexity_pruning_path()\n",
    "cross_val_score(DTR_KfoldCV,X,y,cv=10,scoring='neg_mean_absolute_error').mean()\n",
    "\n",
    "# Tried to do it, but it seems the cross val score is used to find the best score of the model using any given scoring meteric\n",
    "# like Mean Absolute Error or Mean Squraed Error for Regression problems and Accuracy for classification problems\n",
    "\n",
    "# So in this case, we can't use cross validation to find the best value of alpha. We have to manually run the loops for the same\n",
    "# Atleast so far. If we get any better solution, we come back and update our knowledge."
   ]
  },
  {
   "cell_type": "markdown",
   "metadata": {},
   "source": [
    "## Pre Pruning"
   ]
  },
  {
   "cell_type": "markdown",
   "metadata": {},
   "source": [
    "#####  We can use 10 fold cross validation to find the best hyperparameters for sample split"
   ]
  },
  {
   "cell_type": "code",
   "execution_count": 7,
   "metadata": {},
   "outputs": [],
   "source": [
    "min_sample_split_values=np.arange(10,100)\n",
    "# min_sample_split_values"
   ]
  },
  {
   "cell_type": "code",
   "execution_count": 8,
   "metadata": {},
   "outputs": [
    {
     "name": "stdout",
     "output_type": "stream",
     "text": [
      "[0.14090063838261233, 0.14167370090710685, 0.14140331027110736, 0.1402271925494528, 0.1397289182102059, 0.13740769869898106, 0.13763097633547888, 0.13751745799019238, 0.1372520660055044, 0.13605656282509765, 0.13616192372941724, 0.13685483643862567, 0.13635690437647754, 0.13548160804108295, 0.13720571857130676, 0.13571252689380045, 0.13526194141557804, 0.1357212895574857, 0.13731923871194146, 0.1361935018488993, 0.13656770145423042, 0.13683536273949942, 0.1375808862196253, 0.13731178386144766, 0.13792093178650805, 0.13798918349128544, 0.13814703018889268, 0.13867095009771152, 0.1385106630249106, 0.13949052453748317, 0.1391492051359044, 0.14028323843767243, 0.13989400154520842, 0.1396491333882871, 0.14056732734917246, 0.14033514908855974, 0.14049924303154676, 0.14048986128698468, 0.14060970517237234, 0.1411353489639256, 0.14113968404789695, 0.1416166413399688, 0.14135145954737652, 0.1413098491897474, 0.14207016564830427, 0.14305931208363185, 0.1441231193999627, 0.14363925983800535, 0.14416523354004288, 0.1446128942635867, 0.14523276863369794, 0.14548358978463236, 0.14528242235031277, 0.14613650105377865, 0.14633631581315265, 0.14587840274330913, 0.14635764086033387, 0.146377061922381, 0.1462918356514671, 0.1461654009423491, 0.14647757723809465, 0.14607736983465813, 0.14617201398994828, 0.14603772849060243, 0.14632716437242163, 0.14630278740822136, 0.14616949888234576, 0.14660763420488138, 0.14663441138582495, 0.14677953020081844, 0.14679429511553696, 0.14660146929698373, 0.14689798409988894, 0.14710448987148922, 0.14728498572483276, 0.14730652026405008, 0.14693169559281474, 0.14721186705520117, 0.14819901293546883, 0.14800710888635532, 0.1481729000120547, 0.14801810298471552, 0.1481099035788918, 0.14839544763045037, 0.1486538336325102, 0.1487367704774053, 0.14873761201133134, 0.14877838907264038, 0.1485915345203756, 0.14885197150631174]\n"
     ]
    }
   ],
   "source": [
    "mean_scores=[]\n",
    "for min_sample_split_val in min_sample_split_values:\n",
    "    DTR_pre_pruning=DecisionTreeRegressor(random_state=1, min_samples_split=min_sample_split_val)\n",
    "    mean_scores.append((-cross_val_score(DTR_pre_pruning,X,y,cv=10,scoring='neg_mean_absolute_error')).mean())\n",
    "\n",
    "print (mean_scores)\n"
   ]
  },
  {
   "cell_type": "code",
   "execution_count": 20,
   "metadata": {
    "collapsed": true
   },
   "outputs": [
    {
     "data": {
      "text/plain": [
       "[<matplotlib.axis.XTick at 0x2d6be7e9408>,\n",
       " <matplotlib.axis.XTick at 0x2d6be7e9808>,\n",
       " <matplotlib.axis.XTick at 0x2d6be7e7988>,\n",
       " <matplotlib.axis.XTick at 0x2d6be8683c8>,\n",
       " <matplotlib.axis.XTick at 0x2d6be86d188>,\n",
       " <matplotlib.axis.XTick at 0x2d6be8720c8>,\n",
       " <matplotlib.axis.XTick at 0x2d6be872c08>,\n",
       " <matplotlib.axis.XTick at 0x2d6be876948>,\n",
       " <matplotlib.axis.XTick at 0x2d6be87b788>,\n",
       " <matplotlib.axis.XTick at 0x2d6be86d208>,\n",
       " <matplotlib.axis.XTick at 0x2d6be880308>,\n",
       " <matplotlib.axis.XTick at 0x2d6be884048>,\n",
       " <matplotlib.axis.XTick at 0x2d6be884d48>,\n",
       " <matplotlib.axis.XTick at 0x2d6be887a88>,\n",
       " <matplotlib.axis.XTick at 0x2d6be88a7c8>,\n",
       " <matplotlib.axis.XTick at 0x2d6be88f5c8>,\n",
       " <matplotlib.axis.XTick at 0x2d6be8804c8>,\n",
       " <matplotlib.axis.XTick at 0x2d6be88ff88>,\n",
       " <matplotlib.axis.XTick at 0x2d6be894cc8>,\n",
       " <matplotlib.axis.XTick at 0x2d6be896a08>,\n",
       " <matplotlib.axis.XTick at 0x2d6be89b748>,\n",
       " <matplotlib.axis.XTick at 0x2d6be8a0488>,\n",
       " <matplotlib.axis.XTick at 0x2d6be8a51c8>,\n",
       " <matplotlib.axis.XTick at 0x2d6be894548>,\n",
       " <matplotlib.axis.XTick at 0x2d6be8a5b48>,\n",
       " <matplotlib.axis.XTick at 0x2d6be8a9888>,\n",
       " <matplotlib.axis.XTick at 0x2d6be8ab5c8>,\n",
       " <matplotlib.axis.XTick at 0x2d6be8af308>,\n",
       " <matplotlib.axis.XTick at 0x2d6be8b4048>,\n",
       " <matplotlib.axis.XTick at 0x2d6be8b4d48>,\n",
       " <matplotlib.axis.XTick at 0x2d6be8ab048>,\n",
       " <matplotlib.axis.XTick at 0x2d6be8ba5c8>,\n",
       " <matplotlib.axis.XTick at 0x2d6be8bb448>,\n",
       " <matplotlib.axis.XTick at 0x2d6be8be1c8>,\n",
       " <matplotlib.axis.XTick at 0x2d6be8beec8>,\n",
       " <matplotlib.axis.XTick at 0x2d6be8c4c08>,\n",
       " <matplotlib.axis.XTick at 0x2d6be8c9948>,\n",
       " <matplotlib.axis.XTick at 0x2d6be8c9388>,\n",
       " <matplotlib.axis.XTick at 0x2d6be8cd148>,\n",
       " <matplotlib.axis.XTick at 0x2d6be8d2148>,\n",
       " <matplotlib.axis.XTick at 0x2d6be8d2e48>,\n",
       " <matplotlib.axis.XTick at 0x2d6be8d5b88>,\n",
       " <matplotlib.axis.XTick at 0x2d6be8db8c8>,\n",
       " <matplotlib.axis.XTick at 0x2d6be8de608>,\n",
       " <matplotlib.axis.XTick at 0x2d6be8de7c8>,\n",
       " <matplotlib.axis.XTick at 0x2d6be8be748>,\n",
       " <matplotlib.axis.XTick at 0x2d6be8e1e08>,\n",
       " <matplotlib.axis.XTick at 0x2d6be8e6b88>,\n",
       " <matplotlib.axis.XTick at 0x2d6be8eb908>,\n",
       " <matplotlib.axis.XTick at 0x2d6be8ee688>,\n",
       " <matplotlib.axis.XTick at 0x2d6be8f3408>,\n",
       " <matplotlib.axis.XTick at 0x2d6be8f3a08>,\n",
       " <matplotlib.axis.XTick at 0x2d6be8d2f08>,\n",
       " <matplotlib.axis.XTick at 0x2d6be8f7cc8>,\n",
       " <matplotlib.axis.XTick at 0x2d6be8faa48>,\n",
       " <matplotlib.axis.XTick at 0x2d6be9007c8>,\n",
       " <matplotlib.axis.XTick at 0x2d6be903548>,\n",
       " <matplotlib.axis.XTick at 0x2d6be9072c8>,\n",
       " <matplotlib.axis.XTick at 0x2d6be907608>,\n",
       " <matplotlib.axis.XTick at 0x2d6be903608>,\n",
       " <matplotlib.axis.XTick at 0x2d6be90ab88>,\n",
       " <matplotlib.axis.XTick at 0x2d6be90e908>,\n",
       " <matplotlib.axis.XTick at 0x2d6be911688>,\n",
       " <matplotlib.axis.XTick at 0x2d6be918408>,\n",
       " <matplotlib.axis.XTick at 0x2d6be91c188>,\n",
       " <matplotlib.axis.XTick at 0x2d6be90ee88>,\n",
       " <matplotlib.axis.XTick at 0x2d6be8c9ec8>,\n",
       " <matplotlib.axis.XTick at 0x2d6be91c248>,\n",
       " <matplotlib.axis.XTick at 0x2d6be921d08>,\n",
       " <matplotlib.axis.XTick at 0x2d6be924a88>,\n",
       " <matplotlib.axis.XTick at 0x2d6be928808>,\n",
       " <matplotlib.axis.XTick at 0x2d6be92c588>,\n",
       " <matplotlib.axis.XTick at 0x2d6be92c8c8>,\n",
       " <matplotlib.axis.XTick at 0x2d6be90e108>,\n",
       " <matplotlib.axis.XTick at 0x2d6be931d88>,\n",
       " <matplotlib.axis.XTick at 0x2d6be933b08>,\n",
       " <matplotlib.axis.XTick at 0x2d6be937888>,\n",
       " <matplotlib.axis.XTick at 0x2d6be93a608>,\n",
       " <matplotlib.axis.XTick at 0x2d6be940388>,\n",
       " <matplotlib.axis.XTick at 0x2d6be9406c8>,\n",
       " <matplotlib.axis.XTick at 0x2d6be93a688>,\n",
       " <matplotlib.axis.XTick at 0x2d6be946b88>,\n",
       " <matplotlib.axis.XTick at 0x2d6be948908>,\n",
       " <matplotlib.axis.XTick at 0x2d6be94c688>,\n",
       " <matplotlib.axis.XTick at 0x2d6beda0408>,\n",
       " <matplotlib.axis.XTick at 0x2d6beda3188>,\n",
       " <matplotlib.axis.XTick at 0x2d6be94c108>,\n",
       " <matplotlib.axis.XTick at 0x2d6beda3d48>,\n",
       " <matplotlib.axis.XTick at 0x2d6bedaa988>,\n",
       " <matplotlib.axis.XTick at 0x2d6bedac708>]"
      ]
     },
     "execution_count": 20,
     "metadata": {},
     "output_type": "execute_result"
    },
    {
     "data": {
      "image/png": "[encoded data removed]",
      "text/plain": [
       "<Figure size 1440x360 with 1 Axes>"
      ]
     },
     "metadata": {
      "needs_background": "light"
     },
     "output_type": "display_data"
    }
   ],
   "source": [
    "fig,ax=plt.subplots(figsize=(20,5))\n",
    "ax.plot(min_sample_split_values,mean_scores,marker='o',alpha=0.8)\n",
    "# ax.set_xticks(min_sample_split_values,minor=True)\n",
    "ax.set_xticks(min_sample_split_values)\n",
    "# ax.get_xlim()"
   ]
  },
  {
   "cell_type": "code",
   "execution_count": 26,
   "metadata": {},
   "outputs": [
    {
     "data": {
      "text/plain": [
       "(array([16], dtype=int64),)"
      ]
     },
     "execution_count": 26,
     "metadata": {},
     "output_type": "execute_result"
    }
   ],
   "source": [
    "# Find the Index of the minimum value\n",
    "np.where(min_sample_split_values==26)"
   ]
  },
  {
   "cell_type": "code",
   "execution_count": 41,
   "metadata": {},
   "outputs": [
    {
     "data": {
      "text/plain": [
       "0.13526194141557804"
      ]
     },
     "execution_count": 41,
     "metadata": {},
     "output_type": "execute_result"
    }
   ],
   "source": [
    "# Use the index of the minimum value to find the lowest mean score in the mean_scores list\n",
    "mean_scores[16]"
   ]
  },
  {
   "cell_type": "code",
   "execution_count": 33,
   "metadata": {},
   "outputs": [],
   "source": [
    "# Now use this minimum sample split size which gave the minimum MAE score to form the decision tree\n",
    "DTR_Prepruninig_minSampleSize=DecisionTreeRegressor(min_samples_split=26)\n"
   ]
  },
  {
   "cell_type": "code",
   "execution_count": 36,
   "metadata": {},
   "outputs": [
    {
     "name": "stdout",
     "output_type": "stream",
     "text": [
      "0.08239970963019566\n",
      "0.1411623944249611\n"
     ]
    }
   ],
   "source": [
    "DTR_Prepruninig_minSampleSize.fit(X_train,y_train)\n",
    "y_predict_train=DTR_Prepruninig_minSampleSize.predict(X_train)\n",
    "y_predict_test=DTR_Prepruninig_minSampleSize.predict(X_test)\n",
    "print(mae(y_predict_train,y_train))\n",
    "print(mae(y_predict_test,y_test))"
   ]
  },
  {
   "cell_type": "markdown",
   "metadata": {},
   "source": [
    "### Points to Note - \n",
    "#### The MAE for pruning with cost complexity pruning is lower than min sample split pruning while applying the model to 80 20 split.\n",
    "#### The MAE of min sample split during cross validation was lower than post pruning value, but when we applied the best value of min_sample_split_value on the decision trees with 80 20 split, then the MAE didn't come lower than that post pruning MAE. Not sure of the correct reason for this, but 1 possible reason would be that during cross validation we did the testing with 90 10 split and taken the mean. So in that process, the value for some split would have come very low due to overfitting and that reduced the overall mean value to be reduced to smaller value of MAE as compared to POST PRUNING."
   ]
  },
  {
   "cell_type": "code",
   "execution_count": 40,
   "metadata": {},
   "outputs": [
    {
     "data": {
      "text/plain": [
       "array([-0.13107022, -0.14751137, -0.13542258, -0.14900964, -0.12681661,\n",
       "       -0.12401004, -0.12679416, -0.12851953, -0.15606632, -0.12739895])"
      ]
     },
     "execution_count": 40,
     "metadata": {},
     "output_type": "execute_result"
    }
   ],
   "source": [
    "# Testing the code to see the individual values for best min sampale split value=26\n",
    "DTR_pre_pruning=DecisionTreeRegressor(random_state=1, min_samples_split=26)\n",
    "cross_val_score(DTR_pre_pruning,X,y,cv=10,scoring='neg_mean_absolute_error')\n",
    "\n",
    "# It seems the majority of the scores were very close to .12 which caused the mean to come down significantly but when we used\n",
    "# the train test split, we just took a single sample size of 80 20 ratio and applied the prediction on the same which gave it\n",
    "# the higher MAE as compared to the cross val score method."
   ]
  }
 ],
 "metadata": {
  "kernelspec": {
   "display_name": "Python 3 (ipykernel)",
   "language": "python",
   "name": "python3"
  },
  "language_info": {
   "codemirror_mode": {
    "name": "ipython",
    "version": 3
   },
   "file_extension": ".py",
   "mimetype": "text/x-python",
   "name": "python",
   "nbconvert_exporter": "python",
   "pygments_lexer": "ipython3",
   "version": "3.7.13"
  }
 },
 "nbformat": 4,
 "nbformat_minor": 2
}
